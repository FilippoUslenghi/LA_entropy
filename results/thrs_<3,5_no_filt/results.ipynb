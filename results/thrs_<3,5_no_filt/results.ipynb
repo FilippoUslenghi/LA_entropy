{
 "cells": [
  {
   "cell_type": "code",
   "execution_count": 1,
   "id": "2dc95d09",
   "metadata": {},
   "outputs": [
    {
     "data": {
      "application/vnd.microsoft.datawrangler.viewer.v0+json": {
       "columns": [
        {
         "name": "index",
         "rawType": "int64",
         "type": "integer"
        },
        {
         "name": "Patient ID",
         "rawType": "int64",
         "type": "integer"
        },
        {
         "name": "Phenotype",
         "rawType": "object",
         "type": "string"
        },
        {
         "name": "Substrate",
         "rawType": "object",
         "type": "string"
        }
       ],
       "conversionMethod": "pd.DataFrame",
       "ref": "56d0b627-2d4f-45a7-9be0-a01979cd771c",
       "rows": [
        [
         "3",
         "9",
         "Persistent",
         "Abnormal"
        ],
        [
         "4",
         "10",
         "Paroxysmal",
         "Normal"
        ],
        [
         "5",
         "11",
         "Persistent",
         "Normal"
        ],
        [
         "6",
         "12",
         "Persistent",
         "Abnormal"
        ],
        [
         "7",
         "13",
         "Persistent",
         "Abnormal"
        ],
        [
         "8",
         "14",
         "Paroxysmal",
         "Normal"
        ],
        [
         "9",
         "15",
         "Paroxysmal",
         "Normal"
        ],
        [
         "10",
         "16",
         "Persistent",
         "Abnormal"
        ],
        [
         "11",
         "17",
         "Paroxysmal",
         "Normal"
        ],
        [
         "12",
         "18",
         "Paroxysmal",
         "Normal"
        ],
        [
         "13",
         "19",
         "Persistent",
         "Normal"
        ],
        [
         "14",
         "20",
         "Paroxysmal",
         "Normal"
        ],
        [
         "15",
         "21",
         "Paroxysmal",
         "Normal"
        ],
        [
         "16",
         "22",
         "Persistent",
         "Abnormal"
        ],
        [
         "17",
         "23",
         "Paroxysmal",
         "Normal"
        ],
        [
         "20",
         "3",
         "Parossistica",
         "Normale"
        ],
        [
         "21",
         "4",
         "Parossistica",
         "Normale"
        ],
        [
         "22",
         "5",
         "Parossistica",
         "Normale"
        ],
        [
         "23",
         "6",
         "Parossistica",
         "Patologia posteriore + altri"
        ],
        [
         "24",
         "7",
         "Persistente",
         "Patologia parete posteriore"
        ],
        [
         "26",
         "9",
         "Parossistica",
         "Normale"
        ],
        [
         "27",
         "10",
         "Persistente",
         "Normale"
        ],
        [
         "28",
         "11",
         "Parossistica",
         "Patologia altri distretti"
        ],
        [
         "29",
         "12",
         "Parossistica",
         "Normale"
        ],
        [
         "30",
         "13",
         "Persistente",
         "Patologia altri distretti"
        ],
        [
         "31",
         "14",
         "Parossistica",
         "Normale"
        ],
        [
         "32",
         "15",
         "Parossistica",
         "Normale"
        ],
        [
         "35",
         "18",
         "Parossistica",
         "Normale"
        ],
        [
         "38",
         "21",
         "Parossistica",
         "Normale"
        ],
        [
         "39",
         "22",
         "Parossistica",
         "Normale"
        ],
        [
         "40",
         "23",
         "Parossistica",
         "Normale"
        ],
        [
         "41",
         "24",
         "Persistente",
         "Patologia altri distretti"
        ],
        [
         "42",
         "25",
         "Parossistica",
         "Normale"
        ],
        [
         "43",
         "26",
         "Long standing persistent",
         "Patologia posteriore + altri"
        ],
        [
         "44",
         "27",
         "Long standing persistent",
         "Normale"
        ],
        [
         "45",
         "28",
         "Parossistica",
         "Normale"
        ],
        [
         "46",
         "29",
         "Parossistica",
         "Normale"
        ],
        [
         "47",
         "30",
         "Persistente",
         "Patologia parete posteriore"
        ],
        [
         "48",
         "31",
         "Parossistica",
         "Normale"
        ],
        [
         "50",
         "33",
         "Parossistica",
         "Normale"
        ],
        [
         "51",
         "34",
         "Parossistica",
         "Normale"
        ],
        [
         "52",
         "35",
         "Parossistica",
         "Normale"
        ],
        [
         "53",
         "36",
         "Persistente",
         "Patologia posteriore + altri"
        ],
        [
         "55",
         "38",
         "Persistente",
         "Normale"
        ],
        [
         "56",
         "39",
         "Parossistica",
         "Normale"
        ],
        [
         "57",
         "40",
         "Parossistica",
         "Patologia altri distretti"
        ],
        [
         "58",
         "41",
         "Parossistica",
         "Normale"
        ],
        [
         "59",
         "42",
         "Parossistica",
         "Normale"
        ],
        [
         "60",
         "43",
         "Persistente",
         "Patologia parete posteriore"
        ],
        [
         "61",
         "44",
         "Parossistica",
         "Normale"
        ]
       ],
       "shape": {
        "columns": 3,
        "rows": 161
       }
      },
      "text/html": [
       "<div>\n",
       "<style scoped>\n",
       "    .dataframe tbody tr th:only-of-type {\n",
       "        vertical-align: middle;\n",
       "    }\n",
       "\n",
       "    .dataframe tbody tr th {\n",
       "        vertical-align: top;\n",
       "    }\n",
       "\n",
       "    .dataframe thead th {\n",
       "        text-align: right;\n",
       "    }\n",
       "</style>\n",
       "<table border=\"1\" class=\"dataframe\">\n",
       "  <thead>\n",
       "    <tr style=\"text-align: right;\">\n",
       "      <th></th>\n",
       "      <th>Patient ID</th>\n",
       "      <th>Phenotype</th>\n",
       "      <th>Substrate</th>\n",
       "    </tr>\n",
       "  </thead>\n",
       "  <tbody>\n",
       "    <tr>\n",
       "      <th>3</th>\n",
       "      <td>9</td>\n",
       "      <td>Persistent</td>\n",
       "      <td>Abnormal</td>\n",
       "    </tr>\n",
       "    <tr>\n",
       "      <th>4</th>\n",
       "      <td>10</td>\n",
       "      <td>Paroxysmal</td>\n",
       "      <td>Normal</td>\n",
       "    </tr>\n",
       "    <tr>\n",
       "      <th>5</th>\n",
       "      <td>11</td>\n",
       "      <td>Persistent</td>\n",
       "      <td>Normal</td>\n",
       "    </tr>\n",
       "    <tr>\n",
       "      <th>6</th>\n",
       "      <td>12</td>\n",
       "      <td>Persistent</td>\n",
       "      <td>Abnormal</td>\n",
       "    </tr>\n",
       "    <tr>\n",
       "      <th>7</th>\n",
       "      <td>13</td>\n",
       "      <td>Persistent</td>\n",
       "      <td>Abnormal</td>\n",
       "    </tr>\n",
       "    <tr>\n",
       "      <th>...</th>\n",
       "      <td>...</td>\n",
       "      <td>...</td>\n",
       "      <td>...</td>\n",
       "    </tr>\n",
       "    <tr>\n",
       "      <th>177</th>\n",
       "      <td>160</td>\n",
       "      <td>Parossistica</td>\n",
       "      <td>Normale</td>\n",
       "    </tr>\n",
       "    <tr>\n",
       "      <th>178</th>\n",
       "      <td>161</td>\n",
       "      <td>Parossistica</td>\n",
       "      <td>Normale</td>\n",
       "    </tr>\n",
       "    <tr>\n",
       "      <th>179</th>\n",
       "      <td>162</td>\n",
       "      <td>Parossistica</td>\n",
       "      <td>Normale</td>\n",
       "    </tr>\n",
       "    <tr>\n",
       "      <th>232</th>\n",
       "      <td>215</td>\n",
       "      <td>Parossistica</td>\n",
       "      <td>Normale</td>\n",
       "    </tr>\n",
       "    <tr>\n",
       "      <th>236</th>\n",
       "      <td>219</td>\n",
       "      <td>Persistente</td>\n",
       "      <td>Patologia altri distretti</td>\n",
       "    </tr>\n",
       "  </tbody>\n",
       "</table>\n",
       "<p>161 rows × 3 columns</p>\n",
       "</div>"
      ],
      "text/plain": [
       "     Patient ID     Phenotype                  Substrate\n",
       "3             9    Persistent                   Abnormal\n",
       "4            10    Paroxysmal                     Normal\n",
       "5            11    Persistent                     Normal\n",
       "6            12    Persistent                   Abnormal\n",
       "7            13    Persistent                   Abnormal\n",
       "..          ...           ...                        ...\n",
       "177         160  Parossistica                    Normale\n",
       "178         161  Parossistica                    Normale\n",
       "179         162  Parossistica                    Normale\n",
       "232         215  Parossistica                    Normale\n",
       "236         219   Persistente  Patologia altri distretti\n",
       "\n",
       "[161 rows x 3 columns]"
      ]
     },
     "metadata": {},
     "output_type": "display_data"
    },
    {
     "data": {
      "application/vnd.microsoft.datawrangler.viewer.v0+json": {
       "columns": [
        {
         "name": "index",
         "rawType": "int64",
         "type": "integer"
        },
        {
         "name": "Patient ID",
         "rawType": "int64",
         "type": "integer"
        },
        {
         "name": "Entropy",
         "rawType": "int64",
         "type": "integer"
        },
        {
         "name": "LASE",
         "rawType": "float64",
         "type": "float"
        }
       ],
       "conversionMethod": "pd.DataFrame",
       "ref": "47f860ac-d3c7-44db-b4c2-3d28dc1129c4",
       "rows": [
        [
         "2",
         "100",
         "0",
         "1.16467555451182"
        ],
        [
         "3",
         "101",
         "0",
         "0.849187127067342"
        ],
        [
         "4",
         "102",
         "0",
         "1.06847050314989"
        ],
        [
         "5",
         "103",
         "0",
         "0.744710615785793"
        ],
        [
         "6",
         "104",
         "0",
         "1.00927450792878"
        ],
        [
         "7",
         "105",
         "0",
         "0.882009489992922"
        ],
        [
         "8",
         "106",
         "0",
         "0.94913285236607"
        ],
        [
         "9",
         "107",
         "0",
         "1.13874291717067"
        ],
        [
         "10",
         "110",
         "0",
         "0.838369858216513"
        ],
        [
         "11",
         "111",
         "0",
         "0.654534434199946"
        ],
        [
         "12",
         "112",
         "0",
         "0.822133931738616"
        ],
        [
         "13",
         "113",
         "0",
         "0.746134696045144"
        ],
        [
         "14",
         "115",
         "0",
         "1.06626947177401"
        ],
        [
         "15",
         "117",
         "0",
         "0.909194734823577"
        ],
        [
         "16",
         "117",
         "0",
         "0.0"
        ],
        [
         "17",
         "1191",
         "0",
         "0.500157520985953"
        ],
        [
         "18",
         "1192",
         "0",
         "1.06626947177401"
        ],
        [
         "19",
         "120",
         "0",
         "0.817259193351309"
        ],
        [
         "20",
         "123",
         "0",
         "1.17516805031876"
        ],
        [
         "21",
         "124",
         "0",
         "1.09510999890569"
        ],
        [
         "22",
         "125",
         "0",
         "0.830831908301591"
        ],
        [
         "23",
         "126",
         "0",
         "0.787456377146653"
        ],
        [
         "24",
         "127",
         "0",
         "1.10483810315977"
        ],
        [
         "25",
         "128",
         "0",
         "0.834163715221373"
        ],
        [
         "26",
         "129",
         "0",
         "0.998813407519916"
        ],
        [
         "27",
         "131",
         "0",
         "0.854924881529325"
        ],
        [
         "28",
         "134",
         "0",
         "0.988663074114965"
        ],
        [
         "29",
         "135",
         "0",
         "1.0174256095159"
        ],
        [
         "30",
         "137",
         "0",
         "0.94885490544492"
        ],
        [
         "31",
         "138",
         "0",
         "1.0174256095159"
        ],
        [
         "32",
         "139",
         "0",
         "0.984641670871904"
        ],
        [
         "33",
         "140",
         "0",
         "0.948135854776626"
        ],
        [
         "34",
         "142",
         "0",
         "0.641814591450544"
        ],
        [
         "35",
         "143",
         "0",
         "0.381561865376204"
        ],
        [
         "36",
         "144",
         "0",
         "0.856596559498408"
        ],
        [
         "37",
         "145",
         "0",
         "1.02978490494757"
        ],
        [
         "38",
         "146",
         "0",
         "1.07088818050527"
        ],
        [
         "39",
         "147",
         "0",
         "0.861310317216375"
        ],
        [
         "40",
         "148",
         "0",
         "1.0282019019348"
        ],
        [
         "41",
         "149",
         "0",
         "1.0174256095159"
        ],
        [
         "42",
         "150",
         "0",
         "0.775818064983509"
        ],
        [
         "43",
         "151",
         "0",
         "0.921542608512898"
        ],
        [
         "44",
         "40",
         "0",
         "0.89728652637624"
        ],
        [
         "45",
         "41",
         "0",
         "0.886550073754034"
        ],
        [
         "46",
         "42",
         "0",
         "1.07654579568809"
        ],
        [
         "47",
         "43",
         "0",
         "1.15571139740247"
        ],
        [
         "48",
         "45",
         "0",
         "1.10790739330039"
        ],
        [
         "49",
         "46",
         "0",
         "1.10084062954521"
        ],
        [
         "50",
         "47",
         "0",
         "1.19982871942736"
        ],
        [
         "51",
         "48",
         "0",
         "1.23031504396328"
        ]
       ],
       "shape": {
        "columns": 3,
        "rows": 97
       }
      },
      "text/html": [
       "<div>\n",
       "<style scoped>\n",
       "    .dataframe tbody tr th:only-of-type {\n",
       "        vertical-align: middle;\n",
       "    }\n",
       "\n",
       "    .dataframe tbody tr th {\n",
       "        vertical-align: top;\n",
       "    }\n",
       "\n",
       "    .dataframe thead th {\n",
       "        text-align: right;\n",
       "    }\n",
       "</style>\n",
       "<table border=\"1\" class=\"dataframe\">\n",
       "  <thead>\n",
       "    <tr style=\"text-align: right;\">\n",
       "      <th></th>\n",
       "      <th>Patient ID</th>\n",
       "      <th>Entropy</th>\n",
       "      <th>LASE</th>\n",
       "    </tr>\n",
       "  </thead>\n",
       "  <tbody>\n",
       "    <tr>\n",
       "      <th>2</th>\n",
       "      <td>100</td>\n",
       "      <td>0</td>\n",
       "      <td>1.164676</td>\n",
       "    </tr>\n",
       "    <tr>\n",
       "      <th>3</th>\n",
       "      <td>101</td>\n",
       "      <td>0</td>\n",
       "      <td>0.849187</td>\n",
       "    </tr>\n",
       "    <tr>\n",
       "      <th>4</th>\n",
       "      <td>102</td>\n",
       "      <td>0</td>\n",
       "      <td>1.068471</td>\n",
       "    </tr>\n",
       "    <tr>\n",
       "      <th>5</th>\n",
       "      <td>103</td>\n",
       "      <td>0</td>\n",
       "      <td>0.744711</td>\n",
       "    </tr>\n",
       "    <tr>\n",
       "      <th>6</th>\n",
       "      <td>104</td>\n",
       "      <td>0</td>\n",
       "      <td>1.009275</td>\n",
       "    </tr>\n",
       "    <tr>\n",
       "      <th>...</th>\n",
       "      <td>...</td>\n",
       "      <td>...</td>\n",
       "      <td>...</td>\n",
       "    </tr>\n",
       "    <tr>\n",
       "      <th>94</th>\n",
       "      <td>94</td>\n",
       "      <td>0</td>\n",
       "      <td>0.879638</td>\n",
       "    </tr>\n",
       "    <tr>\n",
       "      <th>95</th>\n",
       "      <td>95</td>\n",
       "      <td>0</td>\n",
       "      <td>1.193998</td>\n",
       "    </tr>\n",
       "    <tr>\n",
       "      <th>96</th>\n",
       "      <td>96</td>\n",
       "      <td>0</td>\n",
       "      <td>1.074315</td>\n",
       "    </tr>\n",
       "    <tr>\n",
       "      <th>97</th>\n",
       "      <td>97</td>\n",
       "      <td>0</td>\n",
       "      <td>1.027160</td>\n",
       "    </tr>\n",
       "    <tr>\n",
       "      <th>98</th>\n",
       "      <td>98</td>\n",
       "      <td>0</td>\n",
       "      <td>1.023005</td>\n",
       "    </tr>\n",
       "  </tbody>\n",
       "</table>\n",
       "<p>97 rows × 3 columns</p>\n",
       "</div>"
      ],
      "text/plain": [
       "    Patient ID  Entropy      LASE\n",
       "2          100        0  1.164676\n",
       "3          101        0  0.849187\n",
       "4          102        0  1.068471\n",
       "5          103        0  0.744711\n",
       "6          104        0  1.009275\n",
       "..         ...      ...       ...\n",
       "94          94        0  0.879638\n",
       "95          95        0  1.193998\n",
       "96          96        0  1.074315\n",
       "97          97        0  1.027160\n",
       "98          98        0  1.023005\n",
       "\n",
       "[97 rows x 3 columns]"
      ]
     },
     "execution_count": 1,
     "metadata": {},
     "output_type": "execute_result"
    }
   ],
   "source": [
    "import pandas as pd\n",
    "\n",
    "ods = (\n",
    "    pd.read_excel(\n",
    "        \"../../DB AF Completo 1.ods\",\n",
    "    )\n",
    "    .loc[:, [\"ID\", \"Phenotype\", \"Low Voltage / Scar area\"]]\n",
    "    .rename(columns={\"ID\": \"Patient ID\", \"Low Voltage / Scar area\": \"Substrate\"})\n",
    "    .dropna(axis=0, how=\"any\")\n",
    "    .astype({\"Patient ID\": int})\n",
    ")\n",
    "csv = (\n",
    "    pd.read_csv(\"lase.csv\", sep=\",\")\n",
    "    .dropna(axis=0, how=\"any\")\n",
    "    .astype({\"Patient ID\": int})\n",
    ")\n",
    "display(ods)\n",
    "csv"
   ]
  },
  {
   "cell_type": "code",
   "execution_count": 2,
   "id": "95341273",
   "metadata": {},
   "outputs": [
    {
     "data": {
      "application/vnd.microsoft.datawrangler.viewer.v0+json": {
       "columns": [
        {
         "name": "index",
         "rawType": "int64",
         "type": "integer"
        },
        {
         "name": "Patient ID",
         "rawType": "int64",
         "type": "integer"
        },
        {
         "name": "Phenotype",
         "rawType": "object",
         "type": "string"
        },
        {
         "name": "Substrate",
         "rawType": "object",
         "type": "string"
        },
        {
         "name": "Entropy",
         "rawType": "int64",
         "type": "integer"
        },
        {
         "name": "LASE",
         "rawType": "float64",
         "type": "float"
        }
       ],
       "conversionMethod": "pd.DataFrame",
       "ref": "e5c05263-74a2-42c7-924b-4e3d901f75e0",
       "rows": [
        [
         "0",
         "40",
         "Parossistica",
         "Anormale",
         "0",
         "0.89728652637624"
        ],
        [
         "1",
         "41",
         "Parossistica",
         "Normale",
         "0",
         "0.886550073754034"
        ],
        [
         "2",
         "42",
         "Parossistica",
         "Normale",
         "0",
         "1.07654579568809"
        ],
        [
         "3",
         "43",
         "Persistente",
         "Anormale",
         "0",
         "1.15571139740247"
        ],
        [
         "4",
         "45",
         "Persistente",
         "Anormale",
         "0",
         "1.10790739330039"
        ],
        [
         "5",
         "46",
         "Parossistica",
         "Normale",
         "0",
         "1.10084062954521"
        ],
        [
         "6",
         "47",
         "Persistente",
         "Anormale",
         "0",
         "1.19982871942736"
        ],
        [
         "7",
         "48",
         "Persistente",
         "Normale",
         "0",
         "1.23031504396328"
        ],
        [
         "8",
         "49",
         "Persistente",
         "Normale",
         "0",
         "0.923728585904689"
        ],
        [
         "9",
         "50",
         "Parossistica",
         "Normale",
         "0",
         "0.83938596605096"
        ],
        [
         "10",
         "51",
         "Persistente",
         "Normale",
         "0",
         "1.16744646948446"
        ],
        [
         "11",
         "52",
         "Persistente",
         "Normale",
         "0",
         "1.1981791564788"
        ],
        [
         "12",
         "53",
         "Persistente",
         "Normale",
         "0",
         "1.21454633967351"
        ],
        [
         "13",
         "55",
         "Persistente",
         "Anormale",
         "0",
         "1.03853041264614"
        ],
        [
         "14",
         "56",
         "Parossistica",
         "Normale",
         "0",
         "0.882009489992922"
        ],
        [
         "15",
         "57",
         "Parossistica",
         "Normale",
         "0",
         "0.882009489992922"
        ],
        [
         "16",
         "58",
         "Parossistica",
         "Normale",
         "0",
         "1.0174256095159"
        ],
        [
         "17",
         "59",
         "Persistente",
         "Anormale",
         "0",
         "1.0174256095159"
        ],
        [
         "18",
         "60",
         "Parossistica",
         "Normale",
         "0",
         "1.0174256095159"
        ],
        [
         "19",
         "61",
         "Persistente",
         "Anormale",
         "0",
         "0.435474282181434"
        ],
        [
         "20",
         "62",
         "Persistente",
         "Normale",
         "0",
         "0.869058839815518"
        ],
        [
         "21",
         "63",
         "Parossistica",
         "Anormale",
         "0",
         "0.917991522908309"
        ],
        [
         "22",
         "64",
         "Parossistica",
         "Normale",
         "0",
         "0.889911963705411"
        ],
        [
         "23",
         "65",
         "Parossistica",
         "Normale",
         "0",
         "0.834154994441111"
        ],
        [
         "24",
         "66",
         "Persistente",
         "Anormale",
         "0",
         "1.16337755262833"
        ],
        [
         "25",
         "68",
         "Parossistica",
         "Normale",
         "0",
         "0.933235494645055"
        ],
        [
         "26",
         "70",
         "Parossistica",
         "Anormale",
         "0",
         "1.15995784413578"
        ],
        [
         "27",
         "71",
         "Parossistica",
         "Anormale",
         "0",
         "1.03063140618933"
        ],
        [
         "28",
         "72",
         "Persistente",
         "Anormale",
         "0",
         "1.19733959113907"
        ],
        [
         "29",
         "73",
         "Parossistica",
         "Normale",
         "0",
         "1.11241922372962"
        ],
        [
         "30",
         "74",
         "Parossistica",
         "Normale",
         "0",
         "0.974042930508067"
        ],
        [
         "31",
         "75",
         "Parossistica",
         "Anormale",
         "0",
         "1.16586190795062"
        ],
        [
         "32",
         "76",
         "Persistente",
         "Anormale",
         "0",
         "0.937074028434735"
        ],
        [
         "33",
         "77",
         "Persistente",
         "Anormale",
         "0",
         "1.21182692977438"
        ],
        [
         "34",
         "78",
         "Persistente",
         "Anormale",
         "0",
         "1.15693447350882"
        ],
        [
         "35",
         "79",
         "Parossistica",
         "Normale",
         "0",
         "0.889933209454967"
        ],
        [
         "36",
         "80",
         "Parossistica",
         "Normale",
         "0",
         "0.575049102758615"
        ],
        [
         "37",
         "81",
         "Persistente",
         "Anormale",
         "0",
         "1.13688228965096"
        ],
        [
         "38",
         "82",
         "Parossistica",
         "Normale",
         "0",
         "0.746543515001741"
        ],
        [
         "39",
         "83",
         "Parossistica",
         "Normale",
         "0",
         "0.822705504706277"
        ],
        [
         "40",
         "84",
         "Parossistica",
         "Normale",
         "0",
         "1.02748621198261"
        ],
        [
         "41",
         "85",
         "Parossistica",
         "Anormale",
         "0",
         "0.868094847152886"
        ],
        [
         "42",
         "86",
         "Persistente",
         "Normale",
         "0",
         "1.09976457589119"
        ],
        [
         "43",
         "87",
         "Parossistica",
         "Normale",
         "0",
         "0.818966056595933"
        ],
        [
         "44",
         "88",
         "Parossistica",
         "Normale",
         "0",
         "1.00923059209692"
        ],
        [
         "45",
         "89",
         "Parossistica",
         "Normale",
         "0",
         "0.955383286496369"
        ],
        [
         "46",
         "90",
         "Parossistica",
         "Normale",
         "0",
         "0.641295210607488"
        ],
        [
         "47",
         "91",
         "Parossistica",
         "Anormale",
         "0",
         "1.22501543432844"
        ],
        [
         "48",
         "92",
         "Parossistica",
         "Normale",
         "0",
         "0.812859920318471"
        ],
        [
         "49",
         "93",
         "Persistente",
         "Normale",
         "0",
         "1.03013829189953"
        ]
       ],
       "shape": {
        "columns": 5,
        "rows": 92
       }
      },
      "text/html": [
       "<div>\n",
       "<style scoped>\n",
       "    .dataframe tbody tr th:only-of-type {\n",
       "        vertical-align: middle;\n",
       "    }\n",
       "\n",
       "    .dataframe tbody tr th {\n",
       "        vertical-align: top;\n",
       "    }\n",
       "\n",
       "    .dataframe thead th {\n",
       "        text-align: right;\n",
       "    }\n",
       "</style>\n",
       "<table border=\"1\" class=\"dataframe\">\n",
       "  <thead>\n",
       "    <tr style=\"text-align: right;\">\n",
       "      <th></th>\n",
       "      <th>Patient ID</th>\n",
       "      <th>Phenotype</th>\n",
       "      <th>Substrate</th>\n",
       "      <th>Entropy</th>\n",
       "      <th>LASE</th>\n",
       "    </tr>\n",
       "  </thead>\n",
       "  <tbody>\n",
       "    <tr>\n",
       "      <th>0</th>\n",
       "      <td>40</td>\n",
       "      <td>Parossistica</td>\n",
       "      <td>Anormale</td>\n",
       "      <td>0</td>\n",
       "      <td>0.897287</td>\n",
       "    </tr>\n",
       "    <tr>\n",
       "      <th>1</th>\n",
       "      <td>41</td>\n",
       "      <td>Parossistica</td>\n",
       "      <td>Normale</td>\n",
       "      <td>0</td>\n",
       "      <td>0.886550</td>\n",
       "    </tr>\n",
       "    <tr>\n",
       "      <th>2</th>\n",
       "      <td>42</td>\n",
       "      <td>Parossistica</td>\n",
       "      <td>Normale</td>\n",
       "      <td>0</td>\n",
       "      <td>1.076546</td>\n",
       "    </tr>\n",
       "    <tr>\n",
       "      <th>3</th>\n",
       "      <td>43</td>\n",
       "      <td>Persistente</td>\n",
       "      <td>Anormale</td>\n",
       "      <td>0</td>\n",
       "      <td>1.155711</td>\n",
       "    </tr>\n",
       "    <tr>\n",
       "      <th>4</th>\n",
       "      <td>45</td>\n",
       "      <td>Persistente</td>\n",
       "      <td>Anormale</td>\n",
       "      <td>0</td>\n",
       "      <td>1.107907</td>\n",
       "    </tr>\n",
       "    <tr>\n",
       "      <th>...</th>\n",
       "      <td>...</td>\n",
       "      <td>...</td>\n",
       "      <td>...</td>\n",
       "      <td>...</td>\n",
       "      <td>...</td>\n",
       "    </tr>\n",
       "    <tr>\n",
       "      <th>87</th>\n",
       "      <td>147</td>\n",
       "      <td>Parossistica</td>\n",
       "      <td>Normale</td>\n",
       "      <td>0</td>\n",
       "      <td>0.861310</td>\n",
       "    </tr>\n",
       "    <tr>\n",
       "      <th>88</th>\n",
       "      <td>148</td>\n",
       "      <td>Parossistica</td>\n",
       "      <td>Normale</td>\n",
       "      <td>0</td>\n",
       "      <td>1.028202</td>\n",
       "    </tr>\n",
       "    <tr>\n",
       "      <th>89</th>\n",
       "      <td>149</td>\n",
       "      <td>Parossistica</td>\n",
       "      <td>Normale</td>\n",
       "      <td>0</td>\n",
       "      <td>1.017426</td>\n",
       "    </tr>\n",
       "    <tr>\n",
       "      <th>90</th>\n",
       "      <td>150</td>\n",
       "      <td>Parossistica</td>\n",
       "      <td>Normale</td>\n",
       "      <td>0</td>\n",
       "      <td>0.775818</td>\n",
       "    </tr>\n",
       "    <tr>\n",
       "      <th>91</th>\n",
       "      <td>151</td>\n",
       "      <td>Parossistica</td>\n",
       "      <td>Normale</td>\n",
       "      <td>0</td>\n",
       "      <td>0.921543</td>\n",
       "    </tr>\n",
       "  </tbody>\n",
       "</table>\n",
       "<p>92 rows × 5 columns</p>\n",
       "</div>"
      ],
      "text/plain": [
       "    Patient ID     Phenotype Substrate  Entropy      LASE\n",
       "0           40  Parossistica  Anormale        0  0.897287\n",
       "1           41  Parossistica   Normale        0  0.886550\n",
       "2           42  Parossistica   Normale        0  1.076546\n",
       "3           43   Persistente  Anormale        0  1.155711\n",
       "4           45   Persistente  Anormale        0  1.107907\n",
       "..         ...           ...       ...      ...       ...\n",
       "87         147  Parossistica   Normale        0  0.861310\n",
       "88         148  Parossistica   Normale        0  1.028202\n",
       "89         149  Parossistica   Normale        0  1.017426\n",
       "90         150  Parossistica   Normale        0  0.775818\n",
       "91         151  Parossistica   Normale        0  0.921543\n",
       "\n",
       "[92 rows x 5 columns]"
      ]
     },
     "execution_count": 2,
     "metadata": {},
     "output_type": "execute_result"
    }
   ],
   "source": [
    "# Join the two dataframes on the \"ID\" column\n",
    "merged_df = pd.merge(\n",
    "    ods.loc[:, [\"Patient ID\", \"Phenotype\", \"Substrate\"]],\n",
    "    csv,\n",
    "    on=\"Patient ID\",\n",
    "    how=\"inner\",\n",
    ")\n",
    "\n",
    "phenotype_mapping = {\n",
    "    \"Long standing persistent\": \"Persistente\",\n",
    "    \"Persistente\": \"Persistente\",\n",
    "    \"Parossistica\": \"Parossistica\",\n",
    "    \"Parossistico\": \"Parossistica\",\n",
    "}\n",
    "\n",
    "substrate_mapping = {\n",
    "    \"Normale\": \"Normale\",\n",
    "    \"Abnormal\": \"Anormale\",\n",
    "    \"Patologia\": \"Anormale\",\n",
    "    \"Patologia \": \"Anormale\",\n",
    "    \"Patologia altri distretti\": \"Anormale\",\n",
    "    \"Patologia parete posteriore\": \"Anormale\",\n",
    "    \"Patologia parete posteriore e anteriore\": \"Anormale\",\n",
    "    \"Patologia posteriore + altri\": \"Anormale\",\n",
    "    \"Patologia posteriore e+ altri\": \"Anormale\",\n",
    "}\n",
    "\n",
    "merged_df[\"Phenotype\"] = merged_df[\"Phenotype\"].map(phenotype_mapping)\n",
    "merged_df[\"Substrate\"] = merged_df[\"Substrate\"].map(substrate_mapping)\n",
    "\n",
    "merged_df"
   ]
  },
  {
   "cell_type": "code",
   "execution_count": 3,
   "id": "2137bb44",
   "metadata": {},
   "outputs": [
    {
     "data": {
      "image/png": "[encoded data removed]",
      "text/plain": [
       "<Figure size 1000x600 with 1 Axes>"
      ]
     },
     "metadata": {},
     "output_type": "display_data"
    }
   ],
   "source": [
    "import matplotlib.pyplot as plt\n",
    "\n",
    "plt.figure(figsize=(10, 6))\n",
    "plt.boxplot(\n",
    "    [\n",
    "        merged_df[merged_df[\"Phenotype\"] == \"Parossistica\"][\"LASE\"],\n",
    "        merged_df[merged_df[\"Phenotype\"] == \"Persistente\"][\"LASE\"],\n",
    "    ],\n",
    "    tick_labels=[\"Paroxysmal\", \"Persistent\"],\n",
    ")\n",
    "plt.title(\"Voltage threshold <3.5, unfiltered EGM\")\n",
    "plt.ylabel(\"LASE\")\n",
    "plt.xlabel(\"Phenotype\")\n",
    "plt.grid()\n",
    "plt.savefig(\"phenotype_boxplot.png\", dpi=300, bbox_inches=\"tight\")\n",
    "plt.tight_layout()\n",
    "plt.show()"
   ]
  },
  {
   "cell_type": "code",
   "execution_count": 4,
   "id": "ee95cf28",
   "metadata": {},
   "outputs": [
    {
     "data": {
      "image/png": "[encoded data removed]",
      "text/plain": [
       "<Figure size 1000x600 with 1 Axes>"
      ]
     },
     "metadata": {},
     "output_type": "display_data"
    }
   ],
   "source": [
    "import matplotlib.pyplot as plt\n",
    "\n",
    "plt.figure(figsize=(10, 6))\n",
    "plt.boxplot(\n",
    "    [\n",
    "        merged_df[merged_df[\"Substrate\"] == \"Anormale\"][\"LASE\"],\n",
    "        merged_df[merged_df[\"Substrate\"] == \"Normale\"][\"LASE\"],\n",
    "    ],\n",
    "    tick_labels=[\"Abnormal\", \"Normal\"],\n",
    ")\n",
    "plt.title(\"Voltage threshold <3.5, unfiltered EGM\")\n",
    "plt.ylabel(\"LASE\")\n",
    "plt.xlabel(\"Substrate\")\n",
    "plt.grid()\n",
    "plt.savefig(\"substrate_boxplot.png\", dpi=300, bbox_inches=\"tight\")\n",
    "plt.tight_layout()\n",
    "plt.show()"
   ]
  }
 ],
 "metadata": {
  "kernelspec": {
   "display_name": "base",
   "language": "python",
   "name": "python3"
  },
  "language_info": {
   "codemirror_mode": {
    "name": "ipython",
    "version": 3
   },
   "file_extension": ".py",
   "mimetype": "text/x-python",
   "name": "python",
   "nbconvert_exporter": "python",
   "pygments_lexer": "ipython3",
   "version": "3.10.13"
  }
 },
 "nbformat": 4,
 "nbformat_minor": 5
}
