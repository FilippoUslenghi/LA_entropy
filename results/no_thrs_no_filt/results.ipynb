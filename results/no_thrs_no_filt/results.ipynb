{
 "cells": [
  {
   "cell_type": "code",
   "execution_count": 1,
   "id": "2dc95d09",
   "metadata": {},
   "outputs": [
    {
     "data": {
      "application/vnd.microsoft.datawrangler.viewer.v0+json": {
       "columns": [
        {
         "name": "index",
         "rawType": "int64",
         "type": "integer"
        },
        {
         "name": "Patient ID",
         "rawType": "int64",
         "type": "integer"
        },
        {
         "name": "Phenotype",
         "rawType": "object",
         "type": "string"
        },
        {
         "name": "Substrate",
         "rawType": "object",
         "type": "string"
        },
        {
         "name": "Rhythm",
         "rawType": "object",
         "type": "string"
        }
       ],
       "conversionMethod": "pd.DataFrame",
       "ref": "723e818d-2065-48fb-b8b9-8bec4e03b901",
       "rows": [
        [
         "3",
         "9",
         "Persistent",
         "Abnormal",
         "AF"
        ],
        [
         "4",
         "10",
         "Paroxysmal",
         "Normal",
         "SR"
        ],
        [
         "5",
         "11",
         "Persistent",
         "Normal",
         "AF"
        ],
        [
         "6",
         "12",
         "Persistent",
         "Abnormal",
         "SR"
        ],
        [
         "7",
         "13",
         "Persistent",
         "Abnormal",
         "AF"
        ],
        [
         "8",
         "14",
         "Paroxysmal",
         "Normal",
         "AF"
        ],
        [
         "9",
         "15",
         "Paroxysmal",
         "Normal",
         "SR"
        ],
        [
         "10",
         "16",
         "Persistent",
         "Abnormal",
         "AF"
        ],
        [
         "11",
         "17",
         "Paroxysmal",
         "Normal",
         "SR"
        ],
        [
         "12",
         "18",
         "Paroxysmal",
         "Normal",
         "SR"
        ],
        [
         "13",
         "19",
         "Persistent",
         "Normal",
         "AF"
        ],
        [
         "14",
         "20",
         "Paroxysmal",
         "Normal",
         "SR"
        ],
        [
         "15",
         "21",
         "Paroxysmal",
         "Normal",
         "SR"
        ],
        [
         "16",
         "22",
         "Persistent",
         "Abnormal",
         "AF"
        ],
        [
         "17",
         "23",
         "Paroxysmal",
         "Normal",
         "SR"
        ],
        [
         "20",
         "3",
         "Parossistica",
         "Normale",
         "RS"
        ],
        [
         "21",
         "4",
         "Parossistica",
         "Normale",
         "RS"
        ],
        [
         "22",
         "5",
         "Parossistica",
         "Normale",
         "FA"
        ],
        [
         "23",
         "6",
         "Parossistica",
         "Patologia posteriore + altri",
         "RS"
        ],
        [
         "24",
         "7",
         "Persistente",
         "Patologia parete posteriore",
         "FA"
        ],
        [
         "26",
         "9",
         "Parossistica",
         "Normale",
         "RS"
        ],
        [
         "27",
         "10",
         "Persistente",
         "Normale",
         "FA"
        ],
        [
         "28",
         "11",
         "Parossistica",
         "Patologia altri distretti",
         "RS"
        ],
        [
         "29",
         "12",
         "Parossistica",
         "Normale",
         "Altro (note)"
        ],
        [
         "30",
         "13",
         "Persistente",
         "Patologia altri distretti",
         "FA"
        ],
        [
         "31",
         "14",
         "Parossistica",
         "Normale",
         "FA"
        ],
        [
         "32",
         "15",
         "Parossistica",
         "Normale",
         "RS"
        ],
        [
         "35",
         "18",
         "Parossistica",
         "Normale",
         "RS"
        ],
        [
         "38",
         "21",
         "Parossistica",
         "Normale",
         "RS"
        ],
        [
         "39",
         "22",
         "Parossistica",
         "Normale",
         "RS"
        ],
        [
         "40",
         "23",
         "Parossistica",
         "Normale",
         "RS"
        ],
        [
         "41",
         "24",
         "Persistente",
         "Patologia altri distretti",
         "FA"
        ],
        [
         "42",
         "25",
         "Parossistica",
         "Normale",
         "RS"
        ],
        [
         "43",
         "26",
         "Long standing persistent",
         "Patologia posteriore + altri",
         "FA"
        ],
        [
         "44",
         "27",
         "Long standing persistent",
         "Normale",
         "FA"
        ],
        [
         "45",
         "28",
         "Parossistica",
         "Normale",
         "RS"
        ],
        [
         "46",
         "29",
         "Parossistica",
         "Normale",
         "RS"
        ],
        [
         "47",
         "30",
         "Persistente",
         "Patologia parete posteriore",
         "FA"
        ],
        [
         "48",
         "31",
         "Parossistica",
         "Normale",
         "RS"
        ],
        [
         "50",
         "33",
         "Parossistica",
         "Normale",
         "RS"
        ],
        [
         "51",
         "34",
         "Parossistica",
         "Normale",
         "RS"
        ],
        [
         "52",
         "35",
         "Parossistica",
         "Normale",
         "RS"
        ],
        [
         "53",
         "36",
         "Persistente",
         "Patologia posteriore + altri",
         "FA"
        ],
        [
         "55",
         "38",
         "Persistente",
         "Normale",
         "FA"
        ],
        [
         "56",
         "39",
         "Parossistica",
         "Normale",
         "RS"
        ],
        [
         "57",
         "40",
         "Parossistica",
         "Patologia altri distretti",
         "RS"
        ],
        [
         "58",
         "41",
         "Parossistica",
         "Normale",
         "RS"
        ],
        [
         "59",
         "42",
         "Parossistica",
         "Normale",
         "RS"
        ],
        [
         "60",
         "43",
         "Persistente",
         "Patologia parete posteriore",
         "FA"
        ],
        [
         "61",
         "44",
         "Parossistica",
         "Normale",
         "RS"
        ]
       ],
       "shape": {
        "columns": 4,
        "rows": 160
       }
      },
      "text/html": [
       "<div>\n",
       "<style scoped>\n",
       "    .dataframe tbody tr th:only-of-type {\n",
       "        vertical-align: middle;\n",
       "    }\n",
       "\n",
       "    .dataframe tbody tr th {\n",
       "        vertical-align: top;\n",
       "    }\n",
       "\n",
       "    .dataframe thead th {\n",
       "        text-align: right;\n",
       "    }\n",
       "</style>\n",
       "<table border=\"1\" class=\"dataframe\">\n",
       "  <thead>\n",
       "    <tr style=\"text-align: right;\">\n",
       "      <th></th>\n",
       "      <th>Patient ID</th>\n",
       "      <th>Phenotype</th>\n",
       "      <th>Substrate</th>\n",
       "      <th>Rhythm</th>\n",
       "    </tr>\n",
       "  </thead>\n",
       "  <tbody>\n",
       "    <tr>\n",
       "      <th>3</th>\n",
       "      <td>9</td>\n",
       "      <td>Persistent</td>\n",
       "      <td>Abnormal</td>\n",
       "      <td>AF</td>\n",
       "    </tr>\n",
       "    <tr>\n",
       "      <th>4</th>\n",
       "      <td>10</td>\n",
       "      <td>Paroxysmal</td>\n",
       "      <td>Normal</td>\n",
       "      <td>SR</td>\n",
       "    </tr>\n",
       "    <tr>\n",
       "      <th>5</th>\n",
       "      <td>11</td>\n",
       "      <td>Persistent</td>\n",
       "      <td>Normal</td>\n",
       "      <td>AF</td>\n",
       "    </tr>\n",
       "    <tr>\n",
       "      <th>6</th>\n",
       "      <td>12</td>\n",
       "      <td>Persistent</td>\n",
       "      <td>Abnormal</td>\n",
       "      <td>SR</td>\n",
       "    </tr>\n",
       "    <tr>\n",
       "      <th>7</th>\n",
       "      <td>13</td>\n",
       "      <td>Persistent</td>\n",
       "      <td>Abnormal</td>\n",
       "      <td>AF</td>\n",
       "    </tr>\n",
       "    <tr>\n",
       "      <th>...</th>\n",
       "      <td>...</td>\n",
       "      <td>...</td>\n",
       "      <td>...</td>\n",
       "      <td>...</td>\n",
       "    </tr>\n",
       "    <tr>\n",
       "      <th>171</th>\n",
       "      <td>154</td>\n",
       "      <td>Parossistica</td>\n",
       "      <td>Normale</td>\n",
       "      <td>RS</td>\n",
       "    </tr>\n",
       "    <tr>\n",
       "      <th>177</th>\n",
       "      <td>160</td>\n",
       "      <td>Parossistica</td>\n",
       "      <td>Normale</td>\n",
       "      <td>RS</td>\n",
       "    </tr>\n",
       "    <tr>\n",
       "      <th>178</th>\n",
       "      <td>161</td>\n",
       "      <td>Parossistica</td>\n",
       "      <td>Normale</td>\n",
       "      <td>RS</td>\n",
       "    </tr>\n",
       "    <tr>\n",
       "      <th>179</th>\n",
       "      <td>162</td>\n",
       "      <td>Parossistica</td>\n",
       "      <td>Normale</td>\n",
       "      <td>RS</td>\n",
       "    </tr>\n",
       "    <tr>\n",
       "      <th>236</th>\n",
       "      <td>219</td>\n",
       "      <td>Persistente</td>\n",
       "      <td>Patologia altri distretti</td>\n",
       "      <td>FA</td>\n",
       "    </tr>\n",
       "  </tbody>\n",
       "</table>\n",
       "<p>160 rows × 4 columns</p>\n",
       "</div>"
      ],
      "text/plain": [
       "     Patient ID     Phenotype                  Substrate Rhythm\n",
       "3             9    Persistent                   Abnormal     AF\n",
       "4            10    Paroxysmal                     Normal     SR\n",
       "5            11    Persistent                     Normal     AF\n",
       "6            12    Persistent                   Abnormal     SR\n",
       "7            13    Persistent                   Abnormal     AF\n",
       "..          ...           ...                        ...    ...\n",
       "171         154  Parossistica                    Normale     RS\n",
       "177         160  Parossistica                    Normale     RS\n",
       "178         161  Parossistica                    Normale     RS\n",
       "179         162  Parossistica                    Normale     RS\n",
       "236         219   Persistente  Patologia altri distretti     FA\n",
       "\n",
       "[160 rows x 4 columns]"
      ]
     },
     "metadata": {},
     "output_type": "display_data"
    },
    {
     "data": {
      "application/vnd.microsoft.datawrangler.viewer.v0+json": {
       "columns": [
        {
         "name": "index",
         "rawType": "int64",
         "type": "integer"
        },
        {
         "name": "Patient ID",
         "rawType": "int64",
         "type": "integer"
        },
        {
         "name": "Entropy",
         "rawType": "int64",
         "type": "integer"
        },
        {
         "name": "LASE",
         "rawType": "float64",
         "type": "float"
        }
       ],
       "conversionMethod": "pd.DataFrame",
       "ref": "7c3e05eb-8c08-4da3-b310-9fa3f8c1d558",
       "rows": [
        [
         "3",
         "100",
         "0",
         "2.35348523755026"
        ],
        [
         "4",
         "101",
         "0",
         "1.50480913984444"
        ],
        [
         "5",
         "102",
         "0",
         "1.35547451679305"
        ],
        [
         "6",
         "103",
         "0",
         "1.96586975287183"
        ],
        [
         "7",
         "104",
         "0",
         "2.10648217292257"
        ],
        [
         "8",
         "105",
         "0",
         "2.47100227717243"
        ],
        [
         "9",
         "106",
         "0",
         "1.11270841712608"
        ],
        [
         "10",
         "107",
         "0",
         "1.59740401212278"
        ],
        [
         "11",
         "110",
         "0",
         "2.29855072198343"
        ],
        [
         "12",
         "111",
         "0",
         "2.29016982704379"
        ],
        [
         "13",
         "112",
         "0",
         "2.38430397952435"
        ],
        [
         "14",
         "113",
         "0",
         "2.12152224921901"
        ],
        [
         "15",
         "115",
         "0",
         "1.18061047183225"
        ],
        [
         "16",
         "117",
         "0",
         "0.960899412093644"
        ],
        [
         "17",
         "117",
         "0",
         "0.0"
        ],
        [
         "18",
         "1191",
         "0",
         "0.781509196249458"
        ],
        [
         "19",
         "1192",
         "0",
         "1.18061047183225"
        ],
        [
         "20",
         "120",
         "0",
         "0.998205334641778"
        ],
        [
         "21",
         "123",
         "0",
         "1.51397964303473"
        ],
        [
         "22",
         "124",
         "0",
         "1.66809458829196"
        ],
        [
         "23",
         "125",
         "0",
         "2.21032769596172"
        ],
        [
         "24",
         "126",
         "0",
         "1.81654717647266"
        ],
        [
         "25",
         "127",
         "0",
         "1.21703441576382"
        ],
        [
         "26",
         "128",
         "0",
         "0.859601705072857"
        ],
        [
         "27",
         "129",
         "0",
         "1.51507380174734"
        ],
        [
         "28",
         "131",
         "0",
         "1.00075930330293"
        ],
        [
         "29",
         "134",
         "0",
         "2.30308968888439"
        ],
        [
         "30",
         "135",
         "0",
         "1.30001990701356"
        ],
        [
         "31",
         "137",
         "0",
         "2.2784457459114"
        ],
        [
         "32",
         "138",
         "0",
         "1.30001990701356"
        ],
        [
         "33",
         "139",
         "0",
         "1.96102673575511"
        ],
        [
         "34",
         "140",
         "0",
         "2.38817072893261"
        ],
        [
         "35",
         "142",
         "0",
         "2.18936615510255"
        ],
        [
         "36",
         "143",
         "0",
         "1.19218293511456"
        ],
        [
         "37",
         "144",
         "0",
         "2.01558292372174"
        ],
        [
         "38",
         "145",
         "0",
         "1.65558400943372"
        ],
        [
         "39",
         "146",
         "0",
         "1.1464380476352"
        ],
        [
         "40",
         "147",
         "0",
         "1.93334941101177"
        ],
        [
         "41",
         "148",
         "0",
         "1.84290359819051"
        ],
        [
         "42",
         "149",
         "0",
         "1.30001990701356"
        ],
        [
         "43",
         "150",
         "0",
         "2.29407159019808"
        ],
        [
         "44",
         "151",
         "0",
         "2.24138151092725"
        ],
        [
         "45",
         "40",
         "0",
         "1.94606960245394"
        ],
        [
         "46",
         "41",
         "0",
         "2.16476807356327"
        ],
        [
         "47",
         "42",
         "0",
         "1.42225914474852"
        ],
        [
         "48",
         "43",
         "0",
         "1.34622434077931"
        ],
        [
         "49",
         "45",
         "0",
         "1.67096039169068"
        ],
        [
         "50",
         "46",
         "0",
         "2.04012863217486"
        ],
        [
         "51",
         "47",
         "0",
         "1.71569798735216"
        ],
        [
         "52",
         "48",
         "0",
         "1.50175144707152"
        ]
       ],
       "shape": {
        "columns": 3,
        "rows": 97
       }
      },
      "text/html": [
       "<div>\n",
       "<style scoped>\n",
       "    .dataframe tbody tr th:only-of-type {\n",
       "        vertical-align: middle;\n",
       "    }\n",
       "\n",
       "    .dataframe tbody tr th {\n",
       "        vertical-align: top;\n",
       "    }\n",
       "\n",
       "    .dataframe thead th {\n",
       "        text-align: right;\n",
       "    }\n",
       "</style>\n",
       "<table border=\"1\" class=\"dataframe\">\n",
       "  <thead>\n",
       "    <tr style=\"text-align: right;\">\n",
       "      <th></th>\n",
       "      <th>Patient ID</th>\n",
       "      <th>Entropy</th>\n",
       "      <th>LASE</th>\n",
       "    </tr>\n",
       "  </thead>\n",
       "  <tbody>\n",
       "    <tr>\n",
       "      <th>3</th>\n",
       "      <td>100</td>\n",
       "      <td>0</td>\n",
       "      <td>2.353485</td>\n",
       "    </tr>\n",
       "    <tr>\n",
       "      <th>4</th>\n",
       "      <td>101</td>\n",
       "      <td>0</td>\n",
       "      <td>1.504809</td>\n",
       "    </tr>\n",
       "    <tr>\n",
       "      <th>5</th>\n",
       "      <td>102</td>\n",
       "      <td>0</td>\n",
       "      <td>1.355475</td>\n",
       "    </tr>\n",
       "    <tr>\n",
       "      <th>6</th>\n",
       "      <td>103</td>\n",
       "      <td>0</td>\n",
       "      <td>1.965870</td>\n",
       "    </tr>\n",
       "    <tr>\n",
       "      <th>7</th>\n",
       "      <td>104</td>\n",
       "      <td>0</td>\n",
       "      <td>2.106482</td>\n",
       "    </tr>\n",
       "    <tr>\n",
       "      <th>...</th>\n",
       "      <td>...</td>\n",
       "      <td>...</td>\n",
       "      <td>...</td>\n",
       "    </tr>\n",
       "    <tr>\n",
       "      <th>95</th>\n",
       "      <td>94</td>\n",
       "      <td>0</td>\n",
       "      <td>2.089640</td>\n",
       "    </tr>\n",
       "    <tr>\n",
       "      <th>96</th>\n",
       "      <td>95</td>\n",
       "      <td>0</td>\n",
       "      <td>1.482409</td>\n",
       "    </tr>\n",
       "    <tr>\n",
       "      <th>97</th>\n",
       "      <td>96</td>\n",
       "      <td>0</td>\n",
       "      <td>2.107191</td>\n",
       "    </tr>\n",
       "    <tr>\n",
       "      <th>98</th>\n",
       "      <td>97</td>\n",
       "      <td>0</td>\n",
       "      <td>1.947283</td>\n",
       "    </tr>\n",
       "    <tr>\n",
       "      <th>99</th>\n",
       "      <td>98</td>\n",
       "      <td>0</td>\n",
       "      <td>1.104600</td>\n",
       "    </tr>\n",
       "  </tbody>\n",
       "</table>\n",
       "<p>97 rows × 3 columns</p>\n",
       "</div>"
      ],
      "text/plain": [
       "    Patient ID  Entropy      LASE\n",
       "3          100        0  2.353485\n",
       "4          101        0  1.504809\n",
       "5          102        0  1.355475\n",
       "6          103        0  1.965870\n",
       "7          104        0  2.106482\n",
       "..         ...      ...       ...\n",
       "95          94        0  2.089640\n",
       "96          95        0  1.482409\n",
       "97          96        0  2.107191\n",
       "98          97        0  1.947283\n",
       "99          98        0  1.104600\n",
       "\n",
       "[97 rows x 3 columns]"
      ]
     },
     "execution_count": 1,
     "metadata": {},
     "output_type": "execute_result"
    }
   ],
   "source": [
    "import pandas as pd\n",
    "\n",
    "ods = (\n",
    "    pd.read_excel(\n",
    "        \"../../DB AF Completo 1.ods\",\n",
    "    )\n",
    "    .loc[:, [\"ID\", \"Phenotype\", \"Low Voltage / Scar area\", \"Rhythm during Mapping\"]]\n",
    "    .rename(\n",
    "        columns={\n",
    "            \"ID\": \"Patient ID\",\n",
    "            \"Low Voltage / Scar area\": \"Substrate\",\n",
    "            \"Rhythm during Mapping\": \"Rhythm\",\n",
    "        }\n",
    "    )\n",
    "    .dropna(axis=0, how=\"any\")\n",
    "    .astype({\"Patient ID\": int})\n",
    ")\n",
    "csv = (\n",
    "    pd.read_csv(\"lase.csv\", sep=\",\")\n",
    "    .dropna(axis=0, how=\"any\")\n",
    "    .astype({\"Patient ID\": int})\n",
    ")\n",
    "display(ods)\n",
    "csv"
   ]
  },
  {
   "cell_type": "code",
   "execution_count": 2,
   "id": "95341273",
   "metadata": {},
   "outputs": [
    {
     "data": {
      "application/vnd.microsoft.datawrangler.viewer.v0+json": {
       "columns": [
        {
         "name": "index",
         "rawType": "int64",
         "type": "integer"
        },
        {
         "name": "Patient ID",
         "rawType": "int64",
         "type": "integer"
        },
        {
         "name": "Phenotype",
         "rawType": "object",
         "type": "string"
        },
        {
         "name": "Substrate",
         "rawType": "object",
         "type": "string"
        },
        {
         "name": "Rhythm",
         "rawType": "object",
         "type": "unknown"
        },
        {
         "name": "Entropy",
         "rawType": "int64",
         "type": "integer"
        },
        {
         "name": "LASE",
         "rawType": "float64",
         "type": "float"
        }
       ],
       "conversionMethod": "pd.DataFrame",
       "ref": "79f22ce0-b980-47bd-a5b5-addf55c02172",
       "rows": [
        [
         "0",
         "40",
         "Parossistica",
         "Anormale",
         "RS",
         "0",
         "1.94606960245394"
        ],
        [
         "1",
         "41",
         "Parossistica",
         "Normale",
         "RS",
         "0",
         "2.16476807356327"
        ],
        [
         "2",
         "42",
         "Parossistica",
         "Normale",
         "RS",
         "0",
         "1.42225914474852"
        ],
        [
         "3",
         "43",
         "Persistente",
         "Anormale",
         "FA",
         "0",
         "1.34622434077931"
        ],
        [
         "4",
         "45",
         "Persistente",
         "Anormale",
         "FA",
         "0",
         "1.67096039169068"
        ],
        [
         "5",
         "46",
         "Parossistica",
         "Normale",
         "RS",
         "0",
         "2.04012863217486"
        ],
        [
         "6",
         "47",
         "Persistente",
         "Anormale",
         "FA",
         "0",
         "1.71569798735216"
        ],
        [
         "7",
         "48",
         "Persistente",
         "Normale",
         "FA",
         "0",
         "1.50175144707152"
        ],
        [
         "8",
         "49",
         "Persistente",
         "Normale",
         "FA",
         "0",
         "1.73021789148459"
        ],
        [
         "9",
         "50",
         "Parossistica",
         "Normale",
         "RS",
         "0",
         "1.6656469462325"
        ],
        [
         "10",
         "51",
         "Persistente",
         "Normale",
         "FA",
         "0",
         "1.79253452207988"
        ],
        [
         "11",
         "52",
         "Persistente",
         "Normale",
         "FA",
         "0",
         "1.49998831293606"
        ],
        [
         "12",
         "53",
         "Persistente",
         "Normale",
         "FA",
         "0",
         "1.68214299480373"
        ],
        [
         "13",
         "55",
         "Persistente",
         "Anormale",
         null,
         "0",
         "1.43283609852172"
        ],
        [
         "14",
         "56",
         "Parossistica",
         "Normale",
         "RS",
         "0",
         "2.47100227717243"
        ],
        [
         "15",
         "57",
         "Parossistica",
         "Normale",
         "RS",
         "0",
         "2.47100227717243"
        ],
        [
         "16",
         "58",
         "Parossistica",
         "Normale",
         "RS",
         "0",
         "1.30001990701356"
        ],
        [
         "17",
         "59",
         "Persistente",
         "Anormale",
         "FA",
         "0",
         "1.30001990701356"
        ],
        [
         "18",
         "60",
         "Parossistica",
         "Normale",
         "RS",
         "0",
         "1.30001990701356"
        ],
        [
         "19",
         "61",
         "Persistente",
         "Anormale",
         "FA",
         "0",
         "2.09513835587739"
        ],
        [
         "20",
         "62",
         "Persistente",
         "Normale",
         "FA",
         "0",
         "1.54335482641509"
        ],
        [
         "21",
         "63",
         "Parossistica",
         "Anormale",
         "RS",
         "0",
         "2.14009765637719"
        ],
        [
         "22",
         "64",
         "Parossistica",
         "Normale",
         "RS",
         "0",
         "2.2931043556655"
        ],
        [
         "23",
         "65",
         "Parossistica",
         "Normale",
         "RS",
         "0",
         "2.14796890803853"
        ],
        [
         "24",
         "66",
         "Persistente",
         "Anormale",
         "FA",
         "0",
         "1.40337616575058"
        ],
        [
         "25",
         "68",
         "Parossistica",
         "Normale",
         "RS",
         "0",
         "2.00862328237578"
        ],
        [
         "26",
         "70",
         "Parossistica",
         "Anormale",
         "RS",
         "0",
         "1.55378582994778"
        ],
        [
         "27",
         "71",
         "Parossistica",
         "Anormale",
         "RS",
         "0",
         "2.24350508142394"
        ],
        [
         "28",
         "72",
         "Persistente",
         "Anormale",
         "FA",
         "0",
         "1.74118717456615"
        ],
        [
         "29",
         "73",
         "Parossistica",
         "Normale",
         "RS",
         "0",
         "2.06143047186057"
        ],
        [
         "30",
         "74",
         "Parossistica",
         "Normale",
         "RS",
         "0",
         "2.09520998852904"
        ],
        [
         "31",
         "75",
         "Parossistica",
         "Anormale",
         "RS",
         "0",
         "1.61185268464694"
        ],
        [
         "32",
         "76",
         "Persistente",
         "Anormale",
         "FA",
         "0",
         "1.10980134817647"
        ],
        [
         "33",
         "77",
         "Persistente",
         "Anormale",
         null,
         "0",
         "1.54875050460511"
        ],
        [
         "34",
         "78",
         "Persistente",
         "Anormale",
         "FA",
         "0",
         "1.3883603720398"
        ],
        [
         "35",
         "79",
         "Parossistica",
         "Normale",
         "RS",
         "0",
         "1.87588790987284"
        ],
        [
         "36",
         "80",
         "Parossistica",
         "Normale",
         "RS",
         "0",
         "2.64515015003567"
        ],
        [
         "37",
         "81",
         "Persistente",
         "Anormale",
         "FA",
         "0",
         "1.74756051754789"
        ],
        [
         "38",
         "82",
         "Parossistica",
         "Normale",
         "RS",
         "0",
         "1.73710828825935"
        ],
        [
         "39",
         "83",
         "Parossistica",
         "Normale",
         "RS",
         "0",
         "2.16253812234397"
        ],
        [
         "40",
         "84",
         "Parossistica",
         "Normale",
         "RS",
         "0",
         "2.20850652605495"
        ],
        [
         "41",
         "85",
         "Parossistica",
         "Anormale",
         "RS",
         "0",
         "2.3647051683775"
        ],
        [
         "42",
         "86",
         "Persistente",
         "Normale",
         "FA",
         "0",
         "1.75534680829772"
        ],
        [
         "43",
         "87",
         "Parossistica",
         "Normale",
         "RS",
         "0",
         "1.92388438291903"
        ],
        [
         "44",
         "88",
         "Parossistica",
         "Normale",
         "RS",
         "0",
         "1.48626384003481"
        ],
        [
         "45",
         "89",
         "Parossistica",
         "Normale",
         null,
         "0",
         "2.26882598405553"
        ],
        [
         "46",
         "90",
         "Parossistica",
         "Normale",
         "RS",
         "0",
         "1.84619856918129"
        ],
        [
         "47",
         "91",
         "Parossistica",
         "Anormale",
         "RS",
         "0",
         "1.61930884354835"
        ],
        [
         "48",
         "92",
         "Parossistica",
         "Normale",
         "RS",
         "0",
         "2.09510275873011"
        ],
        [
         "49",
         "93",
         "Persistente",
         "Normale",
         "FA",
         "0",
         "1.9658662834243"
        ]
       ],
       "shape": {
        "columns": 6,
        "rows": 92
       }
      },
      "text/html": [
       "<div>\n",
       "<style scoped>\n",
       "    .dataframe tbody tr th:only-of-type {\n",
       "        vertical-align: middle;\n",
       "    }\n",
       "\n",
       "    .dataframe tbody tr th {\n",
       "        vertical-align: top;\n",
       "    }\n",
       "\n",
       "    .dataframe thead th {\n",
       "        text-align: right;\n",
       "    }\n",
       "</style>\n",
       "<table border=\"1\" class=\"dataframe\">\n",
       "  <thead>\n",
       "    <tr style=\"text-align: right;\">\n",
       "      <th></th>\n",
       "      <th>Patient ID</th>\n",
       "      <th>Phenotype</th>\n",
       "      <th>Substrate</th>\n",
       "      <th>Rhythm</th>\n",
       "      <th>Entropy</th>\n",
       "      <th>LASE</th>\n",
       "    </tr>\n",
       "  </thead>\n",
       "  <tbody>\n",
       "    <tr>\n",
       "      <th>0</th>\n",
       "      <td>40</td>\n",
       "      <td>Parossistica</td>\n",
       "      <td>Anormale</td>\n",
       "      <td>RS</td>\n",
       "      <td>0</td>\n",
       "      <td>1.946070</td>\n",
       "    </tr>\n",
       "    <tr>\n",
       "      <th>1</th>\n",
       "      <td>41</td>\n",
       "      <td>Parossistica</td>\n",
       "      <td>Normale</td>\n",
       "      <td>RS</td>\n",
       "      <td>0</td>\n",
       "      <td>2.164768</td>\n",
       "    </tr>\n",
       "    <tr>\n",
       "      <th>2</th>\n",
       "      <td>42</td>\n",
       "      <td>Parossistica</td>\n",
       "      <td>Normale</td>\n",
       "      <td>RS</td>\n",
       "      <td>0</td>\n",
       "      <td>1.422259</td>\n",
       "    </tr>\n",
       "    <tr>\n",
       "      <th>3</th>\n",
       "      <td>43</td>\n",
       "      <td>Persistente</td>\n",
       "      <td>Anormale</td>\n",
       "      <td>FA</td>\n",
       "      <td>0</td>\n",
       "      <td>1.346224</td>\n",
       "    </tr>\n",
       "    <tr>\n",
       "      <th>4</th>\n",
       "      <td>45</td>\n",
       "      <td>Persistente</td>\n",
       "      <td>Anormale</td>\n",
       "      <td>FA</td>\n",
       "      <td>0</td>\n",
       "      <td>1.670960</td>\n",
       "    </tr>\n",
       "    <tr>\n",
       "      <th>...</th>\n",
       "      <td>...</td>\n",
       "      <td>...</td>\n",
       "      <td>...</td>\n",
       "      <td>...</td>\n",
       "      <td>...</td>\n",
       "      <td>...</td>\n",
       "    </tr>\n",
       "    <tr>\n",
       "      <th>87</th>\n",
       "      <td>147</td>\n",
       "      <td>Parossistica</td>\n",
       "      <td>Normale</td>\n",
       "      <td>RS</td>\n",
       "      <td>0</td>\n",
       "      <td>1.933349</td>\n",
       "    </tr>\n",
       "    <tr>\n",
       "      <th>88</th>\n",
       "      <td>148</td>\n",
       "      <td>Parossistica</td>\n",
       "      <td>Normale</td>\n",
       "      <td>RS</td>\n",
       "      <td>0</td>\n",
       "      <td>1.842904</td>\n",
       "    </tr>\n",
       "    <tr>\n",
       "      <th>89</th>\n",
       "      <td>149</td>\n",
       "      <td>Parossistica</td>\n",
       "      <td>Normale</td>\n",
       "      <td>RS</td>\n",
       "      <td>0</td>\n",
       "      <td>1.300020</td>\n",
       "    </tr>\n",
       "    <tr>\n",
       "      <th>90</th>\n",
       "      <td>150</td>\n",
       "      <td>Parossistica</td>\n",
       "      <td>Normale</td>\n",
       "      <td>RS</td>\n",
       "      <td>0</td>\n",
       "      <td>2.294072</td>\n",
       "    </tr>\n",
       "    <tr>\n",
       "      <th>91</th>\n",
       "      <td>151</td>\n",
       "      <td>Parossistica</td>\n",
       "      <td>Normale</td>\n",
       "      <td>RS</td>\n",
       "      <td>0</td>\n",
       "      <td>2.241382</td>\n",
       "    </tr>\n",
       "  </tbody>\n",
       "</table>\n",
       "<p>92 rows × 6 columns</p>\n",
       "</div>"
      ],
      "text/plain": [
       "    Patient ID     Phenotype Substrate Rhythm  Entropy      LASE\n",
       "0           40  Parossistica  Anormale     RS        0  1.946070\n",
       "1           41  Parossistica   Normale     RS        0  2.164768\n",
       "2           42  Parossistica   Normale     RS        0  1.422259\n",
       "3           43   Persistente  Anormale     FA        0  1.346224\n",
       "4           45   Persistente  Anormale     FA        0  1.670960\n",
       "..         ...           ...       ...    ...      ...       ...\n",
       "87         147  Parossistica   Normale     RS        0  1.933349\n",
       "88         148  Parossistica   Normale     RS        0  1.842904\n",
       "89         149  Parossistica   Normale     RS        0  1.300020\n",
       "90         150  Parossistica   Normale     RS        0  2.294072\n",
       "91         151  Parossistica   Normale     RS        0  2.241382\n",
       "\n",
       "[92 rows x 6 columns]"
      ]
     },
     "execution_count": 2,
     "metadata": {},
     "output_type": "execute_result"
    }
   ],
   "source": [
    "# Join the two dataframes on the \"ID\" column\n",
    "merged_df = pd.merge(\n",
    "    ods.loc[:, [\"Patient ID\", \"Phenotype\", \"Substrate\", \"Rhythm\"]],\n",
    "    csv,\n",
    "    on=\"Patient ID\",\n",
    "    how=\"inner\",\n",
    ")\n",
    "\n",
    "phenotype_mapping = {\n",
    "    \"Long standing persistent\": \"Persistente\",\n",
    "    \"Persistente\": \"Persistente\",\n",
    "    \"Parossistica\": \"Parossistica\",\n",
    "    \"Parossistico\": \"Parossistica\",\n",
    "}\n",
    "\n",
    "substrate_mapping = {\n",
    "    \"Normale\": \"Normale\",\n",
    "    \"Abnormal\": \"Anormale\",\n",
    "    \"Patologia\": \"Anormale\",\n",
    "    \"Patologia \": \"Anormale\",\n",
    "    \"Patologia altri distretti\": \"Anormale\",\n",
    "    \"Patologia parete posteriore\": \"Anormale\",\n",
    "    \"Patologia parete posteriore e anteriore\": \"Anormale\",\n",
    "    \"Patologia posteriore + altri\": \"Anormale\",\n",
    "    \"Patologia posteriore e+ altri\": \"Anormale\",\n",
    "}\n",
    "\n",
    "rhythm_mapping = {\n",
    "    \"AF\": \"FA\",\n",
    "    \"FA\": \"FA\",\n",
    "    \"SR\": \"RS\",\n",
    "    \"RS\": \"RS\",\n",
    "}\n",
    "\n",
    "merged_df[\"Phenotype\"] = merged_df[\"Phenotype\"].map(phenotype_mapping)\n",
    "merged_df[\"Substrate\"] = merged_df[\"Substrate\"].map(substrate_mapping)\n",
    "merged_df[\"Rhythm\"] = merged_df[\"Rhythm\"].map(rhythm_mapping)\n",
    "\n",
    "merged_df"
   ]
  },
  {
   "cell_type": "code",
   "execution_count": 3,
   "id": "2137bb44",
   "metadata": {},
   "outputs": [
    {
     "name": "stdout",
     "output_type": "stream",
     "text": [
      "T-statistic: 5.62, P-value: 0.00\n",
      "AUC: 0.81\n"
     ]
    },
    {
     "data": {
      "image/png": "[encoded data removed]",
      "text/plain": [
       "<Figure size 1000x600 with 1 Axes>"
      ]
     },
     "metadata": {},
     "output_type": "display_data"
    }
   ],
   "source": [
    "from scipy.stats import ttest_ind\n",
    "from sklearn.metrics import roc_auc_score\n",
    "\n",
    "# Perform t-test\n",
    "paroxysmal_lase = merged_df[merged_df[\"Phenotype\"] == \"Parossistica\"][\"LASE\"]\n",
    "persistent_lase = merged_df[merged_df[\"Phenotype\"] == \"Persistente\"][\"LASE\"]\n",
    "\n",
    "t_stat, p_value = ttest_ind(\n",
    "    paroxysmal_lase, persistent_lase, equal_var=False, alternative=\"greater\"\n",
    ")\n",
    "print(f\"T-statistic: {t_stat:.2f}, P-value: {p_value:.2f}\")\n",
    "\n",
    "# Calculate AUC\n",
    "y = merged_df[\"LASE\"]\n",
    "y_true = merged_df[\"Phenotype\"].apply(lambda x: 1 if x == \"Parossistica\" else 0)\n",
    "y_pred = merged_df[\"LASE\"]\n",
    "auc = roc_auc_score(y_true, y_pred)\n",
    "print(f\"AUC: {auc:.2f}\")\n",
    "\n",
    "import matplotlib.pyplot as plt\n",
    "\n",
    "plt.figure(figsize=(10, 6))\n",
    "plt.boxplot(\n",
    "    [\n",
    "        merged_df[merged_df[\"Phenotype\"] == \"Parossistica\"][\"LASE\"],\n",
    "        merged_df[merged_df[\"Phenotype\"] == \"Persistente\"][\"LASE\"],\n",
    "    ],\n",
    "    tick_labels=[\"Paroxysmal\", \"Persistent\"],\n",
    ")\n",
    "plt.title(\"No voltage threshold, unfiltered EGM\")\n",
    "plt.ylabel(\"LASE\")\n",
    "plt.xlabel(\"Phenotype\")\n",
    "plt.grid()\n",
    "plt.savefig(\"phenotype_boxplot.png\", dpi=300, bbox_inches=\"tight\")\n",
    "plt.tight_layout()\n",
    "plt.show()"
   ]
  },
  {
   "cell_type": "code",
   "execution_count": 4,
   "id": "ee95cf28",
   "metadata": {},
   "outputs": [
    {
     "name": "stdout",
     "output_type": "stream",
     "text": [
      "T-statistic: -5.09, P-value: 0.00\n",
      "AUC: 0.79\n"
     ]
    },
    {
     "data": {
      "image/png": "[encoded data removed]",
      "text/plain": [
       "<Figure size 1000x600 with 1 Axes>"
      ]
     },
     "metadata": {},
     "output_type": "display_data"
    }
   ],
   "source": [
    "from scipy.stats import ttest_ind\n",
    "from sklearn.metrics import roc_auc_score\n",
    "\n",
    "# Perform t-test\n",
    "abnormal_lase = merged_df[merged_df[\"Substrate\"] == \"Anormale\"][\"LASE\"]\n",
    "normal_lase = merged_df[merged_df[\"Substrate\"] == \"Normale\"][\"LASE\"]\n",
    "t_stat, p_value = ttest_ind(\n",
    "    abnormal_lase, normal_lase, equal_var=False, alternative=\"less\"\n",
    ")\n",
    "print(f\"T-statistic: {t_stat:.2f}, P-value: {p_value:.2f}\")\n",
    "\n",
    "# Calculate AUC\n",
    "y = merged_df[\"LASE\"]\n",
    "y_true = merged_df[\"Substrate\"].apply(lambda x: 0 if x == \"Anormale\" else 1)\n",
    "y_pred = merged_df[\"LASE\"]\n",
    "auc = roc_auc_score(y_true, y_pred)\n",
    "print(f\"AUC: {auc:.2f}\")\n",
    "\n",
    "import matplotlib.pyplot as plt\n",
    "\n",
    "plt.figure(figsize=(10, 6))\n",
    "plt.boxplot(\n",
    "    [\n",
    "        merged_df[merged_df[\"Substrate\"] == \"Anormale\"][\"LASE\"],\n",
    "        merged_df[merged_df[\"Substrate\"] == \"Normale\"][\"LASE\"],\n",
    "    ],\n",
    "    tick_labels=[\"Abnormal\", \"Normal\"],\n",
    ")\n",
    "plt.title(\"No voltage threshold, unfiltered EGM\")\n",
    "plt.ylabel(\"LASE\")\n",
    "plt.xlabel(\"Substrate\")\n",
    "plt.grid()\n",
    "plt.savefig(\"substrate_boxplot.png\", dpi=300, bbox_inches=\"tight\")\n",
    "plt.tight_layout()\n",
    "plt.show()"
   ]
  },
  {
   "cell_type": "code",
   "execution_count": 5,
   "id": "6db1be47",
   "metadata": {},
   "outputs": [
    {
     "name": "stdout",
     "output_type": "stream",
     "text": [
      "T-statistic: 5.12, P-value: 0.00\n",
      "AUC: 0.79\n"
     ]
    },
    {
     "data": {
      "image/png": "[encoded data removed]",
      "text/plain": [
       "<Figure size 1000x600 with 1 Axes>"
      ]
     },
     "metadata": {},
     "output_type": "display_data"
    }
   ],
   "source": [
    "from scipy.stats import ttest_ind\n",
    "from sklearn.metrics import roc_auc_score\n",
    "\n",
    "# Perform t-test\n",
    "sinus_lase = merged_df[merged_df[\"Rhythm\"] == \"RS\"][\"LASE\"]\n",
    "fibril_lase = merged_df[merged_df[\"Rhythm\"] == \"FA\"][\"LASE\"]\n",
    "t_stat, p_value = ttest_ind(\n",
    "    sinus_lase, fibril_lase, equal_var=False, alternative=\"greater\"\n",
    ")\n",
    "print(f\"T-statistic: {t_stat:.2f}, P-value: {p_value:.2f}\")\n",
    "\n",
    "# Calculate AUC\n",
    "y = merged_df[\"LASE\"]\n",
    "y_true = merged_df[\"Rhythm\"].apply(lambda x: 0 if x == \"FA\" else 1)\n",
    "y_pred = merged_df[\"LASE\"]\n",
    "auc = roc_auc_score(y_true, y_pred)\n",
    "print(f\"AUC: {auc:.2f}\")\n",
    "\n",
    "import matplotlib.pyplot as plt\n",
    "\n",
    "plt.figure(figsize=(10, 6))\n",
    "plt.boxplot(\n",
    "    [\n",
    "        merged_df[merged_df[\"Rhythm\"] == \"RS\"][\"LASE\"],\n",
    "        merged_df[merged_df[\"Rhythm\"] == \"FA\"][\"LASE\"],\n",
    "    ],\n",
    "    tick_labels=[\"RS\", \"FA\"],\n",
    ")\n",
    "plt.title(\"No voltage threshold, unfiltered EGM\")\n",
    "plt.ylabel(\"LASE\")\n",
    "plt.xlabel(\"Rhythm\")\n",
    "plt.grid()\n",
    "plt.savefig(\"rhythm_boxplot.png\", dpi=300, bbox_inches=\"tight\")\n",
    "plt.tight_layout()\n",
    "plt.show()"
   ]
  }
 ],
 "metadata": {
  "kernelspec": {
   "display_name": "base",
   "language": "python",
   "name": "python3"
  },
  "language_info": {
   "codemirror_mode": {
    "name": "ipython",
    "version": 3
   },
   "file_extension": ".py",
   "mimetype": "text/x-python",
   "name": "python",
   "nbconvert_exporter": "python",
   "pygments_lexer": "ipython3",
   "version": "3.10.13"
  }
 },
 "nbformat": 4,
 "nbformat_minor": 5
}
