{
 "cells": [
  {
   "cell_type": "code",
   "execution_count": 12,
   "id": "2dc95d09",
   "metadata": {},
   "outputs": [
    {
     "data": {
      "application/vnd.microsoft.datawrangler.viewer.v0+json": {
       "columns": [
        {
         "name": "index",
         "rawType": "int64",
         "type": "integer"
        },
        {
         "name": "Patient ID",
         "rawType": "int64",
         "type": "integer"
        },
        {
         "name": "Phenotype",
         "rawType": "object",
         "type": "string"
        },
        {
         "name": "Substrate",
         "rawType": "object",
         "type": "string"
        },
        {
         "name": "Rhythm",
         "rawType": "object",
         "type": "string"
        }
       ],
       "conversionMethod": "pd.DataFrame",
       "ref": "382f660a-e9ba-4e1b-b5bd-33df46af1803",
       "rows": [
        [
         "3",
         "9",
         "Persistent",
         "Abnormal",
         "AF"
        ],
        [
         "4",
         "10",
         "Paroxysmal",
         "Normal",
         "SR"
        ],
        [
         "5",
         "11",
         "Persistent",
         "Normal",
         "AF"
        ],
        [
         "6",
         "12",
         "Persistent",
         "Abnormal",
         "SR"
        ],
        [
         "7",
         "13",
         "Persistent",
         "Abnormal",
         "AF"
        ],
        [
         "8",
         "14",
         "Paroxysmal",
         "Normal",
         "AF"
        ],
        [
         "9",
         "15",
         "Paroxysmal",
         "Normal",
         "SR"
        ],
        [
         "10",
         "16",
         "Persistent",
         "Abnormal",
         "AF"
        ],
        [
         "11",
         "17",
         "Paroxysmal",
         "Normal",
         "SR"
        ],
        [
         "12",
         "18",
         "Paroxysmal",
         "Normal",
         "SR"
        ],
        [
         "13",
         "19",
         "Persistent",
         "Normal",
         "AF"
        ],
        [
         "14",
         "20",
         "Paroxysmal",
         "Normal",
         "SR"
        ],
        [
         "15",
         "21",
         "Paroxysmal",
         "Normal",
         "SR"
        ],
        [
         "16",
         "22",
         "Persistent",
         "Abnormal",
         "AF"
        ],
        [
         "17",
         "23",
         "Paroxysmal",
         "Normal",
         "SR"
        ],
        [
         "20",
         "3",
         "Parossistica",
         "Normale",
         "RS"
        ],
        [
         "21",
         "4",
         "Parossistica",
         "Normale",
         "RS"
        ],
        [
         "22",
         "5",
         "Parossistica",
         "Normale",
         "FA"
        ],
        [
         "23",
         "6",
         "Parossistica",
         "Patologia posteriore + altri",
         "RS"
        ],
        [
         "24",
         "7",
         "Persistente",
         "Patologia parete posteriore",
         "FA"
        ],
        [
         "26",
         "9",
         "Parossistica",
         "Normale",
         "RS"
        ],
        [
         "27",
         "10",
         "Persistente",
         "Normale",
         "FA"
        ],
        [
         "28",
         "11",
         "Parossistica",
         "Patologia altri distretti",
         "RS"
        ],
        [
         "29",
         "12",
         "Parossistica",
         "Normale",
         "Altro (note)"
        ],
        [
         "30",
         "13",
         "Persistente",
         "Patologia altri distretti",
         "FA"
        ],
        [
         "31",
         "14",
         "Parossistica",
         "Normale",
         "FA"
        ],
        [
         "32",
         "15",
         "Parossistica",
         "Normale",
         "RS"
        ],
        [
         "35",
         "18",
         "Parossistica",
         "Normale",
         "RS"
        ],
        [
         "38",
         "21",
         "Parossistica",
         "Normale",
         "RS"
        ],
        [
         "39",
         "22",
         "Parossistica",
         "Normale",
         "RS"
        ],
        [
         "40",
         "23",
         "Parossistica",
         "Normale",
         "RS"
        ],
        [
         "41",
         "24",
         "Persistente",
         "Patologia altri distretti",
         "FA"
        ],
        [
         "42",
         "25",
         "Parossistica",
         "Normale",
         "RS"
        ],
        [
         "43",
         "26",
         "Long standing persistent",
         "Patologia posteriore + altri",
         "FA"
        ],
        [
         "44",
         "27",
         "Long standing persistent",
         "Normale",
         "FA"
        ],
        [
         "45",
         "28",
         "Parossistica",
         "Normale",
         "RS"
        ],
        [
         "46",
         "29",
         "Parossistica",
         "Normale",
         "RS"
        ],
        [
         "47",
         "30",
         "Persistente",
         "Patologia parete posteriore",
         "FA"
        ],
        [
         "48",
         "31",
         "Parossistica",
         "Normale",
         "RS"
        ],
        [
         "50",
         "33",
         "Parossistica",
         "Normale",
         "RS"
        ],
        [
         "51",
         "34",
         "Parossistica",
         "Normale",
         "RS"
        ],
        [
         "52",
         "35",
         "Parossistica",
         "Normale",
         "RS"
        ],
        [
         "53",
         "36",
         "Persistente",
         "Patologia posteriore + altri",
         "FA"
        ],
        [
         "55",
         "38",
         "Persistente",
         "Normale",
         "FA"
        ],
        [
         "56",
         "39",
         "Parossistica",
         "Normale",
         "RS"
        ],
        [
         "57",
         "40",
         "Parossistica",
         "Patologia altri distretti",
         "RS"
        ],
        [
         "58",
         "41",
         "Parossistica",
         "Normale",
         "RS"
        ],
        [
         "59",
         "42",
         "Parossistica",
         "Normale",
         "RS"
        ],
        [
         "60",
         "43",
         "Persistente",
         "Patologia parete posteriore",
         "FA"
        ],
        [
         "61",
         "44",
         "Parossistica",
         "Normale",
         "RS"
        ]
       ],
       "shape": {
        "columns": 4,
        "rows": 160
       }
      },
      "text/html": [
       "<div>\n",
       "<style scoped>\n",
       "    .dataframe tbody tr th:only-of-type {\n",
       "        vertical-align: middle;\n",
       "    }\n",
       "\n",
       "    .dataframe tbody tr th {\n",
       "        vertical-align: top;\n",
       "    }\n",
       "\n",
       "    .dataframe thead th {\n",
       "        text-align: right;\n",
       "    }\n",
       "</style>\n",
       "<table border=\"1\" class=\"dataframe\">\n",
       "  <thead>\n",
       "    <tr style=\"text-align: right;\">\n",
       "      <th></th>\n",
       "      <th>Patient ID</th>\n",
       "      <th>Phenotype</th>\n",
       "      <th>Substrate</th>\n",
       "      <th>Rhythm</th>\n",
       "    </tr>\n",
       "  </thead>\n",
       "  <tbody>\n",
       "    <tr>\n",
       "      <th>3</th>\n",
       "      <td>9</td>\n",
       "      <td>Persistent</td>\n",
       "      <td>Abnormal</td>\n",
       "      <td>AF</td>\n",
       "    </tr>\n",
       "    <tr>\n",
       "      <th>4</th>\n",
       "      <td>10</td>\n",
       "      <td>Paroxysmal</td>\n",
       "      <td>Normal</td>\n",
       "      <td>SR</td>\n",
       "    </tr>\n",
       "    <tr>\n",
       "      <th>5</th>\n",
       "      <td>11</td>\n",
       "      <td>Persistent</td>\n",
       "      <td>Normal</td>\n",
       "      <td>AF</td>\n",
       "    </tr>\n",
       "    <tr>\n",
       "      <th>6</th>\n",
       "      <td>12</td>\n",
       "      <td>Persistent</td>\n",
       "      <td>Abnormal</td>\n",
       "      <td>SR</td>\n",
       "    </tr>\n",
       "    <tr>\n",
       "      <th>7</th>\n",
       "      <td>13</td>\n",
       "      <td>Persistent</td>\n",
       "      <td>Abnormal</td>\n",
       "      <td>AF</td>\n",
       "    </tr>\n",
       "    <tr>\n",
       "      <th>...</th>\n",
       "      <td>...</td>\n",
       "      <td>...</td>\n",
       "      <td>...</td>\n",
       "      <td>...</td>\n",
       "    </tr>\n",
       "    <tr>\n",
       "      <th>171</th>\n",
       "      <td>154</td>\n",
       "      <td>Parossistica</td>\n",
       "      <td>Normale</td>\n",
       "      <td>RS</td>\n",
       "    </tr>\n",
       "    <tr>\n",
       "      <th>177</th>\n",
       "      <td>160</td>\n",
       "      <td>Parossistica</td>\n",
       "      <td>Normale</td>\n",
       "      <td>RS</td>\n",
       "    </tr>\n",
       "    <tr>\n",
       "      <th>178</th>\n",
       "      <td>161</td>\n",
       "      <td>Parossistica</td>\n",
       "      <td>Normale</td>\n",
       "      <td>RS</td>\n",
       "    </tr>\n",
       "    <tr>\n",
       "      <th>179</th>\n",
       "      <td>162</td>\n",
       "      <td>Parossistica</td>\n",
       "      <td>Normale</td>\n",
       "      <td>RS</td>\n",
       "    </tr>\n",
       "    <tr>\n",
       "      <th>236</th>\n",
       "      <td>219</td>\n",
       "      <td>Persistente</td>\n",
       "      <td>Patologia altri distretti</td>\n",
       "      <td>FA</td>\n",
       "    </tr>\n",
       "  </tbody>\n",
       "</table>\n",
       "<p>160 rows × 4 columns</p>\n",
       "</div>"
      ],
      "text/plain": [
       "     Patient ID     Phenotype                  Substrate Rhythm\n",
       "3             9    Persistent                   Abnormal     AF\n",
       "4            10    Paroxysmal                     Normal     SR\n",
       "5            11    Persistent                     Normal     AF\n",
       "6            12    Persistent                   Abnormal     SR\n",
       "7            13    Persistent                   Abnormal     AF\n",
       "..          ...           ...                        ...    ...\n",
       "171         154  Parossistica                    Normale     RS\n",
       "177         160  Parossistica                    Normale     RS\n",
       "178         161  Parossistica                    Normale     RS\n",
       "179         162  Parossistica                    Normale     RS\n",
       "236         219   Persistente  Patologia altri distretti     FA\n",
       "\n",
       "[160 rows x 4 columns]"
      ]
     },
     "metadata": {},
     "output_type": "display_data"
    },
    {
     "data": {
      "application/vnd.microsoft.datawrangler.viewer.v0+json": {
       "columns": [
        {
         "name": "index",
         "rawType": "int64",
         "type": "integer"
        },
        {
         "name": "Patient ID",
         "rawType": "int64",
         "type": "integer"
        },
        {
         "name": "Entropy",
         "rawType": "int64",
         "type": "integer"
        },
        {
         "name": "LASE",
         "rawType": "float64",
         "type": "float"
        }
       ],
       "conversionMethod": "pd.DataFrame",
       "ref": "482209b5-0c67-4fdd-8cdb-d3ef41f2d41e",
       "rows": [
        [
         "3",
         "100",
         "0",
         "2.08830725609269"
        ],
        [
         "4",
         "101",
         "0",
         "1.32816478006639"
        ],
        [
         "5",
         "102",
         "0",
         "1.09304877620633"
        ],
        [
         "6",
         "103",
         "0",
         "1.87349322593927"
        ],
        [
         "7",
         "104",
         "0",
         "1.95837211241396"
        ],
        [
         "8",
         "105",
         "0",
         "2.27485614130517"
        ],
        [
         "9",
         "106",
         "0",
         "0.905131277068917"
        ],
        [
         "10",
         "107",
         "0",
         "1.50492534040696"
        ],
        [
         "11",
         "110",
         "0",
         "2.18330183887715"
        ],
        [
         "12",
         "111",
         "0",
         "2.18388713557583"
        ],
        [
         "13",
         "112",
         "0",
         "2.26426097513103"
        ],
        [
         "14",
         "113",
         "0",
         "1.98818856520576"
        ],
        [
         "15",
         "115",
         "0",
         "1.07836348554294"
        ],
        [
         "16",
         "117",
         "0",
         "0.862260235084251"
        ],
        [
         "17",
         "117",
         "0",
         "0.0"
        ],
        [
         "18",
         "1191",
         "0",
         "0.720652642724262"
        ],
        [
         "19",
         "1192",
         "0",
         "1.07836348554294"
        ],
        [
         "20",
         "120",
         "0",
         "0.714186075241994"
        ],
        [
         "21",
         "123",
         "0",
         "1.12601919049902"
        ],
        [
         "22",
         "124",
         "0",
         "1.38467206079524"
        ],
        [
         "23",
         "125",
         "0",
         "2.10307240880669"
        ],
        [
         "24",
         "126",
         "0",
         "1.68466473595838"
        ],
        [
         "25",
         "127",
         "0",
         "1.07183012181031"
        ],
        [
         "26",
         "128",
         "0",
         "0.768617112320391"
        ],
        [
         "27",
         "129",
         "0",
         "1.39901659095027"
        ],
        [
         "28",
         "131",
         "0",
         "0.960316327304543"
        ],
        [
         "29",
         "134",
         "0",
         "2.2576303304091"
        ],
        [
         "30",
         "135",
         "0",
         "1.12166603615639"
        ],
        [
         "31",
         "137",
         "0",
         "2.18714951805329"
        ],
        [
         "32",
         "138",
         "0",
         "1.12166603615639"
        ],
        [
         "33",
         "139",
         "0",
         "1.75078563129483"
        ],
        [
         "34",
         "140",
         "0",
         "2.23813313936764"
        ],
        [
         "35",
         "142",
         "0",
         "2.15564798182229"
        ],
        [
         "36",
         "143",
         "0",
         "0.998559827146894"
        ],
        [
         "37",
         "144",
         "0",
         "1.90040969486433"
        ],
        [
         "38",
         "145",
         "0",
         "1.58123361013271"
        ],
        [
         "39",
         "146",
         "0",
         "0.980352732842011"
        ],
        [
         "40",
         "147",
         "0",
         "1.77454608396328"
        ],
        [
         "41",
         "148",
         "0",
         "1.5391081440404"
        ],
        [
         "42",
         "149",
         "0",
         "1.12166603615639"
        ],
        [
         "43",
         "150",
         "0",
         "2.18060031563294"
        ],
        [
         "44",
         "151",
         "0",
         "2.08516661506153"
        ],
        [
         "45",
         "40",
         "0",
         "1.7985421389985"
        ],
        [
         "46",
         "41",
         "0",
         "2.01979203340263"
        ],
        [
         "47",
         "42",
         "0",
         "1.24009905421284"
        ],
        [
         "48",
         "43",
         "0",
         "1.24707482042698"
        ],
        [
         "49",
         "45",
         "0",
         "1.46776213584661"
        ],
        [
         "50",
         "46",
         "0",
         "1.90512061341045"
        ],
        [
         "51",
         "47",
         "0",
         "1.36727746171762"
        ],
        [
         "52",
         "48",
         "0",
         "1.3184558959653"
        ]
       ],
       "shape": {
        "columns": 3,
        "rows": 97
       }
      },
      "text/html": [
       "<div>\n",
       "<style scoped>\n",
       "    .dataframe tbody tr th:only-of-type {\n",
       "        vertical-align: middle;\n",
       "    }\n",
       "\n",
       "    .dataframe tbody tr th {\n",
       "        vertical-align: top;\n",
       "    }\n",
       "\n",
       "    .dataframe thead th {\n",
       "        text-align: right;\n",
       "    }\n",
       "</style>\n",
       "<table border=\"1\" class=\"dataframe\">\n",
       "  <thead>\n",
       "    <tr style=\"text-align: right;\">\n",
       "      <th></th>\n",
       "      <th>Patient ID</th>\n",
       "      <th>Entropy</th>\n",
       "      <th>LASE</th>\n",
       "    </tr>\n",
       "  </thead>\n",
       "  <tbody>\n",
       "    <tr>\n",
       "      <th>3</th>\n",
       "      <td>100</td>\n",
       "      <td>0</td>\n",
       "      <td>2.088307</td>\n",
       "    </tr>\n",
       "    <tr>\n",
       "      <th>4</th>\n",
       "      <td>101</td>\n",
       "      <td>0</td>\n",
       "      <td>1.328165</td>\n",
       "    </tr>\n",
       "    <tr>\n",
       "      <th>5</th>\n",
       "      <td>102</td>\n",
       "      <td>0</td>\n",
       "      <td>1.093049</td>\n",
       "    </tr>\n",
       "    <tr>\n",
       "      <th>6</th>\n",
       "      <td>103</td>\n",
       "      <td>0</td>\n",
       "      <td>1.873493</td>\n",
       "    </tr>\n",
       "    <tr>\n",
       "      <th>7</th>\n",
       "      <td>104</td>\n",
       "      <td>0</td>\n",
       "      <td>1.958372</td>\n",
       "    </tr>\n",
       "    <tr>\n",
       "      <th>...</th>\n",
       "      <td>...</td>\n",
       "      <td>...</td>\n",
       "      <td>...</td>\n",
       "    </tr>\n",
       "    <tr>\n",
       "      <th>95</th>\n",
       "      <td>94</td>\n",
       "      <td>0</td>\n",
       "      <td>1.992618</td>\n",
       "    </tr>\n",
       "    <tr>\n",
       "      <th>96</th>\n",
       "      <td>95</td>\n",
       "      <td>0</td>\n",
       "      <td>1.387183</td>\n",
       "    </tr>\n",
       "    <tr>\n",
       "      <th>97</th>\n",
       "      <td>96</td>\n",
       "      <td>0</td>\n",
       "      <td>1.947167</td>\n",
       "    </tr>\n",
       "    <tr>\n",
       "      <th>98</th>\n",
       "      <td>97</td>\n",
       "      <td>0</td>\n",
       "      <td>1.720367</td>\n",
       "    </tr>\n",
       "    <tr>\n",
       "      <th>99</th>\n",
       "      <td>98</td>\n",
       "      <td>0</td>\n",
       "      <td>1.037636</td>\n",
       "    </tr>\n",
       "  </tbody>\n",
       "</table>\n",
       "<p>97 rows × 3 columns</p>\n",
       "</div>"
      ],
      "text/plain": [
       "    Patient ID  Entropy      LASE\n",
       "3          100        0  2.088307\n",
       "4          101        0  1.328165\n",
       "5          102        0  1.093049\n",
       "6          103        0  1.873493\n",
       "7          104        0  1.958372\n",
       "..         ...      ...       ...\n",
       "95          94        0  1.992618\n",
       "96          95        0  1.387183\n",
       "97          96        0  1.947167\n",
       "98          97        0  1.720367\n",
       "99          98        0  1.037636\n",
       "\n",
       "[97 rows x 3 columns]"
      ]
     },
     "execution_count": 12,
     "metadata": {},
     "output_type": "execute_result"
    }
   ],
   "source": [
    "import pandas as pd\n",
    "\n",
    "ods = (\n",
    "    pd.read_excel(\n",
    "        \"../DB AF Completo 1.ods\",\n",
    "    )\n",
    "    .loc[:, [\"ID\", \"Phenotype\", \"Low Voltage / Scar area\", \"Rhythm during Mapping\"]]\n",
    "    .rename(\n",
    "        columns={\n",
    "            \"ID\": \"Patient ID\",\n",
    "            \"Low Voltage / Scar area\": \"Substrate\",\n",
    "            \"Rhythm during Mapping\": \"Rhythm\",\n",
    "        }\n",
    "    )\n",
    "    .dropna(axis=0, how=\"any\")\n",
    "    .astype({\"Patient ID\": int})\n",
    ")\n",
    "csv = (\n",
    "    pd.read_csv(\"thrs_<15_filt/lase.csv\", sep=\",\")\n",
    "    .dropna(axis=0, how=\"any\")\n",
    "    .astype({\"Patient ID\": int})\n",
    ")\n",
    "display(ods)\n",
    "csv"
   ]
  },
  {
   "cell_type": "code",
   "execution_count": 13,
   "id": "95341273",
   "metadata": {},
   "outputs": [
    {
     "data": {
      "application/vnd.microsoft.datawrangler.viewer.v0+json": {
       "columns": [
        {
         "name": "index",
         "rawType": "int64",
         "type": "integer"
        },
        {
         "name": "Patient ID",
         "rawType": "int64",
         "type": "integer"
        },
        {
         "name": "Phenotype",
         "rawType": "object",
         "type": "string"
        },
        {
         "name": "Substrate",
         "rawType": "object",
         "type": "string"
        },
        {
         "name": "Rhythm",
         "rawType": "object",
         "type": "unknown"
        },
        {
         "name": "Entropy",
         "rawType": "int64",
         "type": "integer"
        },
        {
         "name": "LASE",
         "rawType": "float64",
         "type": "float"
        }
       ],
       "conversionMethod": "pd.DataFrame",
       "ref": "aa61cf29-77e3-4628-a5c0-db5e521ce1cf",
       "rows": [
        [
         "0",
         "40",
         "Parossistica",
         "Anormale",
         "RS",
         "0",
         "1.7985421389985"
        ],
        [
         "1",
         "41",
         "Parossistica",
         "Normale",
         "RS",
         "0",
         "2.01979203340263"
        ],
        [
         "2",
         "42",
         "Parossistica",
         "Normale",
         "RS",
         "0",
         "1.24009905421284"
        ],
        [
         "3",
         "43",
         "Persistente",
         "Anormale",
         "FA",
         "0",
         "1.24707482042698"
        ],
        [
         "4",
         "45",
         "Persistente",
         "Anormale",
         "FA",
         "0",
         "1.46776213584661"
        ],
        [
         "5",
         "46",
         "Parossistica",
         "Normale",
         "RS",
         "0",
         "1.90512061341045"
        ],
        [
         "6",
         "47",
         "Persistente",
         "Anormale",
         "FA",
         "0",
         "1.36727746171762"
        ],
        [
         "7",
         "48",
         "Persistente",
         "Normale",
         "FA",
         "0",
         "1.3184558959653"
        ],
        [
         "8",
         "49",
         "Persistente",
         "Normale",
         "FA",
         "0",
         "1.68839063968115"
        ],
        [
         "9",
         "50",
         "Parossistica",
         "Normale",
         "RS",
         "0",
         "1.51175377968893"
        ],
        [
         "10",
         "51",
         "Persistente",
         "Normale",
         "FA",
         "0",
         "1.50367252733795"
        ],
        [
         "11",
         "52",
         "Persistente",
         "Normale",
         "FA",
         "0",
         "1.33714461723176"
        ],
        [
         "12",
         "53",
         "Persistente",
         "Normale",
         "FA",
         "0",
         "1.44793909010778"
        ],
        [
         "13",
         "55",
         "Persistente",
         "Anormale",
         null,
         "0",
         "1.31000527455826"
        ],
        [
         "14",
         "56",
         "Parossistica",
         "Normale",
         "RS",
         "0",
         "2.27485614130517"
        ],
        [
         "15",
         "57",
         "Parossistica",
         "Normale",
         "RS",
         "0",
         "2.27485614130517"
        ],
        [
         "16",
         "58",
         "Parossistica",
         "Normale",
         "RS",
         "0",
         "1.12166603615639"
        ],
        [
         "17",
         "59",
         "Persistente",
         "Anormale",
         "FA",
         "0",
         "1.12166603615639"
        ],
        [
         "18",
         "60",
         "Parossistica",
         "Normale",
         "RS",
         "0",
         "1.12166603615639"
        ],
        [
         "19",
         "61",
         "Persistente",
         "Anormale",
         "FA",
         "0",
         "1.94016541953216"
        ],
        [
         "20",
         "62",
         "Persistente",
         "Normale",
         "FA",
         "0",
         "1.32003272051559"
        ],
        [
         "21",
         "63",
         "Parossistica",
         "Anormale",
         "RS",
         "0",
         "1.94965804343481"
        ],
        [
         "22",
         "64",
         "Parossistica",
         "Normale",
         "RS",
         "0",
         "2.02315088747135"
        ],
        [
         "23",
         "65",
         "Parossistica",
         "Normale",
         "RS",
         "0",
         "1.98332851389784"
        ],
        [
         "24",
         "66",
         "Persistente",
         "Anormale",
         "FA",
         "0",
         "1.28960419619302"
        ],
        [
         "25",
         "68",
         "Parossistica",
         "Normale",
         "RS",
         "0",
         "1.79780414431217"
        ],
        [
         "26",
         "70",
         "Parossistica",
         "Anormale",
         "RS",
         "0",
         "1.47397535328515"
        ],
        [
         "27",
         "71",
         "Parossistica",
         "Anormale",
         "RS",
         "0",
         "1.96718430890676"
        ],
        [
         "28",
         "72",
         "Persistente",
         "Anormale",
         "FA",
         "0",
         "1.35910353380452"
        ],
        [
         "29",
         "73",
         "Parossistica",
         "Normale",
         "RS",
         "0",
         "1.88729787212842"
        ],
        [
         "30",
         "74",
         "Parossistica",
         "Normale",
         "RS",
         "0",
         "1.85461697392002"
        ],
        [
         "31",
         "75",
         "Parossistica",
         "Anormale",
         "RS",
         "0",
         "1.48068562006983"
        ],
        [
         "32",
         "76",
         "Persistente",
         "Anormale",
         "FA",
         "0",
         "0.825019183645204"
        ],
        [
         "33",
         "77",
         "Persistente",
         "Anormale",
         null,
         "0",
         "1.37173001947655"
        ],
        [
         "34",
         "78",
         "Persistente",
         "Anormale",
         "FA",
         "0",
         "1.3151610180692"
        ],
        [
         "35",
         "79",
         "Parossistica",
         "Normale",
         "RS",
         "0",
         "1.78082686938453"
        ],
        [
         "36",
         "80",
         "Parossistica",
         "Normale",
         "RS",
         "0",
         "2.38693860797055"
        ],
        [
         "37",
         "81",
         "Persistente",
         "Anormale",
         "FA",
         "0",
         "1.54849892704444"
        ],
        [
         "38",
         "82",
         "Parossistica",
         "Normale",
         "RS",
         "0",
         "1.58087291886906"
        ],
        [
         "39",
         "83",
         "Parossistica",
         "Normale",
         "RS",
         "0",
         "2.0121085748659"
        ],
        [
         "40",
         "84",
         "Parossistica",
         "Normale",
         "RS",
         "0",
         "2.05957713127444"
        ],
        [
         "41",
         "85",
         "Parossistica",
         "Anormale",
         "RS",
         "0",
         "2.21543203050203"
        ],
        [
         "42",
         "86",
         "Persistente",
         "Normale",
         "FA",
         "0",
         "1.52916018755871"
        ],
        [
         "43",
         "87",
         "Parossistica",
         "Normale",
         "RS",
         "0",
         "1.85461548219249"
        ],
        [
         "44",
         "88",
         "Parossistica",
         "Normale",
         "RS",
         "0",
         "1.27991030284767"
        ],
        [
         "45",
         "89",
         "Parossistica",
         "Normale",
         null,
         "0",
         "2.00643609075365"
        ],
        [
         "46",
         "90",
         "Parossistica",
         "Normale",
         "RS",
         "0",
         "1.73363929852581"
        ],
        [
         "47",
         "91",
         "Parossistica",
         "Anormale",
         "RS",
         "0",
         "1.46771328002404"
        ],
        [
         "48",
         "92",
         "Parossistica",
         "Normale",
         "RS",
         "0",
         "1.97199557272181"
        ],
        [
         "49",
         "93",
         "Persistente",
         "Normale",
         "FA",
         "0",
         "1.88476940912144"
        ]
       ],
       "shape": {
        "columns": 6,
        "rows": 92
       }
      },
      "text/html": [
       "<div>\n",
       "<style scoped>\n",
       "    .dataframe tbody tr th:only-of-type {\n",
       "        vertical-align: middle;\n",
       "    }\n",
       "\n",
       "    .dataframe tbody tr th {\n",
       "        vertical-align: top;\n",
       "    }\n",
       "\n",
       "    .dataframe thead th {\n",
       "        text-align: right;\n",
       "    }\n",
       "</style>\n",
       "<table border=\"1\" class=\"dataframe\">\n",
       "  <thead>\n",
       "    <tr style=\"text-align: right;\">\n",
       "      <th></th>\n",
       "      <th>Patient ID</th>\n",
       "      <th>Phenotype</th>\n",
       "      <th>Substrate</th>\n",
       "      <th>Rhythm</th>\n",
       "      <th>Entropy</th>\n",
       "      <th>LASE</th>\n",
       "    </tr>\n",
       "  </thead>\n",
       "  <tbody>\n",
       "    <tr>\n",
       "      <th>0</th>\n",
       "      <td>40</td>\n",
       "      <td>Parossistica</td>\n",
       "      <td>Anormale</td>\n",
       "      <td>RS</td>\n",
       "      <td>0</td>\n",
       "      <td>1.798542</td>\n",
       "    </tr>\n",
       "    <tr>\n",
       "      <th>1</th>\n",
       "      <td>41</td>\n",
       "      <td>Parossistica</td>\n",
       "      <td>Normale</td>\n",
       "      <td>RS</td>\n",
       "      <td>0</td>\n",
       "      <td>2.019792</td>\n",
       "    </tr>\n",
       "    <tr>\n",
       "      <th>2</th>\n",
       "      <td>42</td>\n",
       "      <td>Parossistica</td>\n",
       "      <td>Normale</td>\n",
       "      <td>RS</td>\n",
       "      <td>0</td>\n",
       "      <td>1.240099</td>\n",
       "    </tr>\n",
       "    <tr>\n",
       "      <th>3</th>\n",
       "      <td>43</td>\n",
       "      <td>Persistente</td>\n",
       "      <td>Anormale</td>\n",
       "      <td>FA</td>\n",
       "      <td>0</td>\n",
       "      <td>1.247075</td>\n",
       "    </tr>\n",
       "    <tr>\n",
       "      <th>4</th>\n",
       "      <td>45</td>\n",
       "      <td>Persistente</td>\n",
       "      <td>Anormale</td>\n",
       "      <td>FA</td>\n",
       "      <td>0</td>\n",
       "      <td>1.467762</td>\n",
       "    </tr>\n",
       "    <tr>\n",
       "      <th>...</th>\n",
       "      <td>...</td>\n",
       "      <td>...</td>\n",
       "      <td>...</td>\n",
       "      <td>...</td>\n",
       "      <td>...</td>\n",
       "      <td>...</td>\n",
       "    </tr>\n",
       "    <tr>\n",
       "      <th>87</th>\n",
       "      <td>147</td>\n",
       "      <td>Parossistica</td>\n",
       "      <td>Normale</td>\n",
       "      <td>RS</td>\n",
       "      <td>0</td>\n",
       "      <td>1.774546</td>\n",
       "    </tr>\n",
       "    <tr>\n",
       "      <th>88</th>\n",
       "      <td>148</td>\n",
       "      <td>Parossistica</td>\n",
       "      <td>Normale</td>\n",
       "      <td>RS</td>\n",
       "      <td>0</td>\n",
       "      <td>1.539108</td>\n",
       "    </tr>\n",
       "    <tr>\n",
       "      <th>89</th>\n",
       "      <td>149</td>\n",
       "      <td>Parossistica</td>\n",
       "      <td>Normale</td>\n",
       "      <td>RS</td>\n",
       "      <td>0</td>\n",
       "      <td>1.121666</td>\n",
       "    </tr>\n",
       "    <tr>\n",
       "      <th>90</th>\n",
       "      <td>150</td>\n",
       "      <td>Parossistica</td>\n",
       "      <td>Normale</td>\n",
       "      <td>RS</td>\n",
       "      <td>0</td>\n",
       "      <td>2.180600</td>\n",
       "    </tr>\n",
       "    <tr>\n",
       "      <th>91</th>\n",
       "      <td>151</td>\n",
       "      <td>Parossistica</td>\n",
       "      <td>Normale</td>\n",
       "      <td>RS</td>\n",
       "      <td>0</td>\n",
       "      <td>2.085167</td>\n",
       "    </tr>\n",
       "  </tbody>\n",
       "</table>\n",
       "<p>92 rows × 6 columns</p>\n",
       "</div>"
      ],
      "text/plain": [
       "    Patient ID     Phenotype Substrate Rhythm  Entropy      LASE\n",
       "0           40  Parossistica  Anormale     RS        0  1.798542\n",
       "1           41  Parossistica   Normale     RS        0  2.019792\n",
       "2           42  Parossistica   Normale     RS        0  1.240099\n",
       "3           43   Persistente  Anormale     FA        0  1.247075\n",
       "4           45   Persistente  Anormale     FA        0  1.467762\n",
       "..         ...           ...       ...    ...      ...       ...\n",
       "87         147  Parossistica   Normale     RS        0  1.774546\n",
       "88         148  Parossistica   Normale     RS        0  1.539108\n",
       "89         149  Parossistica   Normale     RS        0  1.121666\n",
       "90         150  Parossistica   Normale     RS        0  2.180600\n",
       "91         151  Parossistica   Normale     RS        0  2.085167\n",
       "\n",
       "[92 rows x 6 columns]"
      ]
     },
     "execution_count": 13,
     "metadata": {},
     "output_type": "execute_result"
    }
   ],
   "source": [
    "# Join the two dataframes on the \"ID\" column\n",
    "merged_df = pd.merge(\n",
    "    ods.loc[:, [\"Patient ID\", \"Phenotype\", \"Substrate\", \"Rhythm\"]],\n",
    "    csv,\n",
    "    on=\"Patient ID\",\n",
    "    how=\"inner\",\n",
    ")\n",
    "\n",
    "phenotype_mapping = {\n",
    "    \"Long standing persistent\": \"Persistente\",\n",
    "    \"Persistente\": \"Persistente\",\n",
    "    \"Parossistica\": \"Parossistica\",\n",
    "    \"Parossistico\": \"Parossistica\",\n",
    "}\n",
    "\n",
    "substrate_mapping = {\n",
    "    \"Normale\": \"Normale\",\n",
    "    \"Abnormal\": \"Anormale\",\n",
    "    \"Patologia\": \"Anormale\",\n",
    "    \"Patologia \": \"Anormale\",\n",
    "    \"Patologia altri distretti\": \"Anormale\",\n",
    "    \"Patologia parete posteriore\": \"Anormale\",\n",
    "    \"Patologia parete posteriore e anteriore\": \"Anormale\",\n",
    "    \"Patologia posteriore + altri\": \"Anormale\",\n",
    "    \"Patologia posteriore e+ altri\": \"Anormale\",\n",
    "}\n",
    "\n",
    "rhythm_mapping = {\n",
    "    \"AF\": \"FA\",\n",
    "    \"FA\": \"FA\",\n",
    "    \"SR\": \"RS\",\n",
    "    \"RS\": \"RS\",\n",
    "}\n",
    "\n",
    "merged_df[\"Phenotype\"] = merged_df[\"Phenotype\"].map(phenotype_mapping)\n",
    "merged_df[\"Substrate\"] = merged_df[\"Substrate\"].map(substrate_mapping)\n",
    "merged_df[\"Rhythm\"] = merged_df[\"Rhythm\"].map(rhythm_mapping)\n",
    "\n",
    "merged_df"
   ]
  },
  {
   "cell_type": "code",
   "execution_count": 14,
   "id": "09c24b51",
   "metadata": {},
   "outputs": [
    {
     "data": {
      "application/vnd.microsoft.datawrangler.viewer.v0+json": {
       "columns": [
        {
         "name": "Phenotype",
         "rawType": "object",
         "type": "string"
        },
        {
         "name": "FA",
         "rawType": "int64",
         "type": "integer"
        },
        {
         "name": "RS",
         "rawType": "int64",
         "type": "integer"
        },
        {
         "name": "Totale",
         "rawType": "int64",
         "type": "integer"
        }
       ],
       "conversionMethod": "pd.DataFrame",
       "ref": "6a69644f-a62a-4266-863d-7ca9864d0d65",
       "rows": [
        [
         "Parossistica",
         "3",
         "53",
         "56"
        ],
        [
         "Persistente",
         "31",
         "0",
         "31"
        ],
        [
         "Totale",
         "34",
         "53",
         "87"
        ]
       ],
       "shape": {
        "columns": 3,
        "rows": 3
       }
      },
      "text/html": [
       "<div>\n",
       "<style scoped>\n",
       "    .dataframe tbody tr th:only-of-type {\n",
       "        vertical-align: middle;\n",
       "    }\n",
       "\n",
       "    .dataframe tbody tr th {\n",
       "        vertical-align: top;\n",
       "    }\n",
       "\n",
       "    .dataframe thead th {\n",
       "        text-align: right;\n",
       "    }\n",
       "</style>\n",
       "<table border=\"1\" class=\"dataframe\">\n",
       "  <thead>\n",
       "    <tr style=\"text-align: right;\">\n",
       "      <th>Rhythm</th>\n",
       "      <th>FA</th>\n",
       "      <th>RS</th>\n",
       "      <th>Totale</th>\n",
       "    </tr>\n",
       "    <tr>\n",
       "      <th>Phenotype</th>\n",
       "      <th></th>\n",
       "      <th></th>\n",
       "      <th></th>\n",
       "    </tr>\n",
       "  </thead>\n",
       "  <tbody>\n",
       "    <tr>\n",
       "      <th>Parossistica</th>\n",
       "      <td>3</td>\n",
       "      <td>53</td>\n",
       "      <td>56</td>\n",
       "    </tr>\n",
       "    <tr>\n",
       "      <th>Persistente</th>\n",
       "      <td>31</td>\n",
       "      <td>0</td>\n",
       "      <td>31</td>\n",
       "    </tr>\n",
       "    <tr>\n",
       "      <th>Totale</th>\n",
       "      <td>34</td>\n",
       "      <td>53</td>\n",
       "      <td>87</td>\n",
       "    </tr>\n",
       "  </tbody>\n",
       "</table>\n",
       "</div>"
      ],
      "text/plain": [
       "Rhythm        FA  RS  Totale\n",
       "Phenotype                   \n",
       "Parossistica   3  53      56\n",
       "Persistente   31   0      31\n",
       "Totale        34  53      87"
      ]
     },
     "execution_count": 14,
     "metadata": {},
     "output_type": "execute_result"
    }
   ],
   "source": [
    "x = merged_df.loc[:, [\"Phenotype\"]]\n",
    "y = merged_df.loc[:, [\"Rhythm\"]]\n",
    "\n",
    "confusion_matrix = pd.crosstab(\n",
    "    x[\"Phenotype\"],\n",
    "    y[\"Rhythm\"],\n",
    "    rownames=[\"Phenotype\"],\n",
    "    colnames=[\"Rhythm\"],\n",
    "    margins=True,\n",
    ")\n",
    "confusion_matrix = confusion_matrix.rename(\n",
    "    index={\"All\": \"Totale\"}, columns={\"All\": \"Totale\"}\n",
    ")\n",
    "confusion_matrix"
   ]
  },
  {
   "cell_type": "code",
   "execution_count": 15,
   "id": "28110680",
   "metadata": {},
   "outputs": [
    {
     "data": {
      "application/vnd.microsoft.datawrangler.viewer.v0+json": {
       "columns": [
        {
         "name": "index",
         "rawType": "int64",
         "type": "integer"
        },
        {
         "name": "Patient ID",
         "rawType": "int64",
         "type": "integer"
        },
        {
         "name": "Phenotype",
         "rawType": "object",
         "type": "string"
        },
        {
         "name": "Substrate",
         "rawType": "object",
         "type": "string"
        },
        {
         "name": "Rhythm",
         "rawType": "object",
         "type": "string"
        },
        {
         "name": "Entropy",
         "rawType": "int64",
         "type": "integer"
        },
        {
         "name": "LASE",
         "rawType": "float64",
         "type": "float"
        }
       ],
       "conversionMethod": "pd.DataFrame",
       "ref": "68278e9c-80c3-4145-8911-1648d1d18834",
       "rows": [
        [
         "55",
         "100",
         "Parossistica",
         "Normale",
         "FA",
         "0",
         "2.08830725609269"
        ],
        [
         "84",
         "144",
         "Parossistica",
         "Normale",
         "FA",
         "0",
         "1.90040969486433"
        ],
        [
         "85",
         "145",
         "Parossistica",
         "Normale",
         "FA",
         "0",
         "1.58123361013271"
        ]
       ],
       "shape": {
        "columns": 6,
        "rows": 3
       }
      },
      "text/html": [
       "<div>\n",
       "<style scoped>\n",
       "    .dataframe tbody tr th:only-of-type {\n",
       "        vertical-align: middle;\n",
       "    }\n",
       "\n",
       "    .dataframe tbody tr th {\n",
       "        vertical-align: top;\n",
       "    }\n",
       "\n",
       "    .dataframe thead th {\n",
       "        text-align: right;\n",
       "    }\n",
       "</style>\n",
       "<table border=\"1\" class=\"dataframe\">\n",
       "  <thead>\n",
       "    <tr style=\"text-align: right;\">\n",
       "      <th></th>\n",
       "      <th>Patient ID</th>\n",
       "      <th>Phenotype</th>\n",
       "      <th>Substrate</th>\n",
       "      <th>Rhythm</th>\n",
       "      <th>Entropy</th>\n",
       "      <th>LASE</th>\n",
       "    </tr>\n",
       "  </thead>\n",
       "  <tbody>\n",
       "    <tr>\n",
       "      <th>55</th>\n",
       "      <td>100</td>\n",
       "      <td>Parossistica</td>\n",
       "      <td>Normale</td>\n",
       "      <td>FA</td>\n",
       "      <td>0</td>\n",
       "      <td>2.088307</td>\n",
       "    </tr>\n",
       "    <tr>\n",
       "      <th>84</th>\n",
       "      <td>144</td>\n",
       "      <td>Parossistica</td>\n",
       "      <td>Normale</td>\n",
       "      <td>FA</td>\n",
       "      <td>0</td>\n",
       "      <td>1.900410</td>\n",
       "    </tr>\n",
       "    <tr>\n",
       "      <th>85</th>\n",
       "      <td>145</td>\n",
       "      <td>Parossistica</td>\n",
       "      <td>Normale</td>\n",
       "      <td>FA</td>\n",
       "      <td>0</td>\n",
       "      <td>1.581234</td>\n",
       "    </tr>\n",
       "  </tbody>\n",
       "</table>\n",
       "</div>"
      ],
      "text/plain": [
       "    Patient ID     Phenotype Substrate Rhythm  Entropy      LASE\n",
       "55         100  Parossistica   Normale     FA        0  2.088307\n",
       "84         144  Parossistica   Normale     FA        0  1.900410\n",
       "85         145  Parossistica   Normale     FA        0  1.581234"
      ]
     },
     "execution_count": 15,
     "metadata": {},
     "output_type": "execute_result"
    }
   ],
   "source": [
    "merged_df[\n",
    "    (merged_df.loc[:, \"Phenotype\"] == \"Parossistica\")\n",
    "    & (merged_df.loc[:, \"Rhythm\"] == \"FA\")\n",
    "]"
   ]
  },
  {
   "cell_type": "markdown",
   "id": "5689c0c7",
   "metadata": {},
   "source": [
    "# Plots"
   ]
  },
  {
   "cell_type": "code",
   "execution_count": 16,
   "id": "70d381d8",
   "metadata": {},
   "outputs": [
    {
     "data": {
      "application/vnd.microsoft.datawrangler.viewer.v0+json": {
       "columns": [
        {
         "name": "index",
         "rawType": "int64",
         "type": "integer"
        },
        {
         "name": "threshold",
         "rawType": "object",
         "type": "string"
        },
        {
         "name": "filtered",
         "rawType": "bool",
         "type": "boolean"
        },
        {
         "name": "phenotype_pvalue",
         "rawType": "float64",
         "type": "float"
        },
        {
         "name": "phenotype_auc",
         "rawType": "float64",
         "type": "float"
        },
        {
         "name": "substrate_pvalue",
         "rawType": "float64",
         "type": "float"
        },
        {
         "name": "substrate_auc",
         "rawType": "float64",
         "type": "float"
        },
        {
         "name": "rhythm_pvalue",
         "rawType": "float64",
         "type": "float"
        },
        {
         "name": "rhythm_auc",
         "rawType": "float64",
         "type": "float"
        }
       ],
       "conversionMethod": "pd.DataFrame",
       "ref": "fbc15542-7ca1-4251-9ffc-8d7b6ff88fc7",
       "rows": [
        [
         "0",
         "15",
         "True",
         "0.0",
         "0.823",
         "0.0",
         "0.801",
         "0.0",
         "0.8"
        ],
        [
         "1",
         "15",
         "False",
         "0.0",
         "0.815",
         "0.0",
         "0.799",
         "0.0",
         "0.801"
        ]
       ],
       "shape": {
        "columns": 8,
        "rows": 2
       }
      },
      "text/html": [
       "<div>\n",
       "<style scoped>\n",
       "    .dataframe tbody tr th:only-of-type {\n",
       "        vertical-align: middle;\n",
       "    }\n",
       "\n",
       "    .dataframe tbody tr th {\n",
       "        vertical-align: top;\n",
       "    }\n",
       "\n",
       "    .dataframe thead th {\n",
       "        text-align: right;\n",
       "    }\n",
       "</style>\n",
       "<table border=\"1\" class=\"dataframe\">\n",
       "  <thead>\n",
       "    <tr style=\"text-align: right;\">\n",
       "      <th></th>\n",
       "      <th>threshold</th>\n",
       "      <th>filtered</th>\n",
       "      <th>phenotype_pvalue</th>\n",
       "      <th>phenotype_auc</th>\n",
       "      <th>substrate_pvalue</th>\n",
       "      <th>substrate_auc</th>\n",
       "      <th>rhythm_pvalue</th>\n",
       "      <th>rhythm_auc</th>\n",
       "    </tr>\n",
       "  </thead>\n",
       "  <tbody>\n",
       "    <tr>\n",
       "      <th>0</th>\n",
       "      <td>15</td>\n",
       "      <td>True</td>\n",
       "      <td>0.0</td>\n",
       "      <td>0.823</td>\n",
       "      <td>0.0</td>\n",
       "      <td>0.801</td>\n",
       "      <td>0.0</td>\n",
       "      <td>0.800</td>\n",
       "    </tr>\n",
       "    <tr>\n",
       "      <th>1</th>\n",
       "      <td>15</td>\n",
       "      <td>False</td>\n",
       "      <td>0.0</td>\n",
       "      <td>0.815</td>\n",
       "      <td>0.0</td>\n",
       "      <td>0.799</td>\n",
       "      <td>0.0</td>\n",
       "      <td>0.801</td>\n",
       "    </tr>\n",
       "  </tbody>\n",
       "</table>\n",
       "</div>"
      ],
      "text/plain": [
       "  threshold  filtered  phenotype_pvalue  phenotype_auc  substrate_pvalue  \\\n",
       "0        15      True               0.0          0.823               0.0   \n",
       "1        15     False               0.0          0.815               0.0   \n",
       "\n",
       "   substrate_auc  rhythm_pvalue  rhythm_auc  \n",
       "0          0.801            0.0       0.800  \n",
       "1          0.799            0.0       0.801  "
      ]
     },
     "execution_count": 16,
     "metadata": {},
     "output_type": "execute_result"
    }
   ],
   "source": [
    "from scipy.stats import ttest_ind\n",
    "from sklearn.metrics import roc_auc_score\n",
    "import matplotlib.pyplot as plt\n",
    "\n",
    "\n",
    "filtered = [True, False]\n",
    "threshold = [\"15\"]\n",
    "\n",
    "data = {\n",
    "    \"threshold\": [],\n",
    "    \"filtered\": [],\n",
    "    \"phenotype_pvalue\": [],\n",
    "    \"phenotype_auc\": [],\n",
    "    \"substrate_pvalue\": [],\n",
    "    \"substrate_auc\": [],\n",
    "    \"rhythm_pvalue\": [],\n",
    "    \"rhythm_auc\": [],\n",
    "}\n",
    "\n",
    "for f in filtered:\n",
    "    for t in threshold:\n",
    "\n",
    "        if t == \"no\":\n",
    "            first_part = \"no_thrs\"\n",
    "        else:\n",
    "            first_part = f\"thrs_<{t}\"\n",
    "        if f:\n",
    "            second_part = \"filt\"\n",
    "        else:\n",
    "            second_part = \"no_filt\"\n",
    "\n",
    "        dir_name = \"_\".join([first_part, second_part])\n",
    "\n",
    "        df = (\n",
    "            pd.read_csv(dir_name + \"/lase.csv\", sep=\",\")\n",
    "            .dropna(axis=0, how=\"any\")\n",
    "            .astype({\"Patient ID\": int})\n",
    "        )\n",
    "\n",
    "        df = pd.merge(\n",
    "            ods.loc[:, [\"Patient ID\", \"Phenotype\", \"Substrate\", \"Rhythm\"]],\n",
    "            df,\n",
    "            on=\"Patient ID\",\n",
    "            how=\"inner\",\n",
    "        )\n",
    "\n",
    "        df[\"Phenotype\"] = df[\"Phenotype\"].map(phenotype_mapping)\n",
    "        df[\"Substrate\"] = df[\"Substrate\"].map(substrate_mapping)\n",
    "        df[\"Rhythm\"] = df[\"Rhythm\"].map(rhythm_mapping)\n",
    "\n",
    "        paroxysmal_lase = df[df[\"Phenotype\"] == \"Parossistica\"][\"LASE\"]\n",
    "        persistent_lase = df[df[\"Phenotype\"] == \"Persistente\"][\"LASE\"]\n",
    "        abnormal_lase = df[df[\"Substrate\"] == \"Anormale\"][\"LASE\"]\n",
    "        normal_lase = df[df[\"Substrate\"] == \"Normale\"][\"LASE\"]\n",
    "        sinus_lase = df[df[\"Rhythm\"] == \"RS\"][\"LASE\"]\n",
    "        fibril_lase = df[df[\"Rhythm\"] == \"FA\"][\"LASE\"]\n",
    "\n",
    "        # Perform t-test\n",
    "        t_stat, phenoype_p_value = ttest_ind(\n",
    "            paroxysmal_lase, persistent_lase, equal_var=False, alternative=\"greater\"\n",
    "        )\n",
    "        t_stat, substrate_p_value = ttest_ind(\n",
    "            abnormal_lase, normal_lase, equal_var=False, alternative=\"less\"\n",
    "        )\n",
    "        t_stat, rhythm_p_value = ttest_ind(\n",
    "            sinus_lase, fibril_lase, equal_var=False, alternative=\"greater\"\n",
    "        )\n",
    "        if phenoype_p_value > 0.5:\n",
    "            phenoype_p_value = 1 - phenoype_p_value\n",
    "        if substrate_p_value > 0.5:\n",
    "            substrate_p_value = 1 - substrate_p_value\n",
    "        if rhythm_p_value > 0.5:\n",
    "            rhythm_p_value = 1 - rhythm_p_value\n",
    "\n",
    "        # Calculate AUC\n",
    "        y = df[\"LASE\"]\n",
    "        y_true = df[\"Phenotype\"].apply(lambda x: 1 if x == \"Parossistica\" else 0)\n",
    "        if t == \"3,5\":\n",
    "            y_true = df[\"Phenotype\"].apply(lambda x: 0 if x == \"Parossistica\" else 1)\n",
    "        y_pred = df[\"LASE\"]\n",
    "        phenotype_auc = roc_auc_score(y_true, y_pred)\n",
    "        if phenotype_auc < 0.5:\n",
    "            phenotype_auc = 1 - phenotype_auc\n",
    "\n",
    "        y = df[\"LASE\"]\n",
    "        y_true = df[\"Substrate\"].apply(lambda x: 0 if x == \"Anormale\" else 1)\n",
    "        y_pred = df[\"LASE\"]\n",
    "        substrate_auc = roc_auc_score(y_true, y_pred)\n",
    "        if substrate_auc < 0.5:\n",
    "            substrate_auc = 1 - substrate_auc\n",
    "\n",
    "        y = df[\"LASE\"]\n",
    "        y_true = df[\"Rhythm\"].apply(lambda x: 0 if x == \"FA\" else 1)\n",
    "        y_pred = df[\"LASE\"]\n",
    "        rhythm_auc = roc_auc_score(y_true, y_pred)\n",
    "        if rhythm_auc < 0.5:\n",
    "            rhythm_auc = 1 - rhythm_auc\n",
    "\n",
    "        # Create boxplots\n",
    "        plt.ioff()\n",
    "        plt.figure(figsize=(10, 6))\n",
    "        plt.boxplot(\n",
    "            [\n",
    "                df[df[\"Phenotype\"] == \"Parossistica\"][\"LASE\"],\n",
    "                df[df[\"Phenotype\"] == \"Persistente\"][\"LASE\"],\n",
    "            ],\n",
    "            tick_labels=[\"Paroxysmal\", \"Persistent\"],\n",
    "        )\n",
    "        plt.title(\n",
    "            f\"Threshold: {t} mV, Filtered: {f}; p-value: {phenoype_p_value:.3f} AUC: {phenotype_auc:.3f}\"\n",
    "        )\n",
    "        plt.ylabel(\"LASE\")\n",
    "        plt.xlabel(\"Phenotype\")\n",
    "        plt.grid()\n",
    "        plt.savefig(dir_name + \"/phenotype_boxplot.png\", dpi=300, bbox_inches=\"tight\")\n",
    "        plt.close()\n",
    "\n",
    "        plt.figure(figsize=(10, 6))\n",
    "        plt.boxplot(\n",
    "            [\n",
    "                df[df[\"Substrate\"] == \"Anormale\"][\"LASE\"],\n",
    "                df[df[\"Substrate\"] == \"Normale\"][\"LASE\"],\n",
    "            ],\n",
    "            tick_labels=[\"Abnormal\", \"Normal\"],\n",
    "        )\n",
    "        plt.title(\n",
    "            f\"Threshold: {t} mV, Filtered: {f}; p-value: {substrate_p_value:.3f} AUC: {substrate_auc:.3f}\"\n",
    "        )\n",
    "        plt.ylabel(\"LASE\")\n",
    "        plt.xlabel(\"Substrate\")\n",
    "        plt.grid()\n",
    "        plt.savefig(dir_name + \"/substrate_boxplot.png\", dpi=300, bbox_inches=\"tight\")\n",
    "        plt.close()\n",
    "\n",
    "        plt.figure(figsize=(10, 6))\n",
    "        plt.boxplot(\n",
    "            [\n",
    "                df[df[\"Rhythm\"] == \"RS\"][\"LASE\"],\n",
    "                df[df[\"Rhythm\"] == \"FA\"][\"LASE\"],\n",
    "            ],\n",
    "            tick_labels=[\"RS\", \"FA\"],\n",
    "        )\n",
    "        plt.title(\n",
    "            f\"Threshold: {t} mV, Filtered: {f}; p-value: {rhythm_p_value:.3f} AUC: {rhythm_auc:.3f}\"\n",
    "        )\n",
    "        plt.ylabel(\"LASE\")\n",
    "        plt.xlabel(\"Rhythm\")\n",
    "        plt.grid()\n",
    "        plt.savefig(dir_name + \"/rhythm_boxplot.png\", dpi=300, bbox_inches=\"tight\")\n",
    "        plt.close()\n",
    "\n",
    "        # Append results to the data dictionary\n",
    "        data[\"threshold\"].append(t)\n",
    "        data[\"filtered\"].append(f)\n",
    "        data[\"phenotype_pvalue\"].append(phenoype_p_value)\n",
    "        data[\"phenotype_auc\"].append(phenotype_auc)\n",
    "        data[\"substrate_pvalue\"].append(substrate_p_value)\n",
    "        data[\"substrate_auc\"].append(substrate_auc)\n",
    "        data[\"rhythm_pvalue\"].append(rhythm_p_value)\n",
    "        data[\"rhythm_auc\"].append(rhythm_auc)\n",
    "\n",
    "# Create a DataFrame from the data dictionary\n",
    "results_df = pd.DataFrame(data).round(3)\n",
    "results_df.to_csv(\"results.csv\", index=False)\n",
    "results_df"
   ]
  }
 ],
 "metadata": {
  "kernelspec": {
   "display_name": "base",
   "language": "python",
   "name": "python3"
  },
  "language_info": {
   "codemirror_mode": {
    "name": "ipython",
    "version": 3
   },
   "file_extension": ".py",
   "mimetype": "text/x-python",
   "name": "python",
   "nbconvert_exporter": "python",
   "pygments_lexer": "ipython3",
   "version": "3.10.13"
  }
 },
 "nbformat": 4,
 "nbformat_minor": 5
}
