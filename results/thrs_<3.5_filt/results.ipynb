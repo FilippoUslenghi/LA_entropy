{
 "cells": [
  {
   "cell_type": "code",
   "execution_count": 5,
   "id": "2dc95d09",
   "metadata": {},
   "outputs": [
    {
     "data": {
      "application/vnd.microsoft.datawrangler.viewer.v0+json": {
       "columns": [
        {
         "name": "index",
         "rawType": "int64",
         "type": "integer"
        },
        {
         "name": "Patient ID",
         "rawType": "int64",
         "type": "integer"
        },
        {
         "name": "Phenotype",
         "rawType": "object",
         "type": "string"
        },
        {
         "name": "Substrate",
         "rawType": "object",
         "type": "string"
        }
       ],
       "conversionMethod": "pd.DataFrame",
       "ref": "1e91eab1-eb3a-4154-9b60-ab9adbcc4ee2",
       "rows": [
        [
         "3",
         "9",
         "Persistent",
         "Abnormal"
        ],
        [
         "4",
         "10",
         "Paroxysmal",
         "Normal"
        ],
        [
         "5",
         "11",
         "Persistent",
         "Normal"
        ],
        [
         "6",
         "12",
         "Persistent",
         "Abnormal"
        ],
        [
         "7",
         "13",
         "Persistent",
         "Abnormal"
        ],
        [
         "8",
         "14",
         "Paroxysmal",
         "Normal"
        ],
        [
         "9",
         "15",
         "Paroxysmal",
         "Normal"
        ],
        [
         "10",
         "16",
         "Persistent",
         "Abnormal"
        ],
        [
         "11",
         "17",
         "Paroxysmal",
         "Normal"
        ],
        [
         "12",
         "18",
         "Paroxysmal",
         "Normal"
        ],
        [
         "13",
         "19",
         "Persistent",
         "Normal"
        ],
        [
         "14",
         "20",
         "Paroxysmal",
         "Normal"
        ],
        [
         "15",
         "21",
         "Paroxysmal",
         "Normal"
        ],
        [
         "16",
         "22",
         "Persistent",
         "Abnormal"
        ],
        [
         "17",
         "23",
         "Paroxysmal",
         "Normal"
        ],
        [
         "20",
         "3",
         "Parossistica",
         "Normale"
        ],
        [
         "21",
         "4",
         "Parossistica",
         "Normale"
        ],
        [
         "22",
         "5",
         "Parossistica",
         "Normale"
        ],
        [
         "23",
         "6",
         "Parossistica",
         "Patologia posteriore + altri"
        ],
        [
         "24",
         "7",
         "Persistente",
         "Patologia parete posteriore"
        ],
        [
         "26",
         "9",
         "Parossistica",
         "Normale"
        ],
        [
         "27",
         "10",
         "Persistente",
         "Normale"
        ],
        [
         "28",
         "11",
         "Parossistica",
         "Patologia altri distretti"
        ],
        [
         "29",
         "12",
         "Parossistica",
         "Normale"
        ],
        [
         "30",
         "13",
         "Persistente",
         "Patologia altri distretti"
        ],
        [
         "31",
         "14",
         "Parossistica",
         "Normale"
        ],
        [
         "32",
         "15",
         "Parossistica",
         "Normale"
        ],
        [
         "35",
         "18",
         "Parossistica",
         "Normale"
        ],
        [
         "38",
         "21",
         "Parossistica",
         "Normale"
        ],
        [
         "39",
         "22",
         "Parossistica",
         "Normale"
        ],
        [
         "40",
         "23",
         "Parossistica",
         "Normale"
        ],
        [
         "41",
         "24",
         "Persistente",
         "Patologia altri distretti"
        ],
        [
         "42",
         "25",
         "Parossistica",
         "Normale"
        ],
        [
         "43",
         "26",
         "Long standing persistent",
         "Patologia posteriore + altri"
        ],
        [
         "44",
         "27",
         "Long standing persistent",
         "Normale"
        ],
        [
         "45",
         "28",
         "Parossistica",
         "Normale"
        ],
        [
         "46",
         "29",
         "Parossistica",
         "Normale"
        ],
        [
         "47",
         "30",
         "Persistente",
         "Patologia parete posteriore"
        ],
        [
         "48",
         "31",
         "Parossistica",
         "Normale"
        ],
        [
         "50",
         "33",
         "Parossistica",
         "Normale"
        ],
        [
         "51",
         "34",
         "Parossistica",
         "Normale"
        ],
        [
         "52",
         "35",
         "Parossistica",
         "Normale"
        ],
        [
         "53",
         "36",
         "Persistente",
         "Patologia posteriore + altri"
        ],
        [
         "55",
         "38",
         "Persistente",
         "Normale"
        ],
        [
         "56",
         "39",
         "Parossistica",
         "Normale"
        ],
        [
         "57",
         "40",
         "Parossistica",
         "Patologia altri distretti"
        ],
        [
         "58",
         "41",
         "Parossistica",
         "Normale"
        ],
        [
         "59",
         "42",
         "Parossistica",
         "Normale"
        ],
        [
         "60",
         "43",
         "Persistente",
         "Patologia parete posteriore"
        ],
        [
         "61",
         "44",
         "Parossistica",
         "Normale"
        ]
       ],
       "shape": {
        "columns": 3,
        "rows": 161
       }
      },
      "text/html": [
       "<div>\n",
       "<style scoped>\n",
       "    .dataframe tbody tr th:only-of-type {\n",
       "        vertical-align: middle;\n",
       "    }\n",
       "\n",
       "    .dataframe tbody tr th {\n",
       "        vertical-align: top;\n",
       "    }\n",
       "\n",
       "    .dataframe thead th {\n",
       "        text-align: right;\n",
       "    }\n",
       "</style>\n",
       "<table border=\"1\" class=\"dataframe\">\n",
       "  <thead>\n",
       "    <tr style=\"text-align: right;\">\n",
       "      <th></th>\n",
       "      <th>Patient ID</th>\n",
       "      <th>Phenotype</th>\n",
       "      <th>Substrate</th>\n",
       "    </tr>\n",
       "  </thead>\n",
       "  <tbody>\n",
       "    <tr>\n",
       "      <th>3</th>\n",
       "      <td>9</td>\n",
       "      <td>Persistent</td>\n",
       "      <td>Abnormal</td>\n",
       "    </tr>\n",
       "    <tr>\n",
       "      <th>4</th>\n",
       "      <td>10</td>\n",
       "      <td>Paroxysmal</td>\n",
       "      <td>Normal</td>\n",
       "    </tr>\n",
       "    <tr>\n",
       "      <th>5</th>\n",
       "      <td>11</td>\n",
       "      <td>Persistent</td>\n",
       "      <td>Normal</td>\n",
       "    </tr>\n",
       "    <tr>\n",
       "      <th>6</th>\n",
       "      <td>12</td>\n",
       "      <td>Persistent</td>\n",
       "      <td>Abnormal</td>\n",
       "    </tr>\n",
       "    <tr>\n",
       "      <th>7</th>\n",
       "      <td>13</td>\n",
       "      <td>Persistent</td>\n",
       "      <td>Abnormal</td>\n",
       "    </tr>\n",
       "    <tr>\n",
       "      <th>...</th>\n",
       "      <td>...</td>\n",
       "      <td>...</td>\n",
       "      <td>...</td>\n",
       "    </tr>\n",
       "    <tr>\n",
       "      <th>177</th>\n",
       "      <td>160</td>\n",
       "      <td>Parossistica</td>\n",
       "      <td>Normale</td>\n",
       "    </tr>\n",
       "    <tr>\n",
       "      <th>178</th>\n",
       "      <td>161</td>\n",
       "      <td>Parossistica</td>\n",
       "      <td>Normale</td>\n",
       "    </tr>\n",
       "    <tr>\n",
       "      <th>179</th>\n",
       "      <td>162</td>\n",
       "      <td>Parossistica</td>\n",
       "      <td>Normale</td>\n",
       "    </tr>\n",
       "    <tr>\n",
       "      <th>232</th>\n",
       "      <td>215</td>\n",
       "      <td>Parossistica</td>\n",
       "      <td>Normale</td>\n",
       "    </tr>\n",
       "    <tr>\n",
       "      <th>236</th>\n",
       "      <td>219</td>\n",
       "      <td>Persistente</td>\n",
       "      <td>Patologia altri distretti</td>\n",
       "    </tr>\n",
       "  </tbody>\n",
       "</table>\n",
       "<p>161 rows × 3 columns</p>\n",
       "</div>"
      ],
      "text/plain": [
       "     Patient ID     Phenotype                  Substrate\n",
       "3             9    Persistent                   Abnormal\n",
       "4            10    Paroxysmal                     Normal\n",
       "5            11    Persistent                     Normal\n",
       "6            12    Persistent                   Abnormal\n",
       "7            13    Persistent                   Abnormal\n",
       "..          ...           ...                        ...\n",
       "177         160  Parossistica                    Normale\n",
       "178         161  Parossistica                    Normale\n",
       "179         162  Parossistica                    Normale\n",
       "232         215  Parossistica                    Normale\n",
       "236         219   Persistente  Patologia altri distretti\n",
       "\n",
       "[161 rows x 3 columns]"
      ]
     },
     "metadata": {},
     "output_type": "display_data"
    },
    {
     "data": {
      "application/vnd.microsoft.datawrangler.viewer.v0+json": {
       "columns": [
        {
         "name": "index",
         "rawType": "int64",
         "type": "integer"
        },
        {
         "name": "Patient ID",
         "rawType": "int64",
         "type": "integer"
        },
        {
         "name": "Entropy",
         "rawType": "int64",
         "type": "integer"
        },
        {
         "name": "LASE",
         "rawType": "float64",
         "type": "float"
        }
       ],
       "conversionMethod": "pd.DataFrame",
       "ref": "90618a4e-c1f2-41d1-a4dc-bb63e8c36764",
       "rows": [
        [
         "2",
         "100",
         "0",
         "1.16289725953597"
        ],
        [
         "3",
         "101",
         "0",
         "0.711814142792562"
        ],
        [
         "4",
         "102",
         "0",
         "0.976856539752166"
        ],
        [
         "5",
         "103",
         "0",
         "0.798552672760444"
        ],
        [
         "6",
         "104",
         "0",
         "1.13094214410957"
        ],
        [
         "7",
         "105",
         "0",
         "0.874837418478837"
        ],
        [
         "8",
         "106",
         "0",
         "0.746879947075039"
        ],
        [
         "9",
         "107",
         "0",
         "1.24081325593769"
        ],
        [
         "10",
         "110",
         "0",
         "0.87940903252992"
        ],
        [
         "11",
         "111",
         "0",
         "0.658753682945212"
        ],
        [
         "12",
         "112",
         "0",
         "0.847937003611874"
        ],
        [
         "13",
         "113",
         "0",
         "0.668407760220204"
        ],
        [
         "14",
         "115",
         "0",
         "0.970642959351325"
        ],
        [
         "15",
         "117",
         "0",
         "0.827907623969766"
        ],
        [
         "16",
         "117",
         "0",
         "0.0"
        ],
        [
         "17",
         "1191",
         "0",
         "0.491486672984583"
        ],
        [
         "18",
         "1192",
         "0",
         "0.970642959351325"
        ],
        [
         "19",
         "120",
         "0",
         "0.586989247446792"
        ],
        [
         "20",
         "123",
         "0",
         "1.01149677764031"
        ],
        [
         "21",
         "124",
         "0",
         "0.988703708461942"
        ],
        [
         "22",
         "125",
         "0",
         "0.839695178971185"
        ],
        [
         "23",
         "126",
         "0",
         "0.728845734648889"
        ],
        [
         "24",
         "127",
         "0",
         "1.04615943584676"
        ],
        [
         "25",
         "128",
         "0",
         "0.747679723845592"
        ],
        [
         "26",
         "129",
         "0",
         "0.983265217224623"
        ],
        [
         "27",
         "131",
         "0",
         "0.819121227147411"
        ],
        [
         "28",
         "134",
         "0",
         "0.988973120885563"
        ],
        [
         "29",
         "135",
         "0",
         "0.836599821494332"
        ],
        [
         "30",
         "137",
         "0",
         "0.922113538066803"
        ],
        [
         "31",
         "138",
         "0",
         "0.836599821494332"
        ],
        [
         "32",
         "139",
         "0",
         "0.948511513663641"
        ],
        [
         "33",
         "140",
         "0",
         "0.963395487172254"
        ],
        [
         "34",
         "142",
         "0",
         "0.707034594367357"
        ],
        [
         "35",
         "143",
         "0",
         "0.325453819735261"
        ],
        [
         "36",
         "144",
         "0",
         "0.690859199297277"
        ],
        [
         "37",
         "145",
         "0",
         "1.05144414227892"
        ],
        [
         "38",
         "146",
         "0",
         "0.945670109539686"
        ],
        [
         "39",
         "147",
         "0",
         "0.816590254064144"
        ],
        [
         "40",
         "148",
         "0",
         "0.960088505555324"
        ],
        [
         "41",
         "149",
         "0",
         "0.836599821494332"
        ],
        [
         "42",
         "150",
         "0",
         "0.852175760216113"
        ],
        [
         "43",
         "151",
         "0",
         "1.02332732309374"
        ],
        [
         "44",
         "40",
         "0",
         "0.856271027811204"
        ],
        [
         "45",
         "41",
         "0",
         "0.826655751352711"
        ],
        [
         "46",
         "42",
         "0",
         "1.00492691221979"
        ],
        [
         "47",
         "43",
         "0",
         "1.08970912552259"
        ],
        [
         "48",
         "45",
         "0",
         "1.14553949865066"
        ],
        [
         "49",
         "46",
         "0",
         "1.00017259527709"
        ],
        [
         "50",
         "47",
         "0",
         "1.06197761498505"
        ],
        [
         "51",
         "48",
         "0",
         "1.13131444525742"
        ]
       ],
       "shape": {
        "columns": 3,
        "rows": 97
       }
      },
      "text/html": [
       "<div>\n",
       "<style scoped>\n",
       "    .dataframe tbody tr th:only-of-type {\n",
       "        vertical-align: middle;\n",
       "    }\n",
       "\n",
       "    .dataframe tbody tr th {\n",
       "        vertical-align: top;\n",
       "    }\n",
       "\n",
       "    .dataframe thead th {\n",
       "        text-align: right;\n",
       "    }\n",
       "</style>\n",
       "<table border=\"1\" class=\"dataframe\">\n",
       "  <thead>\n",
       "    <tr style=\"text-align: right;\">\n",
       "      <th></th>\n",
       "      <th>Patient ID</th>\n",
       "      <th>Entropy</th>\n",
       "      <th>LASE</th>\n",
       "    </tr>\n",
       "  </thead>\n",
       "  <tbody>\n",
       "    <tr>\n",
       "      <th>2</th>\n",
       "      <td>100</td>\n",
       "      <td>0</td>\n",
       "      <td>1.162897</td>\n",
       "    </tr>\n",
       "    <tr>\n",
       "      <th>3</th>\n",
       "      <td>101</td>\n",
       "      <td>0</td>\n",
       "      <td>0.711814</td>\n",
       "    </tr>\n",
       "    <tr>\n",
       "      <th>4</th>\n",
       "      <td>102</td>\n",
       "      <td>0</td>\n",
       "      <td>0.976857</td>\n",
       "    </tr>\n",
       "    <tr>\n",
       "      <th>5</th>\n",
       "      <td>103</td>\n",
       "      <td>0</td>\n",
       "      <td>0.798553</td>\n",
       "    </tr>\n",
       "    <tr>\n",
       "      <th>6</th>\n",
       "      <td>104</td>\n",
       "      <td>0</td>\n",
       "      <td>1.130942</td>\n",
       "    </tr>\n",
       "    <tr>\n",
       "      <th>...</th>\n",
       "      <td>...</td>\n",
       "      <td>...</td>\n",
       "      <td>...</td>\n",
       "    </tr>\n",
       "    <tr>\n",
       "      <th>94</th>\n",
       "      <td>94</td>\n",
       "      <td>0</td>\n",
       "      <td>0.957508</td>\n",
       "    </tr>\n",
       "    <tr>\n",
       "      <th>95</th>\n",
       "      <td>95</td>\n",
       "      <td>0</td>\n",
       "      <td>1.136706</td>\n",
       "    </tr>\n",
       "    <tr>\n",
       "      <th>96</th>\n",
       "      <td>96</td>\n",
       "      <td>0</td>\n",
       "      <td>1.047071</td>\n",
       "    </tr>\n",
       "    <tr>\n",
       "      <th>97</th>\n",
       "      <td>97</td>\n",
       "      <td>0</td>\n",
       "      <td>0.822451</td>\n",
       "    </tr>\n",
       "    <tr>\n",
       "      <th>98</th>\n",
       "      <td>98</td>\n",
       "      <td>0</td>\n",
       "      <td>0.943614</td>\n",
       "    </tr>\n",
       "  </tbody>\n",
       "</table>\n",
       "<p>97 rows × 3 columns</p>\n",
       "</div>"
      ],
      "text/plain": [
       "    Patient ID  Entropy      LASE\n",
       "2          100        0  1.162897\n",
       "3          101        0  0.711814\n",
       "4          102        0  0.976857\n",
       "5          103        0  0.798553\n",
       "6          104        0  1.130942\n",
       "..         ...      ...       ...\n",
       "94          94        0  0.957508\n",
       "95          95        0  1.136706\n",
       "96          96        0  1.047071\n",
       "97          97        0  0.822451\n",
       "98          98        0  0.943614\n",
       "\n",
       "[97 rows x 3 columns]"
      ]
     },
     "execution_count": 5,
     "metadata": {},
     "output_type": "execute_result"
    }
   ],
   "source": [
    "import pandas as pd\n",
    "\n",
    "ods = (\n",
    "    pd.read_excel(\n",
    "        \"../../DB AF Completo 1.ods\",\n",
    "    )\n",
    "    .loc[:, [\"ID\", \"Phenotype\", \"Low Voltage / Scar area\"]]\n",
    "    .rename(columns={\"ID\": \"Patient ID\", \"Low Voltage / Scar area\": \"Substrate\"})\n",
    "    .dropna(axis=0, how=\"any\")\n",
    "    .astype({\"Patient ID\": int})\n",
    ")\n",
    "csv = (\n",
    "    pd.read_csv(\"lase.csv\", sep=\",\")\n",
    "    .dropna(axis=0, how=\"any\")\n",
    "    .astype({\"Patient ID\": int})\n",
    ")\n",
    "display(ods)\n",
    "csv"
   ]
  },
  {
   "cell_type": "code",
   "execution_count": 6,
   "id": "95341273",
   "metadata": {},
   "outputs": [
    {
     "data": {
      "application/vnd.microsoft.datawrangler.viewer.v0+json": {
       "columns": [
        {
         "name": "index",
         "rawType": "int64",
         "type": "integer"
        },
        {
         "name": "Patient ID",
         "rawType": "int64",
         "type": "integer"
        },
        {
         "name": "Phenotype",
         "rawType": "object",
         "type": "string"
        },
        {
         "name": "Substrate",
         "rawType": "object",
         "type": "string"
        },
        {
         "name": "Entropy",
         "rawType": "int64",
         "type": "integer"
        },
        {
         "name": "LASE",
         "rawType": "float64",
         "type": "float"
        }
       ],
       "conversionMethod": "pd.DataFrame",
       "ref": "1ddb00b9-85b0-4eff-a510-6ae7e63e63f0",
       "rows": [
        [
         "0",
         "40",
         "Parossistica",
         "Anormale",
         "0",
         "0.856271027811204"
        ],
        [
         "1",
         "41",
         "Parossistica",
         "Normale",
         "0",
         "0.826655751352711"
        ],
        [
         "2",
         "42",
         "Parossistica",
         "Normale",
         "0",
         "1.00492691221979"
        ],
        [
         "3",
         "43",
         "Persistente",
         "Anormale",
         "0",
         "1.08970912552259"
        ],
        [
         "4",
         "45",
         "Persistente",
         "Anormale",
         "0",
         "1.14553949865066"
        ],
        [
         "5",
         "46",
         "Parossistica",
         "Normale",
         "0",
         "1.00017259527709"
        ],
        [
         "6",
         "47",
         "Persistente",
         "Anormale",
         "0",
         "1.06197761498505"
        ],
        [
         "7",
         "48",
         "Persistente",
         "Normale",
         "0",
         "1.13131444525742"
        ],
        [
         "8",
         "49",
         "Persistente",
         "Normale",
         "0",
         "1.15283583705486"
        ],
        [
         "9",
         "50",
         "Parossistica",
         "Normale",
         "0",
         "0.71590482804442"
        ],
        [
         "10",
         "51",
         "Persistente",
         "Normale",
         "0",
         "1.1940070288555"
        ],
        [
         "11",
         "52",
         "Persistente",
         "Normale",
         "0",
         "1.11591254964583"
        ],
        [
         "12",
         "53",
         "Persistente",
         "Normale",
         "0",
         "1.21752436752779"
        ],
        [
         "13",
         "55",
         "Persistente",
         "Anormale",
         "0",
         "1.00416588600362"
        ],
        [
         "14",
         "56",
         "Parossistica",
         "Normale",
         "0",
         "0.874837418478837"
        ],
        [
         "15",
         "57",
         "Parossistica",
         "Normale",
         "0",
         "0.874837418478837"
        ],
        [
         "16",
         "58",
         "Parossistica",
         "Normale",
         "0",
         "0.836599821494332"
        ],
        [
         "17",
         "59",
         "Persistente",
         "Anormale",
         "0",
         "0.836599821494332"
        ],
        [
         "18",
         "60",
         "Parossistica",
         "Normale",
         "0",
         "0.836599821494332"
        ],
        [
         "19",
         "61",
         "Persistente",
         "Anormale",
         "0",
         "0.737029148994249"
        ],
        [
         "20",
         "62",
         "Persistente",
         "Normale",
         "0",
         "0.873287094481407"
        ],
        [
         "21",
         "63",
         "Parossistica",
         "Anormale",
         "0",
         "0.831341304751113"
        ],
        [
         "22",
         "64",
         "Parossistica",
         "Normale",
         "0",
         "0.941635627712659"
        ],
        [
         "23",
         "65",
         "Parossistica",
         "Normale",
         "0",
         "0.726503516965373"
        ],
        [
         "24",
         "66",
         "Persistente",
         "Anormale",
         "0",
         "1.09851749826179"
        ],
        [
         "25",
         "68",
         "Parossistica",
         "Normale",
         "0",
         "0.872151168550369"
        ],
        [
         "26",
         "70",
         "Parossistica",
         "Anormale",
         "0",
         "1.11674185417426"
        ],
        [
         "27",
         "71",
         "Parossistica",
         "Anormale",
         "0",
         "1.01000946086285"
        ],
        [
         "28",
         "72",
         "Persistente",
         "Anormale",
         "0",
         "1.15484309282513"
        ],
        [
         "29",
         "73",
         "Parossistica",
         "Normale",
         "0",
         "0.993343524296213"
        ],
        [
         "30",
         "74",
         "Parossistica",
         "Normale",
         "0",
         "1.04665877117155"
        ],
        [
         "31",
         "75",
         "Parossistica",
         "Anormale",
         "0",
         "1.10096675625622"
        ],
        [
         "32",
         "76",
         "Persistente",
         "Anormale",
         "0",
         "0.743657531195712"
        ],
        [
         "33",
         "77",
         "Persistente",
         "Anormale",
         "0",
         "1.15705148697505"
        ],
        [
         "34",
         "78",
         "Persistente",
         "Anormale",
         "0",
         "1.0961269591532"
        ],
        [
         "35",
         "79",
         "Parossistica",
         "Normale",
         "0",
         "0.883959021878"
        ],
        [
         "36",
         "80",
         "Parossistica",
         "Normale",
         "0",
         "0.623043451374542"
        ],
        [
         "37",
         "81",
         "Persistente",
         "Anormale",
         "0",
         "1.13476970408765"
        ],
        [
         "38",
         "82",
         "Parossistica",
         "Normale",
         "0",
         "0.664653286587513"
        ],
        [
         "39",
         "83",
         "Parossistica",
         "Normale",
         "0",
         "0.762501384900764"
        ],
        [
         "40",
         "84",
         "Parossistica",
         "Normale",
         "0",
         "0.971726944548231"
        ],
        [
         "41",
         "85",
         "Parossistica",
         "Anormale",
         "0",
         "0.804231862615674"
        ],
        [
         "42",
         "86",
         "Persistente",
         "Normale",
         "0",
         "1.11388084256289"
        ],
        [
         "43",
         "87",
         "Parossistica",
         "Normale",
         "0",
         "0.845902763801922"
        ],
        [
         "44",
         "88",
         "Parossistica",
         "Normale",
         "0",
         "0.883413293735661"
        ],
        [
         "45",
         "89",
         "Parossistica",
         "Normale",
         "0",
         "0.734927591338134"
        ],
        [
         "46",
         "90",
         "Parossistica",
         "Normale",
         "0",
         "0.590108327681351"
        ],
        [
         "47",
         "91",
         "Parossistica",
         "Anormale",
         "0",
         "1.16328553944466"
        ],
        [
         "48",
         "92",
         "Parossistica",
         "Normale",
         "0",
         "0.811254104480846"
        ],
        [
         "49",
         "93",
         "Persistente",
         "Normale",
         "0",
         "1.04019184173148"
        ]
       ],
       "shape": {
        "columns": 5,
        "rows": 92
       }
      },
      "text/html": [
       "<div>\n",
       "<style scoped>\n",
       "    .dataframe tbody tr th:only-of-type {\n",
       "        vertical-align: middle;\n",
       "    }\n",
       "\n",
       "    .dataframe tbody tr th {\n",
       "        vertical-align: top;\n",
       "    }\n",
       "\n",
       "    .dataframe thead th {\n",
       "        text-align: right;\n",
       "    }\n",
       "</style>\n",
       "<table border=\"1\" class=\"dataframe\">\n",
       "  <thead>\n",
       "    <tr style=\"text-align: right;\">\n",
       "      <th></th>\n",
       "      <th>Patient ID</th>\n",
       "      <th>Phenotype</th>\n",
       "      <th>Substrate</th>\n",
       "      <th>Entropy</th>\n",
       "      <th>LASE</th>\n",
       "    </tr>\n",
       "  </thead>\n",
       "  <tbody>\n",
       "    <tr>\n",
       "      <th>0</th>\n",
       "      <td>40</td>\n",
       "      <td>Parossistica</td>\n",
       "      <td>Anormale</td>\n",
       "      <td>0</td>\n",
       "      <td>0.856271</td>\n",
       "    </tr>\n",
       "    <tr>\n",
       "      <th>1</th>\n",
       "      <td>41</td>\n",
       "      <td>Parossistica</td>\n",
       "      <td>Normale</td>\n",
       "      <td>0</td>\n",
       "      <td>0.826656</td>\n",
       "    </tr>\n",
       "    <tr>\n",
       "      <th>2</th>\n",
       "      <td>42</td>\n",
       "      <td>Parossistica</td>\n",
       "      <td>Normale</td>\n",
       "      <td>0</td>\n",
       "      <td>1.004927</td>\n",
       "    </tr>\n",
       "    <tr>\n",
       "      <th>3</th>\n",
       "      <td>43</td>\n",
       "      <td>Persistente</td>\n",
       "      <td>Anormale</td>\n",
       "      <td>0</td>\n",
       "      <td>1.089709</td>\n",
       "    </tr>\n",
       "    <tr>\n",
       "      <th>4</th>\n",
       "      <td>45</td>\n",
       "      <td>Persistente</td>\n",
       "      <td>Anormale</td>\n",
       "      <td>0</td>\n",
       "      <td>1.145539</td>\n",
       "    </tr>\n",
       "    <tr>\n",
       "      <th>...</th>\n",
       "      <td>...</td>\n",
       "      <td>...</td>\n",
       "      <td>...</td>\n",
       "      <td>...</td>\n",
       "      <td>...</td>\n",
       "    </tr>\n",
       "    <tr>\n",
       "      <th>87</th>\n",
       "      <td>147</td>\n",
       "      <td>Parossistica</td>\n",
       "      <td>Normale</td>\n",
       "      <td>0</td>\n",
       "      <td>0.816590</td>\n",
       "    </tr>\n",
       "    <tr>\n",
       "      <th>88</th>\n",
       "      <td>148</td>\n",
       "      <td>Parossistica</td>\n",
       "      <td>Normale</td>\n",
       "      <td>0</td>\n",
       "      <td>0.960089</td>\n",
       "    </tr>\n",
       "    <tr>\n",
       "      <th>89</th>\n",
       "      <td>149</td>\n",
       "      <td>Parossistica</td>\n",
       "      <td>Normale</td>\n",
       "      <td>0</td>\n",
       "      <td>0.836600</td>\n",
       "    </tr>\n",
       "    <tr>\n",
       "      <th>90</th>\n",
       "      <td>150</td>\n",
       "      <td>Parossistica</td>\n",
       "      <td>Normale</td>\n",
       "      <td>0</td>\n",
       "      <td>0.852176</td>\n",
       "    </tr>\n",
       "    <tr>\n",
       "      <th>91</th>\n",
       "      <td>151</td>\n",
       "      <td>Parossistica</td>\n",
       "      <td>Normale</td>\n",
       "      <td>0</td>\n",
       "      <td>1.023327</td>\n",
       "    </tr>\n",
       "  </tbody>\n",
       "</table>\n",
       "<p>92 rows × 5 columns</p>\n",
       "</div>"
      ],
      "text/plain": [
       "    Patient ID     Phenotype Substrate  Entropy      LASE\n",
       "0           40  Parossistica  Anormale        0  0.856271\n",
       "1           41  Parossistica   Normale        0  0.826656\n",
       "2           42  Parossistica   Normale        0  1.004927\n",
       "3           43   Persistente  Anormale        0  1.089709\n",
       "4           45   Persistente  Anormale        0  1.145539\n",
       "..         ...           ...       ...      ...       ...\n",
       "87         147  Parossistica   Normale        0  0.816590\n",
       "88         148  Parossistica   Normale        0  0.960089\n",
       "89         149  Parossistica   Normale        0  0.836600\n",
       "90         150  Parossistica   Normale        0  0.852176\n",
       "91         151  Parossistica   Normale        0  1.023327\n",
       "\n",
       "[92 rows x 5 columns]"
      ]
     },
     "execution_count": 6,
     "metadata": {},
     "output_type": "execute_result"
    }
   ],
   "source": [
    "# Join the two dataframes on the \"ID\" column\n",
    "merged_df = pd.merge(\n",
    "    ods.loc[:, [\"Patient ID\", \"Phenotype\", \"Substrate\"]],\n",
    "    csv,\n",
    "    on=\"Patient ID\",\n",
    "    how=\"inner\",\n",
    ")\n",
    "\n",
    "phenotype_mapping = {\n",
    "    \"Long standing persistent\": \"Persistente\",\n",
    "    \"Persistente\": \"Persistente\",\n",
    "    \"Parossistica\": \"Parossistica\",\n",
    "    \"Parossistico\": \"Parossistica\",\n",
    "}\n",
    "\n",
    "substrate_mapping = {\n",
    "    \"Normale\": \"Normale\",\n",
    "    \"Abnormal\": \"Anormale\",\n",
    "    \"Patologia\": \"Anormale\",\n",
    "    \"Patologia \": \"Anormale\",\n",
    "    \"Patologia altri distretti\": \"Anormale\",\n",
    "    \"Patologia parete posteriore\": \"Anormale\",\n",
    "    \"Patologia parete posteriore e anteriore\": \"Anormale\",\n",
    "    \"Patologia posteriore + altri\": \"Anormale\",\n",
    "    \"Patologia posteriore e+ altri\": \"Anormale\",\n",
    "}\n",
    "\n",
    "merged_df[\"Phenotype\"] = merged_df[\"Phenotype\"].map(phenotype_mapping)\n",
    "merged_df[\"Substrate\"] = merged_df[\"Substrate\"].map(substrate_mapping)\n",
    "\n",
    "merged_df"
   ]
  },
  {
   "cell_type": "code",
   "execution_count": 7,
   "id": "2137bb44",
   "metadata": {},
   "outputs": [
    {
     "data": {
      "image/png": "[encoded data removed]",
      "text/plain": [
       "<Figure size 1000x600 with 1 Axes>"
      ]
     },
     "metadata": {},
     "output_type": "display_data"
    }
   ],
   "source": [
    "import matplotlib.pyplot as plt\n",
    "\n",
    "plt.figure(figsize=(10, 6))\n",
    "plt.boxplot(\n",
    "    [\n",
    "        merged_df[merged_df[\"Phenotype\"] == \"Parossistica\"][\"LASE\"],\n",
    "        merged_df[merged_df[\"Phenotype\"] == \"Persistente\"][\"LASE\"],\n",
    "    ],\n",
    "    tick_labels=[\"Paroxysmal\", \"Persistent\"],\n",
    ")\n",
    "plt.title(\"Voltage threshold <3.5, filtered EGM\")\n",
    "plt.ylabel(\"LASE\")\n",
    "plt.xlabel(\"Phenotype\")\n",
    "plt.grid()\n",
    "plt.savefig(\"phenotype_boxplot.png\", dpi=300, bbox_inches=\"tight\")\n",
    "plt.tight_layout()\n",
    "plt.show()"
   ]
  },
  {
   "cell_type": "code",
   "execution_count": 8,
   "id": "ee95cf28",
   "metadata": {},
   "outputs": [
    {
     "data": {
      "image/png": "[encoded data removed]",
      "text/plain": [
       "<Figure size 1000x600 with 1 Axes>"
      ]
     },
     "metadata": {},
     "output_type": "display_data"
    }
   ],
   "source": [
    "import matplotlib.pyplot as plt\n",
    "\n",
    "plt.figure(figsize=(10, 6))\n",
    "plt.boxplot(\n",
    "    [\n",
    "        merged_df[merged_df[\"Substrate\"] == \"Anormale\"][\"LASE\"],\n",
    "        merged_df[merged_df[\"Substrate\"] == \"Normale\"][\"LASE\"],\n",
    "    ],\n",
    "    tick_labels=[\"Abnormal\", \"Normal\"],\n",
    ")\n",
    "plt.title(\"Voltage threshold <3.5, filtered EGM\")\n",
    "plt.ylabel(\"LASE\")\n",
    "plt.xlabel(\"Substrate\")\n",
    "plt.grid()\n",
    "plt.savefig(\"substrate_boxplot.png\", dpi=300, bbox_inches=\"tight\")\n",
    "plt.tight_layout()\n",
    "plt.show()"
   ]
  }
 ],
 "metadata": {
  "kernelspec": {
   "display_name": "base",
   "language": "python",
   "name": "python3"
  },
  "language_info": {
   "codemirror_mode": {
    "name": "ipython",
    "version": 3
   },
   "file_extension": ".py",
   "mimetype": "text/x-python",
   "name": "python",
   "nbconvert_exporter": "python",
   "pygments_lexer": "ipython3",
   "version": "3.10.13"
  }
 },
 "nbformat": 4,
 "nbformat_minor": 5
}
