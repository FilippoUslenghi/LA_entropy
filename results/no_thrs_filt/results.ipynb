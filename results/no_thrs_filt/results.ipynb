{
 "cells": [
  {
   "cell_type": "code",
   "execution_count": 1,
   "id": "2dc95d09",
   "metadata": {},
   "outputs": [
    {
     "data": {
      "application/vnd.microsoft.datawrangler.viewer.v0+json": {
       "columns": [
        {
         "name": "index",
         "rawType": "int64",
         "type": "integer"
        },
        {
         "name": "Patient ID",
         "rawType": "int64",
         "type": "integer"
        },
        {
         "name": "Phenotype",
         "rawType": "object",
         "type": "string"
        },
        {
         "name": "Substrate",
         "rawType": "object",
         "type": "string"
        },
        {
         "name": "Rhythm",
         "rawType": "object",
         "type": "string"
        }
       ],
       "conversionMethod": "pd.DataFrame",
       "ref": "4016eda3-990f-4a64-a31c-e5a807563f5e",
       "rows": [
        [
         "3",
         "9",
         "Persistent",
         "Abnormal",
         "AF"
        ],
        [
         "4",
         "10",
         "Paroxysmal",
         "Normal",
         "SR"
        ],
        [
         "5",
         "11",
         "Persistent",
         "Normal",
         "AF"
        ],
        [
         "6",
         "12",
         "Persistent",
         "Abnormal",
         "SR"
        ],
        [
         "7",
         "13",
         "Persistent",
         "Abnormal",
         "AF"
        ],
        [
         "8",
         "14",
         "Paroxysmal",
         "Normal",
         "AF"
        ],
        [
         "9",
         "15",
         "Paroxysmal",
         "Normal",
         "SR"
        ],
        [
         "10",
         "16",
         "Persistent",
         "Abnormal",
         "AF"
        ],
        [
         "11",
         "17",
         "Paroxysmal",
         "Normal",
         "SR"
        ],
        [
         "12",
         "18",
         "Paroxysmal",
         "Normal",
         "SR"
        ],
        [
         "13",
         "19",
         "Persistent",
         "Normal",
         "AF"
        ],
        [
         "14",
         "20",
         "Paroxysmal",
         "Normal",
         "SR"
        ],
        [
         "15",
         "21",
         "Paroxysmal",
         "Normal",
         "SR"
        ],
        [
         "16",
         "22",
         "Persistent",
         "Abnormal",
         "AF"
        ],
        [
         "17",
         "23",
         "Paroxysmal",
         "Normal",
         "SR"
        ],
        [
         "20",
         "3",
         "Parossistica",
         "Normale",
         "RS"
        ],
        [
         "21",
         "4",
         "Parossistica",
         "Normale",
         "RS"
        ],
        [
         "22",
         "5",
         "Parossistica",
         "Normale",
         "FA"
        ],
        [
         "23",
         "6",
         "Parossistica",
         "Patologia posteriore + altri",
         "RS"
        ],
        [
         "24",
         "7",
         "Persistente",
         "Patologia parete posteriore",
         "FA"
        ],
        [
         "26",
         "9",
         "Parossistica",
         "Normale",
         "RS"
        ],
        [
         "27",
         "10",
         "Persistente",
         "Normale",
         "FA"
        ],
        [
         "28",
         "11",
         "Parossistica",
         "Patologia altri distretti",
         "RS"
        ],
        [
         "29",
         "12",
         "Parossistica",
         "Normale",
         "Altro (note)"
        ],
        [
         "30",
         "13",
         "Persistente",
         "Patologia altri distretti",
         "FA"
        ],
        [
         "31",
         "14",
         "Parossistica",
         "Normale",
         "FA"
        ],
        [
         "32",
         "15",
         "Parossistica",
         "Normale",
         "RS"
        ],
        [
         "35",
         "18",
         "Parossistica",
         "Normale",
         "RS"
        ],
        [
         "38",
         "21",
         "Parossistica",
         "Normale",
         "RS"
        ],
        [
         "39",
         "22",
         "Parossistica",
         "Normale",
         "RS"
        ],
        [
         "40",
         "23",
         "Parossistica",
         "Normale",
         "RS"
        ],
        [
         "41",
         "24",
         "Persistente",
         "Patologia altri distretti",
         "FA"
        ],
        [
         "42",
         "25",
         "Parossistica",
         "Normale",
         "RS"
        ],
        [
         "43",
         "26",
         "Long standing persistent",
         "Patologia posteriore + altri",
         "FA"
        ],
        [
         "44",
         "27",
         "Long standing persistent",
         "Normale",
         "FA"
        ],
        [
         "45",
         "28",
         "Parossistica",
         "Normale",
         "RS"
        ],
        [
         "46",
         "29",
         "Parossistica",
         "Normale",
         "RS"
        ],
        [
         "47",
         "30",
         "Persistente",
         "Patologia parete posteriore",
         "FA"
        ],
        [
         "48",
         "31",
         "Parossistica",
         "Normale",
         "RS"
        ],
        [
         "50",
         "33",
         "Parossistica",
         "Normale",
         "RS"
        ],
        [
         "51",
         "34",
         "Parossistica",
         "Normale",
         "RS"
        ],
        [
         "52",
         "35",
         "Parossistica",
         "Normale",
         "RS"
        ],
        [
         "53",
         "36",
         "Persistente",
         "Patologia posteriore + altri",
         "FA"
        ],
        [
         "55",
         "38",
         "Persistente",
         "Normale",
         "FA"
        ],
        [
         "56",
         "39",
         "Parossistica",
         "Normale",
         "RS"
        ],
        [
         "57",
         "40",
         "Parossistica",
         "Patologia altri distretti",
         "RS"
        ],
        [
         "58",
         "41",
         "Parossistica",
         "Normale",
         "RS"
        ],
        [
         "59",
         "42",
         "Parossistica",
         "Normale",
         "RS"
        ],
        [
         "60",
         "43",
         "Persistente",
         "Patologia parete posteriore",
         "FA"
        ],
        [
         "61",
         "44",
         "Parossistica",
         "Normale",
         "RS"
        ]
       ],
       "shape": {
        "columns": 4,
        "rows": 160
       }
      },
      "text/html": [
       "<div>\n",
       "<style scoped>\n",
       "    .dataframe tbody tr th:only-of-type {\n",
       "        vertical-align: middle;\n",
       "    }\n",
       "\n",
       "    .dataframe tbody tr th {\n",
       "        vertical-align: top;\n",
       "    }\n",
       "\n",
       "    .dataframe thead th {\n",
       "        text-align: right;\n",
       "    }\n",
       "</style>\n",
       "<table border=\"1\" class=\"dataframe\">\n",
       "  <thead>\n",
       "    <tr style=\"text-align: right;\">\n",
       "      <th></th>\n",
       "      <th>Patient ID</th>\n",
       "      <th>Phenotype</th>\n",
       "      <th>Substrate</th>\n",
       "      <th>Rhythm</th>\n",
       "    </tr>\n",
       "  </thead>\n",
       "  <tbody>\n",
       "    <tr>\n",
       "      <th>3</th>\n",
       "      <td>9</td>\n",
       "      <td>Persistent</td>\n",
       "      <td>Abnormal</td>\n",
       "      <td>AF</td>\n",
       "    </tr>\n",
       "    <tr>\n",
       "      <th>4</th>\n",
       "      <td>10</td>\n",
       "      <td>Paroxysmal</td>\n",
       "      <td>Normal</td>\n",
       "      <td>SR</td>\n",
       "    </tr>\n",
       "    <tr>\n",
       "      <th>5</th>\n",
       "      <td>11</td>\n",
       "      <td>Persistent</td>\n",
       "      <td>Normal</td>\n",
       "      <td>AF</td>\n",
       "    </tr>\n",
       "    <tr>\n",
       "      <th>6</th>\n",
       "      <td>12</td>\n",
       "      <td>Persistent</td>\n",
       "      <td>Abnormal</td>\n",
       "      <td>SR</td>\n",
       "    </tr>\n",
       "    <tr>\n",
       "      <th>7</th>\n",
       "      <td>13</td>\n",
       "      <td>Persistent</td>\n",
       "      <td>Abnormal</td>\n",
       "      <td>AF</td>\n",
       "    </tr>\n",
       "    <tr>\n",
       "      <th>...</th>\n",
       "      <td>...</td>\n",
       "      <td>...</td>\n",
       "      <td>...</td>\n",
       "      <td>...</td>\n",
       "    </tr>\n",
       "    <tr>\n",
       "      <th>171</th>\n",
       "      <td>154</td>\n",
       "      <td>Parossistica</td>\n",
       "      <td>Normale</td>\n",
       "      <td>RS</td>\n",
       "    </tr>\n",
       "    <tr>\n",
       "      <th>177</th>\n",
       "      <td>160</td>\n",
       "      <td>Parossistica</td>\n",
       "      <td>Normale</td>\n",
       "      <td>RS</td>\n",
       "    </tr>\n",
       "    <tr>\n",
       "      <th>178</th>\n",
       "      <td>161</td>\n",
       "      <td>Parossistica</td>\n",
       "      <td>Normale</td>\n",
       "      <td>RS</td>\n",
       "    </tr>\n",
       "    <tr>\n",
       "      <th>179</th>\n",
       "      <td>162</td>\n",
       "      <td>Parossistica</td>\n",
       "      <td>Normale</td>\n",
       "      <td>RS</td>\n",
       "    </tr>\n",
       "    <tr>\n",
       "      <th>236</th>\n",
       "      <td>219</td>\n",
       "      <td>Persistente</td>\n",
       "      <td>Patologia altri distretti</td>\n",
       "      <td>FA</td>\n",
       "    </tr>\n",
       "  </tbody>\n",
       "</table>\n",
       "<p>160 rows × 4 columns</p>\n",
       "</div>"
      ],
      "text/plain": [
       "     Patient ID     Phenotype                  Substrate Rhythm\n",
       "3             9    Persistent                   Abnormal     AF\n",
       "4            10    Paroxysmal                     Normal     SR\n",
       "5            11    Persistent                     Normal     AF\n",
       "6            12    Persistent                   Abnormal     SR\n",
       "7            13    Persistent                   Abnormal     AF\n",
       "..          ...           ...                        ...    ...\n",
       "171         154  Parossistica                    Normale     RS\n",
       "177         160  Parossistica                    Normale     RS\n",
       "178         161  Parossistica                    Normale     RS\n",
       "179         162  Parossistica                    Normale     RS\n",
       "236         219   Persistente  Patologia altri distretti     FA\n",
       "\n",
       "[160 rows x 4 columns]"
      ]
     },
     "metadata": {},
     "output_type": "display_data"
    },
    {
     "data": {
      "application/vnd.microsoft.datawrangler.viewer.v0+json": {
       "columns": [
        {
         "name": "index",
         "rawType": "int64",
         "type": "integer"
        },
        {
         "name": "Patient ID",
         "rawType": "int64",
         "type": "integer"
        },
        {
         "name": "Entropy",
         "rawType": "int64",
         "type": "integer"
        },
        {
         "name": "LASE",
         "rawType": "float64",
         "type": "float"
        }
       ],
       "conversionMethod": "pd.DataFrame",
       "ref": "c7faae60-d7ed-444a-92b5-e4f0d02320a5",
       "rows": [
        [
         "2",
         "100",
         "0",
         "2.2957371312102"
        ],
        [
         "3",
         "101",
         "0",
         "1.32816478006639"
        ],
        [
         "4",
         "102",
         "0",
         "1.22064269498516"
        ],
        [
         "5",
         "103",
         "0",
         "1.87349322593927"
        ],
        [
         "6",
         "104",
         "0",
         "1.97461944261752"
        ],
        [
         "7",
         "105",
         "0",
         "2.36959445298004"
        ],
        [
         "8",
         "106",
         "0",
         "0.917884243731618"
        ],
        [
         "9",
         "107",
         "0",
         "1.50492534040696"
        ],
        [
         "10",
         "110",
         "0",
         "2.21595152816462"
        ],
        [
         "11",
         "111",
         "0",
         "2.1945222468574"
        ],
        [
         "12",
         "112",
         "0",
         "2.28473331111863"
        ],
        [
         "13",
         "113",
         "0",
         "2.02666929788113"
        ],
        [
         "14",
         "115",
         "0",
         "1.07836348554294"
        ],
        [
         "15",
         "117",
         "0",
         "0.862260235084251"
        ],
        [
         "16",
         "117",
         "0",
         "0.0"
        ],
        [
         "17",
         "1191",
         "0",
         "0.720652642724262"
        ],
        [
         "18",
         "1192",
         "0",
         "1.07836348554294"
        ],
        [
         "19",
         "120",
         "0",
         "0.714186075241994"
        ],
        [
         "20",
         "123",
         "0",
         "1.24572142464467"
        ],
        [
         "21",
         "124",
         "0",
         "1.44334685998668"
        ],
        [
         "22",
         "125",
         "0",
         "2.10912349327872"
        ],
        [
         "23",
         "126",
         "0",
         "1.6898002054057"
        ],
        [
         "24",
         "127",
         "0",
         "1.07183012181031"
        ],
        [
         "25",
         "128",
         "0",
         "0.768617112320391"
        ],
        [
         "26",
         "129",
         "0",
         "1.39901659095027"
        ],
        [
         "27",
         "131",
         "0",
         "0.960316327304543"
        ],
        [
         "28",
         "134",
         "0",
         "2.26677776912199"
        ],
        [
         "29",
         "135",
         "0",
         "1.12166603615639"
        ],
        [
         "30",
         "137",
         "0",
         "2.23570308708459"
        ],
        [
         "31",
         "138",
         "0",
         "1.12166603615639"
        ],
        [
         "32",
         "139",
         "0",
         "1.75078563129483"
        ],
        [
         "33",
         "140",
         "0",
         "2.25856192083002"
        ],
        [
         "34",
         "142",
         "0",
         "2.16796953712663"
        ],
        [
         "35",
         "143",
         "0",
         "1.10686199114588"
        ],
        [
         "36",
         "144",
         "0",
         "1.91108715826454"
        ],
        [
         "37",
         "145",
         "0",
         "1.58123361013271"
        ],
        [
         "38",
         "146",
         "0",
         "0.980352732842011"
        ],
        [
         "39",
         "147",
         "0",
         "1.77454608396328"
        ],
        [
         "40",
         "148",
         "0",
         "1.6067453110216"
        ],
        [
         "41",
         "149",
         "0",
         "1.12166603615639"
        ],
        [
         "42",
         "150",
         "0",
         "2.23406114013618"
        ],
        [
         "43",
         "151",
         "0",
         "2.12968254437957"
        ],
        [
         "44",
         "40",
         "0",
         "1.84210926716588"
        ],
        [
         "45",
         "41",
         "0",
         "2.04204883710229"
        ],
        [
         "46",
         "42",
         "0",
         "1.24009905421284"
        ],
        [
         "47",
         "43",
         "0",
         "1.24707482042698"
        ],
        [
         "48",
         "45",
         "0",
         "1.52110848346236"
        ],
        [
         "49",
         "46",
         "0",
         "1.90916188857146"
        ],
        [
         "50",
         "47",
         "0",
         "1.42632156081009"
        ],
        [
         "51",
         "48",
         "0",
         "1.3184558959653"
        ]
       ],
       "shape": {
        "columns": 3,
        "rows": 97
       }
      },
      "text/html": [
       "<div>\n",
       "<style scoped>\n",
       "    .dataframe tbody tr th:only-of-type {\n",
       "        vertical-align: middle;\n",
       "    }\n",
       "\n",
       "    .dataframe tbody tr th {\n",
       "        vertical-align: top;\n",
       "    }\n",
       "\n",
       "    .dataframe thead th {\n",
       "        text-align: right;\n",
       "    }\n",
       "</style>\n",
       "<table border=\"1\" class=\"dataframe\">\n",
       "  <thead>\n",
       "    <tr style=\"text-align: right;\">\n",
       "      <th></th>\n",
       "      <th>Patient ID</th>\n",
       "      <th>Entropy</th>\n",
       "      <th>LASE</th>\n",
       "    </tr>\n",
       "  </thead>\n",
       "  <tbody>\n",
       "    <tr>\n",
       "      <th>2</th>\n",
       "      <td>100</td>\n",
       "      <td>0</td>\n",
       "      <td>2.295737</td>\n",
       "    </tr>\n",
       "    <tr>\n",
       "      <th>3</th>\n",
       "      <td>101</td>\n",
       "      <td>0</td>\n",
       "      <td>1.328165</td>\n",
       "    </tr>\n",
       "    <tr>\n",
       "      <th>4</th>\n",
       "      <td>102</td>\n",
       "      <td>0</td>\n",
       "      <td>1.220643</td>\n",
       "    </tr>\n",
       "    <tr>\n",
       "      <th>5</th>\n",
       "      <td>103</td>\n",
       "      <td>0</td>\n",
       "      <td>1.873493</td>\n",
       "    </tr>\n",
       "    <tr>\n",
       "      <th>6</th>\n",
       "      <td>104</td>\n",
       "      <td>0</td>\n",
       "      <td>1.974619</td>\n",
       "    </tr>\n",
       "    <tr>\n",
       "      <th>...</th>\n",
       "      <td>...</td>\n",
       "      <td>...</td>\n",
       "      <td>...</td>\n",
       "    </tr>\n",
       "    <tr>\n",
       "      <th>94</th>\n",
       "      <td>94</td>\n",
       "      <td>0</td>\n",
       "      <td>1.994467</td>\n",
       "    </tr>\n",
       "    <tr>\n",
       "      <th>95</th>\n",
       "      <td>95</td>\n",
       "      <td>0</td>\n",
       "      <td>1.391604</td>\n",
       "    </tr>\n",
       "    <tr>\n",
       "      <th>96</th>\n",
       "      <td>96</td>\n",
       "      <td>0</td>\n",
       "      <td>2.002612</td>\n",
       "    </tr>\n",
       "    <tr>\n",
       "      <th>97</th>\n",
       "      <td>97</td>\n",
       "      <td>0</td>\n",
       "      <td>1.720367</td>\n",
       "    </tr>\n",
       "    <tr>\n",
       "      <th>98</th>\n",
       "      <td>98</td>\n",
       "      <td>0</td>\n",
       "      <td>1.037636</td>\n",
       "    </tr>\n",
       "  </tbody>\n",
       "</table>\n",
       "<p>97 rows × 3 columns</p>\n",
       "</div>"
      ],
      "text/plain": [
       "    Patient ID  Entropy      LASE\n",
       "2          100        0  2.295737\n",
       "3          101        0  1.328165\n",
       "4          102        0  1.220643\n",
       "5          103        0  1.873493\n",
       "6          104        0  1.974619\n",
       "..         ...      ...       ...\n",
       "94          94        0  1.994467\n",
       "95          95        0  1.391604\n",
       "96          96        0  2.002612\n",
       "97          97        0  1.720367\n",
       "98          98        0  1.037636\n",
       "\n",
       "[97 rows x 3 columns]"
      ]
     },
     "execution_count": 1,
     "metadata": {},
     "output_type": "execute_result"
    }
   ],
   "source": [
    "import pandas as pd\n",
    "\n",
    "ods = (\n",
    "    pd.read_excel(\n",
    "        \"../../DB AF Completo 1.ods\",\n",
    "    )\n",
    "    .loc[:, [\"ID\", \"Phenotype\", \"Low Voltage / Scar area\", \"Rhythm during Mapping\"]]\n",
    "    .rename(\n",
    "        columns={\n",
    "            \"ID\": \"Patient ID\",\n",
    "            \"Low Voltage / Scar area\": \"Substrate\",\n",
    "            \"Rhythm during Mapping\": \"Rhythm\",\n",
    "        }\n",
    "    )\n",
    "    .dropna(axis=0, how=\"any\")\n",
    "    .astype({\"Patient ID\": int})\n",
    ")\n",
    "csv = (\n",
    "    pd.read_csv(\"lase.csv\", sep=\",\")\n",
    "    .dropna(axis=0, how=\"any\")\n",
    "    .astype({\"Patient ID\": int})\n",
    ")\n",
    "display(ods)\n",
    "csv"
   ]
  },
  {
   "cell_type": "code",
   "execution_count": 2,
   "id": "95341273",
   "metadata": {},
   "outputs": [
    {
     "data": {
      "application/vnd.microsoft.datawrangler.viewer.v0+json": {
       "columns": [
        {
         "name": "index",
         "rawType": "int64",
         "type": "integer"
        },
        {
         "name": "Patient ID",
         "rawType": "int64",
         "type": "integer"
        },
        {
         "name": "Phenotype",
         "rawType": "object",
         "type": "string"
        },
        {
         "name": "Substrate",
         "rawType": "object",
         "type": "string"
        },
        {
         "name": "Rhythm",
         "rawType": "object",
         "type": "unknown"
        },
        {
         "name": "Entropy",
         "rawType": "int64",
         "type": "integer"
        },
        {
         "name": "LASE",
         "rawType": "float64",
         "type": "float"
        }
       ],
       "conversionMethod": "pd.DataFrame",
       "ref": "ceaad245-6937-49a7-a16c-6a56c4510872",
       "rows": [
        [
         "0",
         "40",
         "Parossistica",
         "Anormale",
         "RS",
         "0",
         "1.84210926716588"
        ],
        [
         "1",
         "41",
         "Parossistica",
         "Normale",
         "RS",
         "0",
         "2.04204883710229"
        ],
        [
         "2",
         "42",
         "Parossistica",
         "Normale",
         "RS",
         "0",
         "1.24009905421284"
        ],
        [
         "3",
         "43",
         "Persistente",
         "Anormale",
         "FA",
         "0",
         "1.24707482042698"
        ],
        [
         "4",
         "45",
         "Persistente",
         "Anormale",
         "FA",
         "0",
         "1.52110848346236"
        ],
        [
         "5",
         "46",
         "Parossistica",
         "Normale",
         "RS",
         "0",
         "1.90916188857146"
        ],
        [
         "6",
         "47",
         "Persistente",
         "Anormale",
         "FA",
         "0",
         "1.42632156081009"
        ],
        [
         "7",
         "48",
         "Persistente",
         "Normale",
         "FA",
         "0",
         "1.3184558959653"
        ],
        [
         "8",
         "49",
         "Persistente",
         "Normale",
         "FA",
         "0",
         "1.68839063968115"
        ],
        [
         "9",
         "50",
         "Parossistica",
         "Normale",
         "RS",
         "0",
         "1.51175377968893"
        ],
        [
         "10",
         "51",
         "Persistente",
         "Normale",
         "FA",
         "0",
         "1.50367252733795"
        ],
        [
         "11",
         "52",
         "Persistente",
         "Normale",
         "FA",
         "0",
         "1.35311868185298"
        ],
        [
         "12",
         "53",
         "Persistente",
         "Normale",
         "FA",
         "0",
         "1.44793909010778"
        ],
        [
         "13",
         "55",
         "Persistente",
         "Anormale",
         null,
         "0",
         "1.35232282827816"
        ],
        [
         "14",
         "56",
         "Parossistica",
         "Normale",
         "RS",
         "0",
         "2.36959445298004"
        ],
        [
         "15",
         "57",
         "Parossistica",
         "Normale",
         "RS",
         "0",
         "2.36959445298004"
        ],
        [
         "16",
         "58",
         "Parossistica",
         "Normale",
         "RS",
         "0",
         "1.12166603615639"
        ],
        [
         "17",
         "59",
         "Persistente",
         "Anormale",
         "FA",
         "0",
         "1.12166603615639"
        ],
        [
         "18",
         "60",
         "Parossistica",
         "Normale",
         "RS",
         "0",
         "1.12166603615639"
        ],
        [
         "19",
         "61",
         "Persistente",
         "Anormale",
         "FA",
         "0",
         "1.94016541953216"
        ],
        [
         "20",
         "62",
         "Persistente",
         "Normale",
         "FA",
         "0",
         "1.32181265669526"
        ],
        [
         "21",
         "63",
         "Parossistica",
         "Anormale",
         "RS",
         "0",
         "1.94965804343481"
        ],
        [
         "22",
         "64",
         "Parossistica",
         "Normale",
         "RS",
         "0",
         "2.06808987914287"
        ],
        [
         "23",
         "65",
         "Parossistica",
         "Normale",
         "RS",
         "0",
         "1.98332851389784"
        ],
        [
         "24",
         "66",
         "Persistente",
         "Anormale",
         "FA",
         "0",
         "1.28960419619302"
        ],
        [
         "25",
         "68",
         "Parossistica",
         "Normale",
         "RS",
         "0",
         "1.79780414431217"
        ],
        [
         "26",
         "70",
         "Parossistica",
         "Anormale",
         "RS",
         "0",
         "1.47397535328515"
        ],
        [
         "27",
         "71",
         "Parossistica",
         "Anormale",
         "RS",
         "0",
         "2.06113550828395"
        ],
        [
         "28",
         "72",
         "Persistente",
         "Anormale",
         "FA",
         "0",
         "1.50616647583704"
        ],
        [
         "29",
         "73",
         "Parossistica",
         "Normale",
         "RS",
         "0",
         "1.88729787212842"
        ],
        [
         "30",
         "74",
         "Parossistica",
         "Normale",
         "RS",
         "0",
         "1.91992322599093"
        ],
        [
         "31",
         "75",
         "Parossistica",
         "Anormale",
         "RS",
         "0",
         "1.48068562006983"
        ],
        [
         "32",
         "76",
         "Persistente",
         "Anormale",
         "FA",
         "0",
         "0.914815753099741"
        ],
        [
         "33",
         "77",
         "Persistente",
         "Anormale",
         null,
         "0",
         "1.43869401759843"
        ],
        [
         "34",
         "78",
         "Persistente",
         "Anormale",
         "FA",
         "0",
         "1.3151610180692"
        ],
        [
         "35",
         "79",
         "Parossistica",
         "Normale",
         "RS",
         "0",
         "1.78082686938453"
        ],
        [
         "36",
         "80",
         "Parossistica",
         "Normale",
         "RS",
         "0",
         "2.51353356924364"
        ],
        [
         "37",
         "81",
         "Persistente",
         "Anormale",
         "FA",
         "0",
         "1.54849892704444"
        ],
        [
         "38",
         "82",
         "Parossistica",
         "Normale",
         "RS",
         "0",
         "1.58540448336805"
        ],
        [
         "39",
         "83",
         "Parossistica",
         "Normale",
         "RS",
         "0",
         "2.01612016791501"
        ],
        [
         "40",
         "84",
         "Parossistica",
         "Normale",
         "RS",
         "0",
         "2.09383545301679"
        ],
        [
         "41",
         "85",
         "Parossistica",
         "Anormale",
         "RS",
         "0",
         "2.28058697613726"
        ],
        [
         "42",
         "86",
         "Persistente",
         "Normale",
         "FA",
         "0",
         "1.64693520632133"
        ],
        [
         "43",
         "87",
         "Parossistica",
         "Normale",
         "RS",
         "0",
         "1.85461548219249"
        ],
        [
         "44",
         "88",
         "Parossistica",
         "Normale",
         "RS",
         "0",
         "1.27991030284767"
        ],
        [
         "45",
         "89",
         "Parossistica",
         "Normale",
         null,
         "0",
         "2.09771820023038"
        ],
        [
         "46",
         "90",
         "Parossistica",
         "Normale",
         "RS",
         "0",
         "1.73363929852581"
        ],
        [
         "47",
         "91",
         "Parossistica",
         "Anormale",
         "RS",
         "0",
         "1.4965968934101"
        ],
        [
         "48",
         "92",
         "Parossistica",
         "Normale",
         "RS",
         "0",
         "1.97199557272181"
        ],
        [
         "49",
         "93",
         "Persistente",
         "Normale",
         "FA",
         "0",
         "1.88476940912144"
        ]
       ],
       "shape": {
        "columns": 6,
        "rows": 92
       }
      },
      "text/html": [
       "<div>\n",
       "<style scoped>\n",
       "    .dataframe tbody tr th:only-of-type {\n",
       "        vertical-align: middle;\n",
       "    }\n",
       "\n",
       "    .dataframe tbody tr th {\n",
       "        vertical-align: top;\n",
       "    }\n",
       "\n",
       "    .dataframe thead th {\n",
       "        text-align: right;\n",
       "    }\n",
       "</style>\n",
       "<table border=\"1\" class=\"dataframe\">\n",
       "  <thead>\n",
       "    <tr style=\"text-align: right;\">\n",
       "      <th></th>\n",
       "      <th>Patient ID</th>\n",
       "      <th>Phenotype</th>\n",
       "      <th>Substrate</th>\n",
       "      <th>Rhythm</th>\n",
       "      <th>Entropy</th>\n",
       "      <th>LASE</th>\n",
       "    </tr>\n",
       "  </thead>\n",
       "  <tbody>\n",
       "    <tr>\n",
       "      <th>0</th>\n",
       "      <td>40</td>\n",
       "      <td>Parossistica</td>\n",
       "      <td>Anormale</td>\n",
       "      <td>RS</td>\n",
       "      <td>0</td>\n",
       "      <td>1.842109</td>\n",
       "    </tr>\n",
       "    <tr>\n",
       "      <th>1</th>\n",
       "      <td>41</td>\n",
       "      <td>Parossistica</td>\n",
       "      <td>Normale</td>\n",
       "      <td>RS</td>\n",
       "      <td>0</td>\n",
       "      <td>2.042049</td>\n",
       "    </tr>\n",
       "    <tr>\n",
       "      <th>2</th>\n",
       "      <td>42</td>\n",
       "      <td>Parossistica</td>\n",
       "      <td>Normale</td>\n",
       "      <td>RS</td>\n",
       "      <td>0</td>\n",
       "      <td>1.240099</td>\n",
       "    </tr>\n",
       "    <tr>\n",
       "      <th>3</th>\n",
       "      <td>43</td>\n",
       "      <td>Persistente</td>\n",
       "      <td>Anormale</td>\n",
       "      <td>FA</td>\n",
       "      <td>0</td>\n",
       "      <td>1.247075</td>\n",
       "    </tr>\n",
       "    <tr>\n",
       "      <th>4</th>\n",
       "      <td>45</td>\n",
       "      <td>Persistente</td>\n",
       "      <td>Anormale</td>\n",
       "      <td>FA</td>\n",
       "      <td>0</td>\n",
       "      <td>1.521108</td>\n",
       "    </tr>\n",
       "    <tr>\n",
       "      <th>...</th>\n",
       "      <td>...</td>\n",
       "      <td>...</td>\n",
       "      <td>...</td>\n",
       "      <td>...</td>\n",
       "      <td>...</td>\n",
       "      <td>...</td>\n",
       "    </tr>\n",
       "    <tr>\n",
       "      <th>87</th>\n",
       "      <td>147</td>\n",
       "      <td>Parossistica</td>\n",
       "      <td>Normale</td>\n",
       "      <td>RS</td>\n",
       "      <td>0</td>\n",
       "      <td>1.774546</td>\n",
       "    </tr>\n",
       "    <tr>\n",
       "      <th>88</th>\n",
       "      <td>148</td>\n",
       "      <td>Parossistica</td>\n",
       "      <td>Normale</td>\n",
       "      <td>RS</td>\n",
       "      <td>0</td>\n",
       "      <td>1.606745</td>\n",
       "    </tr>\n",
       "    <tr>\n",
       "      <th>89</th>\n",
       "      <td>149</td>\n",
       "      <td>Parossistica</td>\n",
       "      <td>Normale</td>\n",
       "      <td>RS</td>\n",
       "      <td>0</td>\n",
       "      <td>1.121666</td>\n",
       "    </tr>\n",
       "    <tr>\n",
       "      <th>90</th>\n",
       "      <td>150</td>\n",
       "      <td>Parossistica</td>\n",
       "      <td>Normale</td>\n",
       "      <td>RS</td>\n",
       "      <td>0</td>\n",
       "      <td>2.234061</td>\n",
       "    </tr>\n",
       "    <tr>\n",
       "      <th>91</th>\n",
       "      <td>151</td>\n",
       "      <td>Parossistica</td>\n",
       "      <td>Normale</td>\n",
       "      <td>RS</td>\n",
       "      <td>0</td>\n",
       "      <td>2.129683</td>\n",
       "    </tr>\n",
       "  </tbody>\n",
       "</table>\n",
       "<p>92 rows × 6 columns</p>\n",
       "</div>"
      ],
      "text/plain": [
       "    Patient ID     Phenotype Substrate Rhythm  Entropy      LASE\n",
       "0           40  Parossistica  Anormale     RS        0  1.842109\n",
       "1           41  Parossistica   Normale     RS        0  2.042049\n",
       "2           42  Parossistica   Normale     RS        0  1.240099\n",
       "3           43   Persistente  Anormale     FA        0  1.247075\n",
       "4           45   Persistente  Anormale     FA        0  1.521108\n",
       "..         ...           ...       ...    ...      ...       ...\n",
       "87         147  Parossistica   Normale     RS        0  1.774546\n",
       "88         148  Parossistica   Normale     RS        0  1.606745\n",
       "89         149  Parossistica   Normale     RS        0  1.121666\n",
       "90         150  Parossistica   Normale     RS        0  2.234061\n",
       "91         151  Parossistica   Normale     RS        0  2.129683\n",
       "\n",
       "[92 rows x 6 columns]"
      ]
     },
     "execution_count": 2,
     "metadata": {},
     "output_type": "execute_result"
    }
   ],
   "source": [
    "# Join the two dataframes on the \"ID\" column\n",
    "merged_df = pd.merge(\n",
    "    ods.loc[:, [\"Patient ID\", \"Phenotype\", \"Substrate\", \"Rhythm\"]],\n",
    "    csv,\n",
    "    on=\"Patient ID\",\n",
    "    how=\"inner\",\n",
    ")\n",
    "\n",
    "phenotype_mapping = {\n",
    "    \"Long standing persistent\": \"Persistente\",\n",
    "    \"Persistente\": \"Persistente\",\n",
    "    \"Parossistica\": \"Parossistica\",\n",
    "    \"Parossistico\": \"Parossistica\",\n",
    "}\n",
    "\n",
    "substrate_mapping = {\n",
    "    \"Normale\": \"Normale\",\n",
    "    \"Abnormal\": \"Anormale\",\n",
    "    \"Patologia\": \"Anormale\",\n",
    "    \"Patologia \": \"Anormale\",\n",
    "    \"Patologia altri distretti\": \"Anormale\",\n",
    "    \"Patologia parete posteriore\": \"Anormale\",\n",
    "    \"Patologia parete posteriore e anteriore\": \"Anormale\",\n",
    "    \"Patologia posteriore + altri\": \"Anormale\",\n",
    "    \"Patologia posteriore e+ altri\": \"Anormale\",\n",
    "}\n",
    "\n",
    "rhythm_mapping = {\n",
    "    \"AF\": \"FA\",\n",
    "    \"FA\": \"FA\",\n",
    "    \"SR\": \"RS\",\n",
    "    \"RS\": \"RS\",\n",
    "}\n",
    "\n",
    "merged_df[\"Phenotype\"] = merged_df[\"Phenotype\"].map(phenotype_mapping)\n",
    "merged_df[\"Substrate\"] = merged_df[\"Substrate\"].map(substrate_mapping)\n",
    "merged_df[\"Rhythm\"] = merged_df[\"Rhythm\"].map(rhythm_mapping)\n",
    "\n",
    "merged_df"
   ]
  },
  {
   "cell_type": "code",
   "execution_count": 3,
   "id": "2137bb44",
   "metadata": {},
   "outputs": [
    {
     "name": "stdout",
     "output_type": "stream",
     "text": [
      "T-statistic: 5.80, P-value: 0.00\n",
      "AUC: 0.82\n"
     ]
    },
    {
     "data": {
      "image/png": "[encoded data removed]",
      "text/plain": [
       "<Figure size 1000x600 with 1 Axes>"
      ]
     },
     "metadata": {},
     "output_type": "display_data"
    }
   ],
   "source": [
    "from scipy.stats import ttest_ind\n",
    "from sklearn.metrics import roc_auc_score\n",
    "\n",
    "# Perform t-test\n",
    "paroxysmal_lase = merged_df[merged_df[\"Phenotype\"] == \"Parossistica\"][\"LASE\"]\n",
    "persistent_lase = merged_df[merged_df[\"Phenotype\"] == \"Persistente\"][\"LASE\"]\n",
    "\n",
    "t_stat, p_value = ttest_ind(\n",
    "    paroxysmal_lase, persistent_lase, equal_var=False, alternative=\"greater\"\n",
    ")\n",
    "print(f\"T-statistic: {t_stat:.2f}, P-value: {p_value:.2f}\")\n",
    "\n",
    "# Calculate AUC\n",
    "y = merged_df[\"LASE\"]\n",
    "y_true = merged_df[\"Phenotype\"].apply(lambda x: 1 if x == \"Parossistica\" else 0)\n",
    "y_pred = merged_df[\"LASE\"]\n",
    "auc = roc_auc_score(y_true, y_pred)\n",
    "print(f\"AUC: {auc:.2f}\")\n",
    "\n",
    "import matplotlib.pyplot as plt\n",
    "\n",
    "plt.figure(figsize=(10, 6))\n",
    "plt.boxplot(\n",
    "    [\n",
    "        merged_df[merged_df[\"Phenotype\"] == \"Parossistica\"][\"LASE\"],\n",
    "        merged_df[merged_df[\"Phenotype\"] == \"Persistente\"][\"LASE\"],\n",
    "    ],\n",
    "    tick_labels=[\"Paroxysmal\", \"Persistent\"],\n",
    ")\n",
    "plt.title(\"No voltage threshold, filtered EGM\")\n",
    "plt.ylabel(\"LASE\")\n",
    "plt.xlabel(\"Phenotype\")\n",
    "plt.grid()\n",
    "plt.savefig(\"phenotype_boxplot.png\", dpi=300, bbox_inches=\"tight\")\n",
    "plt.tight_layout()\n",
    "plt.show()"
   ]
  },
  {
   "cell_type": "code",
   "execution_count": 4,
   "id": "ee95cf28",
   "metadata": {},
   "outputs": [
    {
     "name": "stdout",
     "output_type": "stream",
     "text": [
      "T-statistic: -5.19, P-value: 0.00\n",
      "AUC: 0.79\n"
     ]
    },
    {
     "data": {
      "image/png": "[encoded data removed]",
      "text/plain": [
       "<Figure size 1000x600 with 1 Axes>"
      ]
     },
     "metadata": {},
     "output_type": "display_data"
    }
   ],
   "source": [
    "from scipy.stats import ttest_ind\n",
    "from sklearn.metrics import roc_auc_score\n",
    "\n",
    "# Perform t-test\n",
    "abnormal_lase = merged_df[merged_df[\"Substrate\"] == \"Anormale\"][\"LASE\"]\n",
    "normal_lase = merged_df[merged_df[\"Substrate\"] == \"Normale\"][\"LASE\"]\n",
    "t_stat, p_value = ttest_ind(\n",
    "    abnormal_lase, normal_lase, equal_var=False, alternative=\"less\"\n",
    ")\n",
    "print(f\"T-statistic: {t_stat:.2f}, P-value: {p_value:.2f}\")\n",
    "\n",
    "# Calculate AUC\n",
    "y = merged_df[\"LASE\"]\n",
    "y_true = merged_df[\"Substrate\"].apply(lambda x: 0 if x == \"Anormale\" else 1)\n",
    "y_pred = merged_df[\"LASE\"]\n",
    "auc = roc_auc_score(y_true, y_pred)\n",
    "print(f\"AUC: {auc:.2f}\")\n",
    "\n",
    "import matplotlib.pyplot as plt\n",
    "\n",
    "plt.figure(figsize=(10, 6))\n",
    "plt.boxplot(\n",
    "    [\n",
    "        merged_df[merged_df[\"Substrate\"] == \"Anormale\"][\"LASE\"],\n",
    "        merged_df[merged_df[\"Substrate\"] == \"Normale\"][\"LASE\"],\n",
    "    ],\n",
    "    tick_labels=[\"Abnormal\", \"Normal\"],\n",
    ")\n",
    "plt.title(\"No voltage threshold, filtered EGM\")\n",
    "plt.ylabel(\"LASE\")\n",
    "plt.xlabel(\"Substrate\")\n",
    "plt.grid()\n",
    "plt.savefig(\"substrate_boxplot.png\", dpi=300, bbox_inches=\"tight\")\n",
    "plt.tight_layout()\n",
    "plt.show()"
   ]
  },
  {
   "cell_type": "code",
   "execution_count": 5,
   "id": "6db1be47",
   "metadata": {},
   "outputs": [
    {
     "name": "stdout",
     "output_type": "stream",
     "text": [
      "T-statistic: 5.21, P-value: 0.00\n",
      "AUC: 0.79\n"
     ]
    },
    {
     "data": {
      "image/png": "[encoded data removed]",
      "text/plain": [
       "<Figure size 1000x600 with 1 Axes>"
      ]
     },
     "metadata": {},
     "output_type": "display_data"
    }
   ],
   "source": [
    "from scipy.stats import ttest_ind\n",
    "from sklearn.metrics import roc_auc_score\n",
    "\n",
    "# Perform t-test\n",
    "sinus_lase = merged_df[merged_df[\"Rhythm\"] == \"RS\"][\"LASE\"]\n",
    "fibril_lase = merged_df[merged_df[\"Rhythm\"] == \"FA\"][\"LASE\"]\n",
    "t_stat, p_value = ttest_ind(\n",
    "    sinus_lase, fibril_lase, equal_var=False, alternative=\"greater\"\n",
    ")\n",
    "print(f\"T-statistic: {t_stat:.2f}, P-value: {p_value:.2f}\")\n",
    "\n",
    "# Calculate AUC\n",
    "y = merged_df[\"LASE\"]\n",
    "y_true = merged_df[\"Rhythm\"].apply(lambda x: 0 if x == \"FA\" else 1)\n",
    "y_pred = merged_df[\"LASE\"]\n",
    "auc = roc_auc_score(y_true, y_pred)\n",
    "print(f\"AUC: {auc:.2f}\")\n",
    "\n",
    "import matplotlib.pyplot as plt\n",
    "\n",
    "plt.figure(figsize=(10, 6))\n",
    "plt.boxplot(\n",
    "    [\n",
    "        merged_df[merged_df[\"Rhythm\"] == \"RS\"][\"LASE\"],\n",
    "        merged_df[merged_df[\"Rhythm\"] == \"FA\"][\"LASE\"],\n",
    "    ],\n",
    "    tick_labels=[\"RS\", \"FA\"],\n",
    ")\n",
    "plt.title(\"No voltage threshold, filtered EGM\")\n",
    "plt.ylabel(\"LASE\")\n",
    "plt.xlabel(\"Rhythm\")\n",
    "plt.grid()\n",
    "plt.savefig(\"rhythm_boxplot.png\", dpi=300, bbox_inches=\"tight\")\n",
    "plt.tight_layout()\n",
    "plt.show()"
   ]
  }
 ],
 "metadata": {
  "kernelspec": {
   "display_name": "base",
   "language": "python",
   "name": "python3"
  },
  "language_info": {
   "codemirror_mode": {
    "name": "ipython",
    "version": 3
   },
   "file_extension": ".py",
   "mimetype": "text/x-python",
   "name": "python",
   "nbconvert_exporter": "python",
   "pygments_lexer": "ipython3",
   "version": "3.10.13"
  }
 },
 "nbformat": 4,
 "nbformat_minor": 5
}
