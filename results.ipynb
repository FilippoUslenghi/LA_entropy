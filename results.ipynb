{
 "cells": [
  {
   "cell_type": "code",
   "execution_count": 1,
   "id": "9b13eb29",
   "metadata": {},
   "outputs": [],
   "source": [
    "import json\n",
    "import os\n",
    "import pandas as pd\n",
    "import matplotlib.pyplot as plt\n",
    "from sklearn.metrics import roc_auc_score\n",
    "from scipy.stats import ttest_ind"
   ]
  },
  {
   "cell_type": "markdown",
   "id": "93220352",
   "metadata": {},
   "source": [
    "### Load patient data from spreadsheet"
   ]
  },
  {
   "cell_type": "code",
   "execution_count": 2,
   "id": "d2d2290f",
   "metadata": {},
   "outputs": [
    {
     "data": {
      "application/vnd.microsoft.datawrangler.viewer.v0+json": {
       "columns": [
        {
         "name": "index",
         "rawType": "int64",
         "type": "integer"
        },
        {
         "name": "PatientID",
         "rawType": "int64",
         "type": "integer"
        },
        {
         "name": "Phenotype",
         "rawType": "object",
         "type": "unknown"
        },
        {
         "name": "Substrate",
         "rawType": "object",
         "type": "string"
        },
        {
         "name": "Rhythm",
         "rawType": "object",
         "type": "unknown"
        }
       ],
       "ref": "1249b7f9-2a90-4975-8692-1af381418a5b",
       "rows": [
        [
         "3",
         "9",
         "Persistent",
         "Abnormal",
         "AF"
        ],
        [
         "4",
         "10",
         "Paroxysmal",
         "Normal",
         "SR"
        ],
        [
         "5",
         "11",
         "Persistent",
         "Normal",
         "AF"
        ],
        [
         "6",
         "12",
         "Persistent",
         "Abnormal",
         "SR"
        ],
        [
         "7",
         "13",
         "Persistent",
         "Abnormal",
         "AF"
        ],
        [
         "8",
         "14",
         "Paroxysmal",
         "Normal",
         "AF"
        ],
        [
         "9",
         "15",
         "Paroxysmal",
         "Normal",
         "SR"
        ],
        [
         "10",
         "16",
         "Persistent",
         "Abnormal",
         "AF"
        ],
        [
         "11",
         "17",
         "Paroxysmal",
         "Normal",
         "SR"
        ],
        [
         "12",
         "18",
         "Paroxysmal",
         "Normal",
         "SR"
        ],
        [
         "13",
         "19",
         "Persistent",
         "Normal",
         "AF"
        ],
        [
         "14",
         "20",
         "Paroxysmal",
         "Normal",
         "SR"
        ],
        [
         "15",
         "21",
         "Paroxysmal",
         "Normal",
         "SR"
        ],
        [
         "16",
         "22",
         "Persistent",
         "Abnormal",
         "AF"
        ],
        [
         "17",
         "23",
         "Paroxysmal",
         "Normal",
         "SR"
        ],
        [
         "20",
         "3",
         "Paroxysmal",
         "Normal",
         "SR"
        ],
        [
         "21",
         "4",
         "Paroxysmal",
         "Normal",
         "SR"
        ],
        [
         "22",
         "5",
         "Paroxysmal",
         "Normal",
         "AF"
        ],
        [
         "23",
         "6",
         "Paroxysmal",
         "Abnormal",
         "SR"
        ],
        [
         "24",
         "7",
         "Persistent",
         "Abnormal",
         "AF"
        ],
        [
         "26",
         "9",
         "Paroxysmal",
         "Normal",
         "SR"
        ],
        [
         "27",
         "10",
         "Persistent",
         "Normal",
         "AF"
        ],
        [
         "28",
         "11",
         "Paroxysmal",
         "Abnormal",
         "SR"
        ],
        [
         "29",
         "12",
         "Paroxysmal",
         "Normal",
         null
        ],
        [
         "30",
         "13",
         "Persistent",
         "Abnormal",
         "AF"
        ],
        [
         "31",
         "14",
         "Paroxysmal",
         "Normal",
         "AF"
        ],
        [
         "32",
         "15",
         "Paroxysmal",
         "Normal",
         "SR"
        ],
        [
         "35",
         "18",
         "Paroxysmal",
         "Normal",
         "SR"
        ],
        [
         "38",
         "21",
         "Paroxysmal",
         "Normal",
         "SR"
        ],
        [
         "39",
         "22",
         "Paroxysmal",
         "Normal",
         "SR"
        ],
        [
         "40",
         "23",
         "Paroxysmal",
         "Normal",
         "SR"
        ],
        [
         "41",
         "24",
         "Persistent",
         "Abnormal",
         "AF"
        ],
        [
         "42",
         "25",
         "Paroxysmal",
         "Normal",
         "SR"
        ],
        [
         "43",
         "26",
         "Persistent",
         "Abnormal",
         "AF"
        ],
        [
         "44",
         "27",
         "Persistent",
         "Normal",
         "AF"
        ],
        [
         "45",
         "28",
         "Paroxysmal",
         "Normal",
         "SR"
        ],
        [
         "46",
         "29",
         "Paroxysmal",
         "Normal",
         "SR"
        ],
        [
         "47",
         "30",
         "Persistent",
         "Abnormal",
         "AF"
        ],
        [
         "48",
         "31",
         "Paroxysmal",
         "Normal",
         "SR"
        ],
        [
         "50",
         "33",
         "Paroxysmal",
         "Normal",
         "SR"
        ],
        [
         "51",
         "34",
         "Paroxysmal",
         "Normal",
         "SR"
        ],
        [
         "52",
         "35",
         "Paroxysmal",
         "Normal",
         "SR"
        ],
        [
         "53",
         "36",
         "Persistent",
         "Abnormal",
         "AF"
        ],
        [
         "55",
         "38",
         "Persistent",
         "Normal",
         "AF"
        ],
        [
         "56",
         "39",
         "Paroxysmal",
         "Normal",
         "SR"
        ],
        [
         "57",
         "40",
         "Paroxysmal",
         "Abnormal",
         "SR"
        ],
        [
         "58",
         "41",
         "Paroxysmal",
         "Normal",
         "SR"
        ],
        [
         "59",
         "42",
         "Paroxysmal",
         "Normal",
         "SR"
        ],
        [
         "60",
         "43",
         "Persistent",
         "Abnormal",
         "AF"
        ],
        [
         "61",
         "44",
         "Paroxysmal",
         "Normal",
         "SR"
        ]
       ],
       "shape": {
        "columns": 4,
        "rows": 160
       }
      },
      "text/html": [
       "<div>\n",
       "<style scoped>\n",
       "    .dataframe tbody tr th:only-of-type {\n",
       "        vertical-align: middle;\n",
       "    }\n",
       "\n",
       "    .dataframe tbody tr th {\n",
       "        vertical-align: top;\n",
       "    }\n",
       "\n",
       "    .dataframe thead th {\n",
       "        text-align: right;\n",
       "    }\n",
       "</style>\n",
       "<table border=\"1\" class=\"dataframe\">\n",
       "  <thead>\n",
       "    <tr style=\"text-align: right;\">\n",
       "      <th></th>\n",
       "      <th>PatientID</th>\n",
       "      <th>Phenotype</th>\n",
       "      <th>Substrate</th>\n",
       "      <th>Rhythm</th>\n",
       "    </tr>\n",
       "  </thead>\n",
       "  <tbody>\n",
       "    <tr>\n",
       "      <th>3</th>\n",
       "      <td>9</td>\n",
       "      <td>Persistent</td>\n",
       "      <td>Abnormal</td>\n",
       "      <td>AF</td>\n",
       "    </tr>\n",
       "    <tr>\n",
       "      <th>4</th>\n",
       "      <td>10</td>\n",
       "      <td>Paroxysmal</td>\n",
       "      <td>Normal</td>\n",
       "      <td>SR</td>\n",
       "    </tr>\n",
       "    <tr>\n",
       "      <th>5</th>\n",
       "      <td>11</td>\n",
       "      <td>Persistent</td>\n",
       "      <td>Normal</td>\n",
       "      <td>AF</td>\n",
       "    </tr>\n",
       "    <tr>\n",
       "      <th>6</th>\n",
       "      <td>12</td>\n",
       "      <td>Persistent</td>\n",
       "      <td>Abnormal</td>\n",
       "      <td>SR</td>\n",
       "    </tr>\n",
       "    <tr>\n",
       "      <th>7</th>\n",
       "      <td>13</td>\n",
       "      <td>Persistent</td>\n",
       "      <td>Abnormal</td>\n",
       "      <td>AF</td>\n",
       "    </tr>\n",
       "    <tr>\n",
       "      <th>...</th>\n",
       "      <td>...</td>\n",
       "      <td>...</td>\n",
       "      <td>...</td>\n",
       "      <td>...</td>\n",
       "    </tr>\n",
       "    <tr>\n",
       "      <th>171</th>\n",
       "      <td>154</td>\n",
       "      <td>Paroxysmal</td>\n",
       "      <td>Normal</td>\n",
       "      <td>SR</td>\n",
       "    </tr>\n",
       "    <tr>\n",
       "      <th>177</th>\n",
       "      <td>160</td>\n",
       "      <td>Paroxysmal</td>\n",
       "      <td>Normal</td>\n",
       "      <td>SR</td>\n",
       "    </tr>\n",
       "    <tr>\n",
       "      <th>178</th>\n",
       "      <td>161</td>\n",
       "      <td>Paroxysmal</td>\n",
       "      <td>Normal</td>\n",
       "      <td>SR</td>\n",
       "    </tr>\n",
       "    <tr>\n",
       "      <th>179</th>\n",
       "      <td>162</td>\n",
       "      <td>Paroxysmal</td>\n",
       "      <td>Normal</td>\n",
       "      <td>SR</td>\n",
       "    </tr>\n",
       "    <tr>\n",
       "      <th>236</th>\n",
       "      <td>219</td>\n",
       "      <td>Persistent</td>\n",
       "      <td>Abnormal</td>\n",
       "      <td>AF</td>\n",
       "    </tr>\n",
       "  </tbody>\n",
       "</table>\n",
       "<p>160 rows × 4 columns</p>\n",
       "</div>"
      ],
      "text/plain": [
       "     PatientID   Phenotype Substrate Rhythm\n",
       "3            9  Persistent  Abnormal     AF\n",
       "4           10  Paroxysmal    Normal     SR\n",
       "5           11  Persistent    Normal     AF\n",
       "6           12  Persistent  Abnormal     SR\n",
       "7           13  Persistent  Abnormal     AF\n",
       "..         ...         ...       ...    ...\n",
       "171        154  Paroxysmal    Normal     SR\n",
       "177        160  Paroxysmal    Normal     SR\n",
       "178        161  Paroxysmal    Normal     SR\n",
       "179        162  Paroxysmal    Normal     SR\n",
       "236        219  Persistent  Abnormal     AF\n",
       "\n",
       "[160 rows x 4 columns]"
      ]
     },
     "execution_count": 2,
     "metadata": {},
     "output_type": "execute_result"
    }
   ],
   "source": [
    "patients_df = (\n",
    "    pd.read_excel(\n",
    "        \"DB AF Completo 1.ods\",\n",
    "    )\n",
    "    .loc[:, [\"ID\", \"Phenotype\", \"Low Voltage / Scar area\", \"Rhythm during Mapping\"]]\n",
    "    .rename(\n",
    "        columns={\n",
    "            \"ID\": \"PatientID\",\n",
    "            \"Low Voltage / Scar area\": \"Substrate\",\n",
    "            \"Rhythm during Mapping\": \"Rhythm\",\n",
    "        }\n",
    "    )\n",
    "    .dropna(axis=0, how=\"any\")\n",
    "    .astype({\"PatientID\": int})\n",
    ")\n",
    "\n",
    "phenotype_mapping = {\n",
    "    \"Long standing persistent\": \"Persistent\",\n",
    "    \"Persistente\": \"Persistent\",\n",
    "    \"Parossistica\": \"Paroxysmal\",\n",
    "    \"Parossistico\": \"Paroxysmal\",\n",
    "    \"Persistent\": \"Persistent\",\n",
    "    \"Paroxysmal\": \"Paroxysmal\",\n",
    "}\n",
    "\n",
    "substrate_mapping = {\n",
    "    \"Normal\": \"Normal\",\n",
    "    \"Normale\": \"Normal\",\n",
    "    \"Abnormal\": \"Abnormal\",\n",
    "    \"Patologia\": \"Abnormal\",\n",
    "    \"Patologia \": \"Abnormal\",\n",
    "    \"Patologia altri distretti\": \"Abnormal\",\n",
    "    \"Patologia parete posteriore\": \"Abnormal\",\n",
    "    \"Patologia parete posteriore e anteriore\": \"Abnormal\",\n",
    "    \"Patologia posteriore + altri\": \"Abnormal\",\n",
    "    \"Patologia posteriore e+ altri\": \"Abnormal\",\n",
    "}\n",
    "\n",
    "rhythm_mapping = {\n",
    "    \"AF\": \"AF\",\n",
    "    \"FA\": \"AF\",\n",
    "    \"SR\": \"SR\",\n",
    "    \"RS\": \"SR\",\n",
    "}\n",
    "\n",
    "patients_df[\"Phenotype\"] = patients_df[\"Phenotype\"].map(phenotype_mapping)\n",
    "patients_df[\"Substrate\"] = patients_df[\"Substrate\"].map(substrate_mapping)\n",
    "patients_df[\"Rhythm\"] = patients_df[\"Rhythm\"].map(rhythm_mapping)\n",
    "\n",
    "patients_df"
   ]
  },
  {
   "cell_type": "markdown",
   "id": "46ad0e7b",
   "metadata": {},
   "source": [
    "### Show plots of a specific experiment"
   ]
  },
  {
   "cell_type": "code",
   "execution_count": 3,
   "id": "6f1e0f64",
   "metadata": {},
   "outputs": [
    {
     "data": {
      "image/png": "[encoded data removed]",
      "text/plain": [
       "<Figure size 1500x500 with 3 Axes>"
      ]
     },
     "metadata": {},
     "output_type": "display_data"
    }
   ],
   "source": [
    "results_dir = \"results\"\n",
    "experiment_name = \"voltageThrs_15_binWidth_0.1\"\n",
    "results_path = os.path.join(results_dir, experiment_name, \"results.json\")\n",
    "\n",
    "with open(results_path, \"r\") as f:\n",
    "    results_dict = json.load(f)\n",
    "parameters = results_dict[\"parameters\"]\n",
    "results = results_dict[\"results\"]\n",
    "\n",
    "results_df = pd.DataFrame(results)\n",
    "results_df = results_df.astype(\n",
    "    {\n",
    "        \"PatientID\": int,\n",
    "        \"Entropy\": float,\n",
    "    }\n",
    ")\n",
    "\n",
    "results_df = results_df.merge(\n",
    "    patients_df,\n",
    "    on=\"PatientID\",\n",
    "    how=\"left\",\n",
    ")\n",
    "\n",
    "# Extracting LASE values\n",
    "abnormal_lase = results_df[results_df[\"Substrate\"] == \"Abnormal\"][\"LASE\"]\n",
    "normal_lase = results_df[results_df[\"Substrate\"] == \"Normal\"][\"LASE\"]\n",
    "paroxysmal_lase = results_df[results_df[\"Phenotype\"] == \"Paroxysmal\"][\"LASE\"]\n",
    "persistent_lase = results_df[results_df[\"Phenotype\"] == \"Persistent\"][\"LASE\"]\n",
    "SR_lase = results_df[results_df[\"Rhythm\"] == \"SR\"][\"LASE\"]\n",
    "AF_lase = results_df[results_df[\"Rhythm\"] == \"AF\"][\"LASE\"]\n",
    "\n",
    "y_pred = results_df.loc[:, \"LASE\"].values\n",
    "# Plotting the results\n",
    "plt.figure(figsize=(15, 5))\n",
    "plt.subplot(1, 3, 1)\n",
    "plt.boxplot(\n",
    "    [paroxysmal_lase, persistent_lase],\n",
    "    tick_labels=[\"Paroxysmal\", \"Persistent\"],\n",
    ")\n",
    "plt.title(f\"LASE by Phenotype - {experiment_name.replace('_', ' ').title()}\\n AUC: {roc_auc_score(results_df['Phenotype'].apply(lambda x: 1 if x == 'Paroxysmal' else 0), y_pred):.3f}, p-value: {ttest_ind(paroxysmal_lase, persistent_lase, equal_var=False, alternative='greater').pvalue:.3f}\")  # type: ignore\n",
    "plt.ylabel(\"LASE\")\n",
    "plt.xlabel(\"Phenotype\")\n",
    "plt.grid()\n",
    "plt.subplot(1, 3, 2)\n",
    "plt.boxplot(\n",
    "    [abnormal_lase, normal_lase],\n",
    "    tick_labels=[\"Abnormal\", \"Normal\"],\n",
    ")\n",
    "plt.title(f\"LASE by Substrate - {experiment_name.replace('_', ' ').title()}\\n AUC: {roc_auc_score(results_df['Substrate'].apply(lambda x: 1 if x == 'Normal' else 0), y_pred):.3f}, p-value: {ttest_ind(abnormal_lase, normal_lase, equal_var=False, alternative='less').pvalue:.3f}\")  # type: ignore\n",
    "plt.ylabel(\"LASE\")\n",
    "plt.xlabel(\"Substrate\")\n",
    "plt.grid()\n",
    "plt.subplot(1, 3, 3)\n",
    "plt.boxplot(\n",
    "    [SR_lase, AF_lase],\n",
    "    tick_labels=[\"SR\", \"AF\"],\n",
    ")\n",
    "plt.title(f\"LASE by Rhythm - {experiment_name.replace('_', ' ').title()}\\n AUC: {roc_auc_score(results_df['Rhythm'].apply(lambda x: 1 if x == 'SR' else 0), y_pred):.3f}, p-value: {ttest_ind(SR_lase, AF_lase, equal_var=False, alternative='greater').pvalue:.3f}\")  # type: ignore\n",
    "plt.ylabel(\"LASE\")\n",
    "plt.xlabel(\"Rhythm\")\n",
    "plt.grid()\n",
    "plt.tight_layout()\n",
    "plt.show()"
   ]
  },
  {
   "cell_type": "markdown",
   "id": "3bbed442",
   "metadata": {},
   "source": [
    "### Compute results metrics for all experiments"
   ]
  },
  {
   "cell_type": "code",
   "execution_count": 7,
   "id": "9e0543b3",
   "metadata": {},
   "outputs": [
    {
     "data": {
      "application/vnd.microsoft.datawrangler.viewer.v0+json": {
       "columns": [
        {
         "name": "index",
         "rawType": "int64",
         "type": "integer"
        },
        {
         "name": "voltage_thrs",
         "rawType": "int64",
         "type": "integer"
        },
        {
         "name": "bin_width",
         "rawType": "object",
         "type": "string"
        },
        {
         "name": "Phenotype AUC",
         "rawType": "float64",
         "type": "float"
        },
        {
         "name": "Phenotype p-value",
         "rawType": "float64",
         "type": "float"
        },
        {
         "name": "Substrate AUC",
         "rawType": "float64",
         "type": "float"
        },
        {
         "name": "Substrate p-value",
         "rawType": "float64",
         "type": "float"
        },
        {
         "name": "Rhythm AUC",
         "rawType": "float64",
         "type": "float"
        },
        {
         "name": "Rhythm p-value",
         "rawType": "float64",
         "type": "float"
        },
        {
         "name": "experiment",
         "rawType": "object",
         "type": "string"
        }
       ],
       "ref": "6488660f-7f2d-41d7-acd6-ccdc8be2fe26",
       "rows": [
        [
         "0",
         "15",
         "0.05",
         "0.733",
         "0.001",
         "0.727",
         "0.001",
         "0.706",
         "0.001",
         "voltageThrs_15_binWidth_0.05"
        ],
        [
         "1",
         "15",
         "0.3",
         "0.821",
         "0.0",
         "0.802",
         "0.0",
         "0.774",
         "0.0",
         "voltageThrs_15_binWidth_0.3"
        ],
        [
         "2",
         "15",
         "0.2",
         "0.807",
         "0.0",
         "0.797",
         "0.0",
         "0.766",
         "0.0",
         "voltageThrs_15_binWidth_0.2"
        ],
        [
         "3",
         "15",
         "0.01",
         "0.528",
         "0.807",
         "0.558",
         "0.748",
         "0.546",
         "0.66",
         "voltageThrs_15_binWidth_0.01"
        ],
        [
         "4",
         "15",
         "variable",
         "0.841",
         "0.0",
         "0.822",
         "0.0",
         "0.784",
         "0.0",
         "voltageThrs_15_binWidth_variable"
        ],
        [
         "5",
         "15",
         "0.1",
         "0.779",
         "0.0",
         "0.765",
         "0.0",
         "0.745",
         "0.0",
         "voltageThrs_15_binWidth_0.1"
        ]
       ],
       "shape": {
        "columns": 9,
        "rows": 6
       }
      },
      "text/html": [
       "<div>\n",
       "<style scoped>\n",
       "    .dataframe tbody tr th:only-of-type {\n",
       "        vertical-align: middle;\n",
       "    }\n",
       "\n",
       "    .dataframe tbody tr th {\n",
       "        vertical-align: top;\n",
       "    }\n",
       "\n",
       "    .dataframe thead th {\n",
       "        text-align: right;\n",
       "    }\n",
       "</style>\n",
       "<table border=\"1\" class=\"dataframe\">\n",
       "  <thead>\n",
       "    <tr style=\"text-align: right;\">\n",
       "      <th></th>\n",
       "      <th>voltage_thrs</th>\n",
       "      <th>bin_width</th>\n",
       "      <th>Phenotype AUC</th>\n",
       "      <th>Phenotype p-value</th>\n",
       "      <th>Substrate AUC</th>\n",
       "      <th>Substrate p-value</th>\n",
       "      <th>Rhythm AUC</th>\n",
       "      <th>Rhythm p-value</th>\n",
       "      <th>experiment</th>\n",
       "    </tr>\n",
       "  </thead>\n",
       "  <tbody>\n",
       "    <tr>\n",
       "      <th>0</th>\n",
       "      <td>15</td>\n",
       "      <td>0.05</td>\n",
       "      <td>0.733</td>\n",
       "      <td>0.001</td>\n",
       "      <td>0.727</td>\n",
       "      <td>0.001</td>\n",
       "      <td>0.706</td>\n",
       "      <td>0.001</td>\n",
       "      <td>voltageThrs_15_binWidth_0.05</td>\n",
       "    </tr>\n",
       "    <tr>\n",
       "      <th>1</th>\n",
       "      <td>15</td>\n",
       "      <td>0.3</td>\n",
       "      <td>0.821</td>\n",
       "      <td>0.000</td>\n",
       "      <td>0.802</td>\n",
       "      <td>0.000</td>\n",
       "      <td>0.774</td>\n",
       "      <td>0.000</td>\n",
       "      <td>voltageThrs_15_binWidth_0.3</td>\n",
       "    </tr>\n",
       "    <tr>\n",
       "      <th>2</th>\n",
       "      <td>15</td>\n",
       "      <td>0.2</td>\n",
       "      <td>0.807</td>\n",
       "      <td>0.000</td>\n",
       "      <td>0.797</td>\n",
       "      <td>0.000</td>\n",
       "      <td>0.766</td>\n",
       "      <td>0.000</td>\n",
       "      <td>voltageThrs_15_binWidth_0.2</td>\n",
       "    </tr>\n",
       "    <tr>\n",
       "      <th>3</th>\n",
       "      <td>15</td>\n",
       "      <td>0.01</td>\n",
       "      <td>0.528</td>\n",
       "      <td>0.807</td>\n",
       "      <td>0.558</td>\n",
       "      <td>0.748</td>\n",
       "      <td>0.546</td>\n",
       "      <td>0.660</td>\n",
       "      <td>voltageThrs_15_binWidth_0.01</td>\n",
       "    </tr>\n",
       "    <tr>\n",
       "      <th>4</th>\n",
       "      <td>15</td>\n",
       "      <td>variable</td>\n",
       "      <td>0.841</td>\n",
       "      <td>0.000</td>\n",
       "      <td>0.822</td>\n",
       "      <td>0.000</td>\n",
       "      <td>0.784</td>\n",
       "      <td>0.000</td>\n",
       "      <td>voltageThrs_15_binWidth_variable</td>\n",
       "    </tr>\n",
       "    <tr>\n",
       "      <th>5</th>\n",
       "      <td>15</td>\n",
       "      <td>0.1</td>\n",
       "      <td>0.779</td>\n",
       "      <td>0.000</td>\n",
       "      <td>0.765</td>\n",
       "      <td>0.000</td>\n",
       "      <td>0.745</td>\n",
       "      <td>0.000</td>\n",
       "      <td>voltageThrs_15_binWidth_0.1</td>\n",
       "    </tr>\n",
       "  </tbody>\n",
       "</table>\n",
       "</div>"
      ],
      "text/plain": [
       "   voltage_thrs bin_width  Phenotype AUC  Phenotype p-value  Substrate AUC  \\\n",
       "0            15      0.05          0.733              0.001          0.727   \n",
       "1            15       0.3          0.821              0.000          0.802   \n",
       "2            15       0.2          0.807              0.000          0.797   \n",
       "3            15      0.01          0.528              0.807          0.558   \n",
       "4            15  variable          0.841              0.000          0.822   \n",
       "5            15       0.1          0.779              0.000          0.765   \n",
       "\n",
       "   Substrate p-value  Rhythm AUC  Rhythm p-value  \\\n",
       "0              0.001       0.706           0.001   \n",
       "1              0.000       0.774           0.000   \n",
       "2              0.000       0.766           0.000   \n",
       "3              0.748       0.546           0.660   \n",
       "4              0.000       0.784           0.000   \n",
       "5              0.000       0.745           0.000   \n",
       "\n",
       "                         experiment  \n",
       "0      voltageThrs_15_binWidth_0.05  \n",
       "1       voltageThrs_15_binWidth_0.3  \n",
       "2       voltageThrs_15_binWidth_0.2  \n",
       "3      voltageThrs_15_binWidth_0.01  \n",
       "4  voltageThrs_15_binWidth_variable  \n",
       "5       voltageThrs_15_binWidth_0.1  "
      ]
     },
     "execution_count": 7,
     "metadata": {},
     "output_type": "execute_result"
    }
   ],
   "source": [
    "from sklearn.metrics import roc_auc_score\n",
    "from scipy.stats import ttest_ind\n",
    "\n",
    "\n",
    "def compute_metrics(results_df):\n",
    "    # Prepare groups\n",
    "    abnormal_lase = results_df[results_df[\"Substrate\"] == \"Abnormal\"][\"LASE\"]\n",
    "    normal_lase = results_df[results_df[\"Substrate\"] == \"Normal\"][\"LASE\"]\n",
    "    paroxysmal_lase = results_df[results_df[\"Phenotype\"] == \"Paroxysmal\"][\"LASE\"]\n",
    "    persistent_lase = results_df[results_df[\"Phenotype\"] == \"Persistent\"][\"LASE\"]\n",
    "    SR_lase = results_df[results_df[\"Rhythm\"] == \"SR\"][\"LASE\"]\n",
    "    AF_lase = results_df[results_df[\"Rhythm\"] == \"AF\"][\"LASE\"]\n",
    "    y_pred = results_df[\"LASE\"].values\n",
    "\n",
    "    # Compute metrics\n",
    "    metrics = {}\n",
    "    # Phenotype\n",
    "    y_true_phenotype = results_df[\"Phenotype\"].apply(\n",
    "        lambda x: 1 if x == \"Paroxysmal\" else 0\n",
    "    )\n",
    "    auc_phenotype = roc_auc_score(y_true_phenotype, y_pred)\n",
    "    pval_phenotype = ttest_ind(\n",
    "        paroxysmal_lase, persistent_lase, equal_var=False, alternative=\"greater\"\n",
    "    ).pvalue  # type: ignore\n",
    "\n",
    "    # Substrate\n",
    "    y_true_substrate = results_df[\"Substrate\"].apply(\n",
    "        lambda x: 1 if x == \"Normal\" else 0\n",
    "    )\n",
    "    auc_substrate = roc_auc_score(y_true_substrate, y_pred)\n",
    "    pval_substrate = ttest_ind(\n",
    "        abnormal_lase, normal_lase, equal_var=False, alternative=\"less\"\n",
    "    ).pvalue  # type: ignore\n",
    "\n",
    "    # Rhythm\n",
    "    y_true_rhythm = results_df[\"Rhythm\"].apply(lambda x: 1 if x == \"SR\" else 0)\n",
    "    auc_rhythm = roc_auc_score(y_true_rhythm, y_pred)\n",
    "    pval_rhythm = ttest_ind(\n",
    "        SR_lase, AF_lase, equal_var=False, alternative=\"greater\"\n",
    "    ).pvalue  # type: ignore\n",
    "\n",
    "    metrics[\"Phenotype AUC\"] = round(auc_phenotype, 3)\n",
    "    metrics[\"Phenotype p-value\"] = round(pval_phenotype, 3)\n",
    "    metrics[\"Substrate AUC\"] = round(auc_substrate, 3)\n",
    "    metrics[\"Substrate p-value\"] = round(pval_substrate, 3)\n",
    "    metrics[\"Rhythm AUC\"] = round(auc_rhythm, 3)\n",
    "    metrics[\"Rhythm p-value\"] = round(pval_rhythm, 3)\n",
    "    return metrics\n",
    "\n",
    "\n",
    "experiment_metrics = []\n",
    "for exp_folder in os.listdir(results_dir):\n",
    "    results_file = os.path.join(results_dir, exp_folder, \"results.json\")\n",
    "    if not os.path.isfile(results_file):\n",
    "        continue\n",
    "    with open(results_file, \"r\") as f:\n",
    "        results_dict = json.load(f)\n",
    "    parameters = results_dict.get(\"parameters\", {})\n",
    "    results = results_dict.get(\"results\", [])\n",
    "    results_df = pd.DataFrame(results)\n",
    "    # Convert types and merge with patient info\n",
    "    results_df = results_df.astype({\"PatientID\": int, \"Entropy\": float, \"LASE\": float})\n",
    "    results_df = results_df.merge(patients_df, on=\"PatientID\", how=\"left\")\n",
    "    metrics = compute_metrics(results_df)\n",
    "    row = {**parameters, **metrics, \"experiment\": exp_folder}\n",
    "    experiment_metrics.append(row)\n",
    "\n",
    "metrics_df = pd.DataFrame(experiment_metrics)\n",
    "metrics_df.to_csv(os.path.join(results_dir, \"experiment_results.csv\"), index=False)\n",
    "\n",
    "metrics_df"
   ]
  }
 ],
 "metadata": {
  "kernelspec": {
   "display_name": "base",
   "language": "python",
   "name": "python3"
  },
  "language_info": {
   "codemirror_mode": {
    "name": "ipython",
    "version": 3
   },
   "file_extension": ".py",
   "mimetype": "text/x-python",
   "name": "python",
   "nbconvert_exporter": "python",
   "pygments_lexer": "ipython3",
   "version": "3.10.13"
  }
 },
 "nbformat": 4,
 "nbformat_minor": 5
}
