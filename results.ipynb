{
 "cells": [
  {
   "cell_type": "code",
   "execution_count": null,
   "id": "2dc95d09",
   "metadata": {},
   "outputs": [
    {
     "data": {
      "application/vnd.microsoft.datawrangler.viewer.v0+json": {
       "columns": [
        {
         "name": "index",
         "rawType": "int64",
         "type": "integer"
        },
        {
         "name": "Patient ID",
         "rawType": "int64",
         "type": "integer"
        },
        {
         "name": "Phenotype",
         "rawType": "object",
         "type": "string"
        }
       ],
       "conversionMethod": "pd.DataFrame",
       "ref": "1dbb44fd-5964-41c5-88f5-15682989c86e",
       "rows": [
        [
         "3",
         "9",
         "Persistent"
        ],
        [
         "4",
         "10",
         "Paroxysmal"
        ],
        [
         "5",
         "11",
         "Persistent"
        ],
        [
         "6",
         "12",
         "Persistent"
        ],
        [
         "7",
         "13",
         "Persistent"
        ],
        [
         "8",
         "14",
         "Paroxysmal"
        ],
        [
         "9",
         "15",
         "Paroxysmal"
        ],
        [
         "10",
         "16",
         "Persistent"
        ],
        [
         "11",
         "17",
         "Paroxysmal"
        ],
        [
         "12",
         "18",
         "Paroxysmal"
        ],
        [
         "13",
         "19",
         "Persistent"
        ],
        [
         "14",
         "20",
         "Paroxysmal"
        ],
        [
         "15",
         "21",
         "Paroxysmal"
        ],
        [
         "16",
         "22",
         "Persistent"
        ],
        [
         "17",
         "23",
         "Paroxysmal"
        ],
        [
         "18",
         "1",
         "Parossistica"
        ],
        [
         "19",
         "2",
         "Persistente"
        ],
        [
         "20",
         "3",
         "Parossistica"
        ],
        [
         "21",
         "4",
         "Parossistica"
        ],
        [
         "22",
         "5",
         "Parossistica"
        ],
        [
         "23",
         "6",
         "Parossistica"
        ],
        [
         "24",
         "7",
         "Persistente"
        ],
        [
         "26",
         "9",
         "Parossistica"
        ],
        [
         "27",
         "10",
         "Persistente"
        ],
        [
         "28",
         "11",
         "Parossistica"
        ],
        [
         "29",
         "12",
         "Parossistica"
        ],
        [
         "30",
         "13",
         "Persistente"
        ],
        [
         "31",
         "14",
         "Parossistica"
        ],
        [
         "32",
         "15",
         "Parossistica"
        ],
        [
         "33",
         "16",
         "Parossistica"
        ],
        [
         "34",
         "17",
         "Parossistica"
        ],
        [
         "35",
         "18",
         "Parossistica"
        ],
        [
         "36",
         "19",
         "Parossistica"
        ],
        [
         "37",
         "20",
         "Persistente"
        ],
        [
         "38",
         "21",
         "Parossistica"
        ],
        [
         "39",
         "22",
         "Parossistica"
        ],
        [
         "40",
         "23",
         "Parossistica"
        ],
        [
         "41",
         "24",
         "Persistente"
        ],
        [
         "42",
         "25",
         "Parossistica"
        ],
        [
         "43",
         "26",
         "Long standing persistent"
        ],
        [
         "44",
         "27",
         "Long standing persistent"
        ],
        [
         "45",
         "28",
         "Parossistica"
        ],
        [
         "46",
         "29",
         "Parossistica"
        ],
        [
         "47",
         "30",
         "Persistente"
        ],
        [
         "48",
         "31",
         "Parossistica"
        ],
        [
         "49",
         "32",
         "Long standing persistent"
        ],
        [
         "50",
         "33",
         "Parossistica"
        ],
        [
         "51",
         "34",
         "Parossistica"
        ],
        [
         "52",
         "35",
         "Parossistica"
        ],
        [
         "53",
         "36",
         "Persistente"
        ]
       ],
       "shape": {
        "columns": 2,
        "rows": 176
       }
      },
      "text/html": [
       "<div>\n",
       "<style scoped>\n",
       "    .dataframe tbody tr th:only-of-type {\n",
       "        vertical-align: middle;\n",
       "    }\n",
       "\n",
       "    .dataframe tbody tr th {\n",
       "        vertical-align: top;\n",
       "    }\n",
       "\n",
       "    .dataframe thead th {\n",
       "        text-align: right;\n",
       "    }\n",
       "</style>\n",
       "<table border=\"1\" class=\"dataframe\">\n",
       "  <thead>\n",
       "    <tr style=\"text-align: right;\">\n",
       "      <th></th>\n",
       "      <th>Patient ID</th>\n",
       "      <th>Phenotype</th>\n",
       "    </tr>\n",
       "  </thead>\n",
       "  <tbody>\n",
       "    <tr>\n",
       "      <th>3</th>\n",
       "      <td>9</td>\n",
       "      <td>Persistent</td>\n",
       "    </tr>\n",
       "    <tr>\n",
       "      <th>4</th>\n",
       "      <td>10</td>\n",
       "      <td>Paroxysmal</td>\n",
       "    </tr>\n",
       "    <tr>\n",
       "      <th>5</th>\n",
       "      <td>11</td>\n",
       "      <td>Persistent</td>\n",
       "    </tr>\n",
       "    <tr>\n",
       "      <th>6</th>\n",
       "      <td>12</td>\n",
       "      <td>Persistent</td>\n",
       "    </tr>\n",
       "    <tr>\n",
       "      <th>7</th>\n",
       "      <td>13</td>\n",
       "      <td>Persistent</td>\n",
       "    </tr>\n",
       "    <tr>\n",
       "      <th>...</th>\n",
       "      <td>...</td>\n",
       "      <td>...</td>\n",
       "    </tr>\n",
       "    <tr>\n",
       "      <th>235</th>\n",
       "      <td>218</td>\n",
       "      <td>Parossistica</td>\n",
       "    </tr>\n",
       "    <tr>\n",
       "      <th>236</th>\n",
       "      <td>219</td>\n",
       "      <td>Persistente</td>\n",
       "    </tr>\n",
       "    <tr>\n",
       "      <th>238</th>\n",
       "      <td>221</td>\n",
       "      <td>Persistente (FLA aty)</td>\n",
       "    </tr>\n",
       "    <tr>\n",
       "      <th>260</th>\n",
       "      <td>243</td>\n",
       "      <td>Parossistica</td>\n",
       "    </tr>\n",
       "    <tr>\n",
       "      <th>261</th>\n",
       "      <td>244</td>\n",
       "      <td>Persistente</td>\n",
       "    </tr>\n",
       "  </tbody>\n",
       "</table>\n",
       "<p>176 rows × 2 columns</p>\n",
       "</div>"
      ],
      "text/plain": [
       "     Patient ID              Phenotype\n",
       "3             9             Persistent\n",
       "4            10             Paroxysmal\n",
       "5            11             Persistent\n",
       "6            12             Persistent\n",
       "7            13             Persistent\n",
       "..          ...                    ...\n",
       "235         218           Parossistica\n",
       "236         219            Persistente\n",
       "238         221  Persistente (FLA aty)\n",
       "260         243           Parossistica\n",
       "261         244            Persistente\n",
       "\n",
       "[176 rows x 2 columns]"
      ]
     },
     "metadata": {},
     "output_type": "display_data"
    },
    {
     "data": {
      "application/vnd.microsoft.datawrangler.viewer.v0+json": {
       "columns": [
        {
         "name": "index",
         "rawType": "int64",
         "type": "integer"
        },
        {
         "name": "Patient ID",
         "rawType": "int64",
         "type": "integer"
        },
        {
         "name": "Entropy",
         "rawType": "int64",
         "type": "integer"
        },
        {
         "name": "LASE",
         "rawType": "float64",
         "type": "float"
        }
       ],
       "conversionMethod": "pd.DataFrame",
       "ref": "930f8d5f-eaf4-4df2-a9ba-4aa7ec3d24fe",
       "rows": [
        [
         "2",
         "100",
         "0",
         "1.16585715372959"
        ],
        [
         "3",
         "101",
         "0",
         "0.849187127067342"
        ],
        [
         "4",
         "102",
         "0",
         "1.06847050314989"
        ],
        [
         "5",
         "103",
         "0",
         "0.744710615785793"
        ],
        [
         "6",
         "104",
         "0",
         "0.995973036572693"
        ],
        [
         "7",
         "105",
         "0",
         "0.882299283630281"
        ],
        [
         "8",
         "106",
         "0",
         "0.94913285236607"
        ],
        [
         "9",
         "107",
         "0",
         "1.13874291717067"
        ],
        [
         "10",
         "110",
         "0",
         "0.838369858216513"
        ],
        [
         "11",
         "111",
         "0",
         "0.654534434199946"
        ],
        [
         "12",
         "112",
         "0",
         "0.822133931738616"
        ],
        [
         "13",
         "113",
         "0",
         "0.747397712108512"
        ],
        [
         "14",
         "115",
         "0",
         "1.06575936723738"
        ],
        [
         "15",
         "117",
         "0",
         "0.909194734823577"
        ],
        [
         "17",
         "1191",
         "0",
         "0.500157520985953"
        ],
        [
         "18",
         "1192",
         "0",
         "1.06575936723738"
        ],
        [
         "19",
         "120",
         "0",
         "0.817259193351309"
        ],
        [
         "20",
         "123",
         "0",
         "1.19276665217615"
        ],
        [
         "21",
         "124",
         "0",
         "1.0997411068304"
        ],
        [
         "22",
         "125",
         "0",
         "0.830831908301591"
        ],
        [
         "23",
         "126",
         "0",
         "0.79039121663718"
        ],
        [
         "24",
         "127",
         "0",
         "1.10780019706834"
        ],
        [
         "25",
         "128",
         "0",
         "0.835098510947224"
        ],
        [
         "26",
         "129",
         "0",
         "0.998813407519916"
        ],
        [
         "27",
         "131",
         "0",
         "0.854924881529325"
        ],
        [
         "28",
         "134",
         "0",
         "0.988663074114965"
        ],
        [
         "29",
         "135",
         "0",
         "1.0174256095159"
        ],
        [
         "30",
         "137",
         "0",
         "0.94885490544492"
        ],
        [
         "31",
         "138",
         "0",
         "1.0174256095159"
        ],
        [
         "32",
         "139",
         "0",
         "0.984641670871904"
        ],
        [
         "33",
         "140",
         "0",
         "0.948135854776626"
        ],
        [
         "34",
         "142",
         "0",
         "0.641814591450544"
        ],
        [
         "35",
         "143",
         "0",
         "0.381636305321268"
        ],
        [
         "36",
         "144",
         "0",
         "0.856596559498408"
        ],
        [
         "37",
         "145",
         "0",
         "1.02978490494757"
        ],
        [
         "38",
         "146",
         "0",
         "1.07088818050527"
        ],
        [
         "39",
         "147",
         "0",
         "0.888083352714877"
        ],
        [
         "40",
         "148",
         "0",
         "1.0282019019348"
        ],
        [
         "41",
         "149",
         "0",
         "1.0174256095159"
        ],
        [
         "42",
         "150",
         "0",
         "0.775818064983509"
        ],
        [
         "43",
         "151",
         "0",
         "0.901994747387406"
        ],
        [
         "44",
         "40",
         "0",
         "0.89728652637624"
        ],
        [
         "45",
         "41",
         "0",
         "0.888201389105292"
        ],
        [
         "46",
         "42",
         "0",
         "1.07654579568809"
        ],
        [
         "47",
         "43",
         "0",
         "1.15875218939155"
        ],
        [
         "48",
         "45",
         "0",
         "1.1096719403689"
        ],
        [
         "49",
         "46",
         "0",
         "1.09847821337031"
        ],
        [
         "50",
         "47",
         "0",
         "1.19982871942736"
        ],
        [
         "51",
         "48",
         "0",
         "1.23031504396328"
        ],
        [
         "52",
         "49",
         "0",
         "0.923728585904689"
        ]
       ],
       "shape": {
        "columns": 3,
        "rows": 96
       }
      },
      "text/html": [
       "<div>\n",
       "<style scoped>\n",
       "    .dataframe tbody tr th:only-of-type {\n",
       "        vertical-align: middle;\n",
       "    }\n",
       "\n",
       "    .dataframe tbody tr th {\n",
       "        vertical-align: top;\n",
       "    }\n",
       "\n",
       "    .dataframe thead th {\n",
       "        text-align: right;\n",
       "    }\n",
       "</style>\n",
       "<table border=\"1\" class=\"dataframe\">\n",
       "  <thead>\n",
       "    <tr style=\"text-align: right;\">\n",
       "      <th></th>\n",
       "      <th>Patient ID</th>\n",
       "      <th>Entropy</th>\n",
       "      <th>LASE</th>\n",
       "    </tr>\n",
       "  </thead>\n",
       "  <tbody>\n",
       "    <tr>\n",
       "      <th>2</th>\n",
       "      <td>100</td>\n",
       "      <td>0</td>\n",
       "      <td>1.165857</td>\n",
       "    </tr>\n",
       "    <tr>\n",
       "      <th>3</th>\n",
       "      <td>101</td>\n",
       "      <td>0</td>\n",
       "      <td>0.849187</td>\n",
       "    </tr>\n",
       "    <tr>\n",
       "      <th>4</th>\n",
       "      <td>102</td>\n",
       "      <td>0</td>\n",
       "      <td>1.068471</td>\n",
       "    </tr>\n",
       "    <tr>\n",
       "      <th>5</th>\n",
       "      <td>103</td>\n",
       "      <td>0</td>\n",
       "      <td>0.744711</td>\n",
       "    </tr>\n",
       "    <tr>\n",
       "      <th>6</th>\n",
       "      <td>104</td>\n",
       "      <td>0</td>\n",
       "      <td>0.995973</td>\n",
       "    </tr>\n",
       "    <tr>\n",
       "      <th>...</th>\n",
       "      <td>...</td>\n",
       "      <td>...</td>\n",
       "      <td>...</td>\n",
       "    </tr>\n",
       "    <tr>\n",
       "      <th>94</th>\n",
       "      <td>94</td>\n",
       "      <td>0</td>\n",
       "      <td>0.881222</td>\n",
       "    </tr>\n",
       "    <tr>\n",
       "      <th>95</th>\n",
       "      <td>95</td>\n",
       "      <td>0</td>\n",
       "      <td>1.195399</td>\n",
       "    </tr>\n",
       "    <tr>\n",
       "      <th>96</th>\n",
       "      <td>96</td>\n",
       "      <td>0</td>\n",
       "      <td>1.074315</td>\n",
       "    </tr>\n",
       "    <tr>\n",
       "      <th>97</th>\n",
       "      <td>97</td>\n",
       "      <td>0</td>\n",
       "      <td>1.019213</td>\n",
       "    </tr>\n",
       "    <tr>\n",
       "      <th>98</th>\n",
       "      <td>98</td>\n",
       "      <td>0</td>\n",
       "      <td>1.023005</td>\n",
       "    </tr>\n",
       "  </tbody>\n",
       "</table>\n",
       "<p>96 rows × 3 columns</p>\n",
       "</div>"
      ],
      "text/plain": [
       "    Patient ID  Entropy      LASE\n",
       "2          100        0  1.165857\n",
       "3          101        0  0.849187\n",
       "4          102        0  1.068471\n",
       "5          103        0  0.744711\n",
       "6          104        0  0.995973\n",
       "..         ...      ...       ...\n",
       "94          94        0  0.881222\n",
       "95          95        0  1.195399\n",
       "96          96        0  1.074315\n",
       "97          97        0  1.019213\n",
       "98          98        0  1.023005\n",
       "\n",
       "[96 rows x 3 columns]"
      ]
     },
     "execution_count": 39,
     "metadata": {},
     "output_type": "execute_result"
    }
   ],
   "source": [
    "import pandas as pd\n",
    "\n",
    "ods = (\n",
    "    pd.read_excel(\n",
    "        \"DB AF Completo 1.ods\",\n",
    "    )\n",
    "    .loc[:, [\"ID\", \"Phenotype\"]]\n",
    "    .rename(columns={\"ID\": \"Patient ID\"})\n",
    "    .dropna(axis=0, how=\"any\")\n",
    "    .astype({\"Patient ID\": int})\n",
    ")\n",
    "csv = (\n",
    "    pd.read_csv(\"lase.csv\", sep=\",\")\n",
    "    .dropna(axis=0, how=\"any\")\n",
    "    .astype({\"Patient ID\": int})\n",
    ")\n",
    "display(ods)\n",
    "csv"
   ]
  },
  {
   "cell_type": "code",
   "execution_count": 42,
   "id": "95341273",
   "metadata": {},
   "outputs": [
    {
     "data": {
      "application/vnd.microsoft.datawrangler.viewer.v0+json": {
       "columns": [
        {
         "name": "index",
         "rawType": "int64",
         "type": "integer"
        },
        {
         "name": "Patient ID",
         "rawType": "int64",
         "type": "integer"
        },
        {
         "name": "Phenotype",
         "rawType": "object",
         "type": "string"
        },
        {
         "name": "Entropy",
         "rawType": "int64",
         "type": "integer"
        },
        {
         "name": "LASE",
         "rawType": "float64",
         "type": "float"
        }
       ],
       "conversionMethod": "pd.DataFrame",
       "ref": "eca5bb59-8c1e-42dd-9b2d-7f5279150b9c",
       "rows": [
        [
         "0",
         "40",
         "Parossistica",
         "0",
         "0.89728652637624"
        ],
        [
         "1",
         "41",
         "Parossistica",
         "0",
         "0.888201389105292"
        ],
        [
         "2",
         "42",
         "Parossistica",
         "0",
         "1.07654579568809"
        ],
        [
         "3",
         "43",
         "Persistente",
         "0",
         "1.15875218939155"
        ],
        [
         "4",
         "45",
         "Persistente",
         "0",
         "1.1096719403689"
        ],
        [
         "5",
         "46",
         "Parossistica",
         "0",
         "1.09847821337031"
        ],
        [
         "6",
         "47",
         "Persistente",
         "0",
         "1.19982871942736"
        ],
        [
         "7",
         "48",
         "Persistente",
         "0",
         "1.23031504396328"
        ],
        [
         "8",
         "49",
         "Persistente",
         "0",
         "0.923728585904689"
        ],
        [
         "9",
         "50",
         "Parossistica",
         "0",
         "0.83938596605096"
        ],
        [
         "10",
         "51",
         "Persistente",
         "0",
         "1.16710674136782"
        ],
        [
         "11",
         "52",
         "Persistente",
         "0",
         "1.1981791564788"
        ],
        [
         "12",
         "53",
         "Persistente",
         "0",
         "1.21418295453087"
        ],
        [
         "13",
         "55",
         "Persistente",
         "0",
         "1.03853041264614"
        ],
        [
         "14",
         "56",
         "Parossistica",
         "0",
         "0.882299283630281"
        ],
        [
         "15",
         "57",
         "Parossistica",
         "0",
         "0.882299283630281"
        ],
        [
         "16",
         "58",
         "Parossistica",
         "0",
         "1.0174256095159"
        ],
        [
         "17",
         "59",
         "Persistente",
         "0",
         "1.0174256095159"
        ],
        [
         "18",
         "60",
         "Parossistica",
         "0",
         "1.0174256095159"
        ],
        [
         "19",
         "61",
         "Persistente",
         "0",
         "0.431067304180487"
        ],
        [
         "20",
         "62",
         "Persistente",
         "0",
         "0.869058839815518"
        ],
        [
         "21",
         "63",
         "Parossistica",
         "0",
         "0.919026849330576"
        ],
        [
         "22",
         "64",
         "Parossistica",
         "0",
         "0.890495716440274"
        ],
        [
         "23",
         "65",
         "Parossistica",
         "0",
         "0.851494029067313"
        ],
        [
         "24",
         "66",
         "Persistente",
         "0",
         "1.1639754812421"
        ],
        [
         "25",
         "68",
         "Parossistica",
         "0",
         "0.933235494645055"
        ],
        [
         "26",
         "70",
         "Parossistica",
         "0",
         "1.15995784413578"
        ],
        [
         "27",
         "71",
         "Parossistica",
         "0",
         "1.03034750887956"
        ],
        [
         "28",
         "72",
         "Persistente",
         "0",
         "1.19891317662881"
        ],
        [
         "29",
         "73",
         "Parossistica",
         "0",
         "1.11241922372962"
        ],
        [
         "30",
         "74",
         "Parossistica",
         "0",
         "0.983262091066746"
        ],
        [
         "31",
         "75",
         "Parossistica",
         "0",
         "1.17371468036534"
        ],
        [
         "32",
         "76",
         "Persistente",
         "0",
         "0.937074028434735"
        ],
        [
         "33",
         "77",
         "Persistente",
         "0",
         "1.2134453526993"
        ],
        [
         "34",
         "78",
         "Persistente",
         "0",
         "1.15693447350882"
        ],
        [
         "35",
         "79",
         "Parossistica",
         "0",
         "0.889933209454967"
        ],
        [
         "36",
         "80",
         "Parossistica",
         "0",
         "0.575049102758615"
        ],
        [
         "37",
         "81",
         "Persistente",
         "0",
         "1.13688228965096"
        ],
        [
         "38",
         "82",
         "Parossistica",
         "0",
         "0.746543515001741"
        ],
        [
         "39",
         "83",
         "Parossistica",
         "0",
         "0.824375932144568"
        ],
        [
         "40",
         "84",
         "Parossistica",
         "0",
         "1.02828763964195"
        ],
        [
         "41",
         "85",
         "Parossistica",
         "0",
         "0.866896814307967"
        ],
        [
         "42",
         "86",
         "Persistente",
         "0",
         "1.09976457589119"
        ],
        [
         "43",
         "87",
         "Parossistica",
         "0",
         "0.818966056595933"
        ],
        [
         "44",
         "88",
         "Parossistica",
         "0",
         "1.00923059209692"
        ],
        [
         "45",
         "89",
         "Parossistica",
         "0",
         "0.955383286496369"
        ],
        [
         "46",
         "90",
         "Parossistica",
         "0",
         "0.641295210607488"
        ],
        [
         "47",
         "91",
         "Parossistica",
         "0",
         "1.22961189857109"
        ],
        [
         "48",
         "92",
         "Parossistica",
         "0",
         "0.809475624610953"
        ],
        [
         "49",
         "93",
         "Persistente",
         "0",
         "1.03639664376338"
        ]
       ],
       "shape": {
        "columns": 4,
        "rows": 93
       }
      },
      "text/html": [
       "<div>\n",
       "<style scoped>\n",
       "    .dataframe tbody tr th:only-of-type {\n",
       "        vertical-align: middle;\n",
       "    }\n",
       "\n",
       "    .dataframe tbody tr th {\n",
       "        vertical-align: top;\n",
       "    }\n",
       "\n",
       "    .dataframe thead th {\n",
       "        text-align: right;\n",
       "    }\n",
       "</style>\n",
       "<table border=\"1\" class=\"dataframe\">\n",
       "  <thead>\n",
       "    <tr style=\"text-align: right;\">\n",
       "      <th></th>\n",
       "      <th>Patient ID</th>\n",
       "      <th>Phenotype</th>\n",
       "      <th>Entropy</th>\n",
       "      <th>LASE</th>\n",
       "    </tr>\n",
       "  </thead>\n",
       "  <tbody>\n",
       "    <tr>\n",
       "      <th>0</th>\n",
       "      <td>40</td>\n",
       "      <td>Parossistica</td>\n",
       "      <td>0</td>\n",
       "      <td>0.897287</td>\n",
       "    </tr>\n",
       "    <tr>\n",
       "      <th>1</th>\n",
       "      <td>41</td>\n",
       "      <td>Parossistica</td>\n",
       "      <td>0</td>\n",
       "      <td>0.888201</td>\n",
       "    </tr>\n",
       "    <tr>\n",
       "      <th>2</th>\n",
       "      <td>42</td>\n",
       "      <td>Parossistica</td>\n",
       "      <td>0</td>\n",
       "      <td>1.076546</td>\n",
       "    </tr>\n",
       "    <tr>\n",
       "      <th>3</th>\n",
       "      <td>43</td>\n",
       "      <td>Persistente</td>\n",
       "      <td>0</td>\n",
       "      <td>1.158752</td>\n",
       "    </tr>\n",
       "    <tr>\n",
       "      <th>4</th>\n",
       "      <td>45</td>\n",
       "      <td>Persistente</td>\n",
       "      <td>0</td>\n",
       "      <td>1.109672</td>\n",
       "    </tr>\n",
       "    <tr>\n",
       "      <th>...</th>\n",
       "      <td>...</td>\n",
       "      <td>...</td>\n",
       "      <td>...</td>\n",
       "      <td>...</td>\n",
       "    </tr>\n",
       "    <tr>\n",
       "      <th>88</th>\n",
       "      <td>147</td>\n",
       "      <td>Parossistica</td>\n",
       "      <td>0</td>\n",
       "      <td>0.888083</td>\n",
       "    </tr>\n",
       "    <tr>\n",
       "      <th>89</th>\n",
       "      <td>148</td>\n",
       "      <td>Parossistica</td>\n",
       "      <td>0</td>\n",
       "      <td>1.028202</td>\n",
       "    </tr>\n",
       "    <tr>\n",
       "      <th>90</th>\n",
       "      <td>149</td>\n",
       "      <td>Parossistica</td>\n",
       "      <td>0</td>\n",
       "      <td>1.017426</td>\n",
       "    </tr>\n",
       "    <tr>\n",
       "      <th>91</th>\n",
       "      <td>150</td>\n",
       "      <td>Parossistica</td>\n",
       "      <td>0</td>\n",
       "      <td>0.775818</td>\n",
       "    </tr>\n",
       "    <tr>\n",
       "      <th>92</th>\n",
       "      <td>151</td>\n",
       "      <td>Parossistica</td>\n",
       "      <td>0</td>\n",
       "      <td>0.901995</td>\n",
       "    </tr>\n",
       "  </tbody>\n",
       "</table>\n",
       "<p>93 rows × 4 columns</p>\n",
       "</div>"
      ],
      "text/plain": [
       "    Patient ID     Phenotype  Entropy      LASE\n",
       "0           40  Parossistica        0  0.897287\n",
       "1           41  Parossistica        0  0.888201\n",
       "2           42  Parossistica        0  1.076546\n",
       "3           43   Persistente        0  1.158752\n",
       "4           45   Persistente        0  1.109672\n",
       "..         ...           ...      ...       ...\n",
       "88         147  Parossistica        0  0.888083\n",
       "89         148  Parossistica        0  1.028202\n",
       "90         149  Parossistica        0  1.017426\n",
       "91         150  Parossistica        0  0.775818\n",
       "92         151  Parossistica        0  0.901995\n",
       "\n",
       "[93 rows x 4 columns]"
      ]
     },
     "execution_count": 42,
     "metadata": {},
     "output_type": "execute_result"
    }
   ],
   "source": [
    "# Join the two dataframes on the \"ID\" column\n",
    "merged_df = pd.merge(\n",
    "    ods.loc[:, [\"Patient ID\", \"Phenotype\"]], csv, on=\"Patient ID\", how=\"inner\"\n",
    ")\n",
    "\n",
    "phenotype_mapping = {\n",
    "    \"Long standing persistent\": \"Persistente\",\n",
    "    \"Persistente\": \"Persistente\",\n",
    "    \"Parossistica\": \"Parossistica\",\n",
    "    \"Parossistico\": \"Parossistica\",\n",
    "}\n",
    "merged_df[\"Phenotype\"] = merged_df[\"Phenotype\"].map(phenotype_mapping)\n",
    "\n",
    "merged_df"
   ]
  },
  {
   "cell_type": "code",
   "execution_count": 45,
   "id": "2137bb44",
   "metadata": {},
   "outputs": [
    {
     "data": {
      "image/png": "[encoded data removed]",
      "text/plain": [
       "<Figure size 1000x600 with 1 Axes>"
      ]
     },
     "metadata": {},
     "output_type": "display_data"
    }
   ],
   "source": [
    "import matplotlib.pyplot as plt\n",
    "\n",
    "plt.figure(figsize=(10, 6))\n",
    "plt.boxplot(\n",
    "    [\n",
    "        merged_df[merged_df[\"Phenotype\"] == \"Persistente\"][\"LASE\"],\n",
    "        merged_df[merged_df[\"Phenotype\"] == \"Parossistica\"][\"LASE\"],\n",
    "    ],\n",
    "    tick_labels=[\"Persistente\", \"Parossistica\"],\n",
    ")\n",
    "plt.title(\"Boxplot of LASE by Phenotype\")\n",
    "plt.ylabel(\"LASE\")\n",
    "plt.xlabel(\"Phenotype\")\n",
    "plt.grid()\n",
    "plt.show()"
   ]
  }
 ],
 "metadata": {
  "kernelspec": {
   "display_name": "base",
   "language": "python",
   "name": "python3"
  },
  "language_info": {
   "codemirror_mode": {
    "name": "ipython",
    "version": 3
   },
   "file_extension": ".py",
   "mimetype": "text/x-python",
   "name": "python",
   "nbconvert_exporter": "python",
   "pygments_lexer": "ipython3",
   "version": "3.10.13"
  }
 },
 "nbformat": 4,
 "nbformat_minor": 5
}
