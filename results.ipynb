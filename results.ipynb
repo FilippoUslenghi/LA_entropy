{
 "cells": [
  {
   "cell_type": "code",
   "execution_count": 13,
   "id": "2dc95d09",
   "metadata": {},
   "outputs": [
    {
     "data": {
      "application/vnd.microsoft.datawrangler.viewer.v0+json": {
       "columns": [
        {
         "name": "index",
         "rawType": "int64",
         "type": "integer"
        },
        {
         "name": "Patient ID",
         "rawType": "int64",
         "type": "integer"
        },
        {
         "name": "Phenotype",
         "rawType": "object",
         "type": "string"
        },
        {
         "name": "Substrate",
         "rawType": "object",
         "type": "string"
        }
       ],
       "conversionMethod": "pd.DataFrame",
       "ref": "d4e4bf9a-6e06-4743-90dc-61ed190312ad",
       "rows": [
        [
         "3",
         "9",
         "Persistent",
         "Abnormal"
        ],
        [
         "4",
         "10",
         "Paroxysmal",
         "Normal"
        ],
        [
         "5",
         "11",
         "Persistent",
         "Normal"
        ],
        [
         "6",
         "12",
         "Persistent",
         "Abnormal"
        ],
        [
         "7",
         "13",
         "Persistent",
         "Abnormal"
        ],
        [
         "8",
         "14",
         "Paroxysmal",
         "Normal"
        ],
        [
         "9",
         "15",
         "Paroxysmal",
         "Normal"
        ],
        [
         "10",
         "16",
         "Persistent",
         "Abnormal"
        ],
        [
         "11",
         "17",
         "Paroxysmal",
         "Normal"
        ],
        [
         "12",
         "18",
         "Paroxysmal",
         "Normal"
        ],
        [
         "13",
         "19",
         "Persistent",
         "Normal"
        ],
        [
         "14",
         "20",
         "Paroxysmal",
         "Normal"
        ],
        [
         "15",
         "21",
         "Paroxysmal",
         "Normal"
        ],
        [
         "16",
         "22",
         "Persistent",
         "Abnormal"
        ],
        [
         "17",
         "23",
         "Paroxysmal",
         "Normal"
        ],
        [
         "20",
         "3",
         "Parossistica",
         "Normale"
        ],
        [
         "21",
         "4",
         "Parossistica",
         "Normale"
        ],
        [
         "22",
         "5",
         "Parossistica",
         "Normale"
        ],
        [
         "23",
         "6",
         "Parossistica",
         "Patologia posteriore + altri"
        ],
        [
         "24",
         "7",
         "Persistente",
         "Patologia parete posteriore"
        ],
        [
         "26",
         "9",
         "Parossistica",
         "Normale"
        ],
        [
         "27",
         "10",
         "Persistente",
         "Normale"
        ],
        [
         "28",
         "11",
         "Parossistica",
         "Patologia altri distretti"
        ],
        [
         "29",
         "12",
         "Parossistica",
         "Normale"
        ],
        [
         "30",
         "13",
         "Persistente",
         "Patologia altri distretti"
        ],
        [
         "31",
         "14",
         "Parossistica",
         "Normale"
        ],
        [
         "32",
         "15",
         "Parossistica",
         "Normale"
        ],
        [
         "35",
         "18",
         "Parossistica",
         "Normale"
        ],
        [
         "38",
         "21",
         "Parossistica",
         "Normale"
        ],
        [
         "39",
         "22",
         "Parossistica",
         "Normale"
        ],
        [
         "40",
         "23",
         "Parossistica",
         "Normale"
        ],
        [
         "41",
         "24",
         "Persistente",
         "Patologia altri distretti"
        ],
        [
         "42",
         "25",
         "Parossistica",
         "Normale"
        ],
        [
         "43",
         "26",
         "Long standing persistent",
         "Patologia posteriore + altri"
        ],
        [
         "44",
         "27",
         "Long standing persistent",
         "Normale"
        ],
        [
         "45",
         "28",
         "Parossistica",
         "Normale"
        ],
        [
         "46",
         "29",
         "Parossistica",
         "Normale"
        ],
        [
         "47",
         "30",
         "Persistente",
         "Patologia parete posteriore"
        ],
        [
         "48",
         "31",
         "Parossistica",
         "Normale"
        ],
        [
         "50",
         "33",
         "Parossistica",
         "Normale"
        ],
        [
         "51",
         "34",
         "Parossistica",
         "Normale"
        ],
        [
         "52",
         "35",
         "Parossistica",
         "Normale"
        ],
        [
         "53",
         "36",
         "Persistente",
         "Patologia posteriore + altri"
        ],
        [
         "55",
         "38",
         "Persistente",
         "Normale"
        ],
        [
         "56",
         "39",
         "Parossistica",
         "Normale"
        ],
        [
         "57",
         "40",
         "Parossistica",
         "Patologia altri distretti"
        ],
        [
         "58",
         "41",
         "Parossistica",
         "Normale"
        ],
        [
         "59",
         "42",
         "Parossistica",
         "Normale"
        ],
        [
         "60",
         "43",
         "Persistente",
         "Patologia parete posteriore"
        ],
        [
         "61",
         "44",
         "Parossistica",
         "Normale"
        ]
       ],
       "shape": {
        "columns": 3,
        "rows": 161
       }
      },
      "text/html": [
       "<div>\n",
       "<style scoped>\n",
       "    .dataframe tbody tr th:only-of-type {\n",
       "        vertical-align: middle;\n",
       "    }\n",
       "\n",
       "    .dataframe tbody tr th {\n",
       "        vertical-align: top;\n",
       "    }\n",
       "\n",
       "    .dataframe thead th {\n",
       "        text-align: right;\n",
       "    }\n",
       "</style>\n",
       "<table border=\"1\" class=\"dataframe\">\n",
       "  <thead>\n",
       "    <tr style=\"text-align: right;\">\n",
       "      <th></th>\n",
       "      <th>Patient ID</th>\n",
       "      <th>Phenotype</th>\n",
       "      <th>Substrate</th>\n",
       "    </tr>\n",
       "  </thead>\n",
       "  <tbody>\n",
       "    <tr>\n",
       "      <th>3</th>\n",
       "      <td>9</td>\n",
       "      <td>Persistent</td>\n",
       "      <td>Abnormal</td>\n",
       "    </tr>\n",
       "    <tr>\n",
       "      <th>4</th>\n",
       "      <td>10</td>\n",
       "      <td>Paroxysmal</td>\n",
       "      <td>Normal</td>\n",
       "    </tr>\n",
       "    <tr>\n",
       "      <th>5</th>\n",
       "      <td>11</td>\n",
       "      <td>Persistent</td>\n",
       "      <td>Normal</td>\n",
       "    </tr>\n",
       "    <tr>\n",
       "      <th>6</th>\n",
       "      <td>12</td>\n",
       "      <td>Persistent</td>\n",
       "      <td>Abnormal</td>\n",
       "    </tr>\n",
       "    <tr>\n",
       "      <th>7</th>\n",
       "      <td>13</td>\n",
       "      <td>Persistent</td>\n",
       "      <td>Abnormal</td>\n",
       "    </tr>\n",
       "    <tr>\n",
       "      <th>...</th>\n",
       "      <td>...</td>\n",
       "      <td>...</td>\n",
       "      <td>...</td>\n",
       "    </tr>\n",
       "    <tr>\n",
       "      <th>177</th>\n",
       "      <td>160</td>\n",
       "      <td>Parossistica</td>\n",
       "      <td>Normale</td>\n",
       "    </tr>\n",
       "    <tr>\n",
       "      <th>178</th>\n",
       "      <td>161</td>\n",
       "      <td>Parossistica</td>\n",
       "      <td>Normale</td>\n",
       "    </tr>\n",
       "    <tr>\n",
       "      <th>179</th>\n",
       "      <td>162</td>\n",
       "      <td>Parossistica</td>\n",
       "      <td>Normale</td>\n",
       "    </tr>\n",
       "    <tr>\n",
       "      <th>232</th>\n",
       "      <td>215</td>\n",
       "      <td>Parossistica</td>\n",
       "      <td>Normale</td>\n",
       "    </tr>\n",
       "    <tr>\n",
       "      <th>236</th>\n",
       "      <td>219</td>\n",
       "      <td>Persistente</td>\n",
       "      <td>Patologia altri distretti</td>\n",
       "    </tr>\n",
       "  </tbody>\n",
       "</table>\n",
       "<p>161 rows × 3 columns</p>\n",
       "</div>"
      ],
      "text/plain": [
       "     Patient ID     Phenotype                  Substrate\n",
       "3             9    Persistent                   Abnormal\n",
       "4            10    Paroxysmal                     Normal\n",
       "5            11    Persistent                     Normal\n",
       "6            12    Persistent                   Abnormal\n",
       "7            13    Persistent                   Abnormal\n",
       "..          ...           ...                        ...\n",
       "177         160  Parossistica                    Normale\n",
       "178         161  Parossistica                    Normale\n",
       "179         162  Parossistica                    Normale\n",
       "232         215  Parossistica                    Normale\n",
       "236         219   Persistente  Patologia altri distretti\n",
       "\n",
       "[161 rows x 3 columns]"
      ]
     },
     "metadata": {},
     "output_type": "display_data"
    },
    {
     "data": {
      "application/vnd.microsoft.datawrangler.viewer.v0+json": {
       "columns": [
        {
         "name": "index",
         "rawType": "int64",
         "type": "integer"
        },
        {
         "name": "Patient ID",
         "rawType": "int64",
         "type": "integer"
        },
        {
         "name": "Entropy",
         "rawType": "int64",
         "type": "integer"
        },
        {
         "name": "LASE",
         "rawType": "float64",
         "type": "float"
        }
       ],
       "conversionMethod": "pd.DataFrame",
       "ref": "90315f5c-9a16-4db6-9261-6ea174512461",
       "rows": [
        [
         "2",
         "100",
         "0",
         "2.35445095908001"
        ],
        [
         "3",
         "101",
         "0",
         "1.50480913984444"
        ],
        [
         "4",
         "102",
         "0",
         "1.35547451679305"
        ],
        [
         "5",
         "103",
         "0",
         "1.96586975287183"
        ],
        [
         "6",
         "104",
         "0",
         "2.10648217292257"
        ],
        [
         "7",
         "105",
         "0",
         "2.44593878365906"
        ],
        [
         "8",
         "106",
         "0",
         "1.11270841712608"
        ],
        [
         "9",
         "107",
         "0",
         "1.59740401212278"
        ],
        [
         "10",
         "110",
         "0",
         "2.29855072198343"
        ],
        [
         "11",
         "111",
         "0",
         "2.29016982704379"
        ],
        [
         "12",
         "112",
         "0",
         "2.38430397952435"
        ],
        [
         "13",
         "113",
         "0",
         "2.12152224921901"
        ],
        [
         "14",
         "115",
         "0",
         "1.18003822531977"
        ],
        [
         "15",
         "117",
         "0",
         "0.960899412093644"
        ],
        [
         "17",
         "1191",
         "0",
         "0.781509196249458"
        ],
        [
         "18",
         "1192",
         "0",
         "1.18003822531977"
        ],
        [
         "19",
         "120",
         "0",
         "0.998205334641778"
        ],
        [
         "20",
         "123",
         "0",
         "1.5552924815987"
        ],
        [
         "21",
         "124",
         "0",
         "1.67071805875099"
        ],
        [
         "22",
         "125",
         "0",
         "2.21032769596172"
        ],
        [
         "23",
         "126",
         "0",
         "1.81239785979693"
        ],
        [
         "24",
         "127",
         "0",
         "1.22025986032549"
        ],
        [
         "25",
         "128",
         "0",
         "0.860536500798709"
        ],
        [
         "26",
         "129",
         "0",
         "1.51400690749303"
        ],
        [
         "27",
         "131",
         "0",
         "1.00075930330293"
        ],
        [
         "28",
         "134",
         "0",
         "2.30308968888439"
        ],
        [
         "29",
         "135",
         "0",
         "1.30001990701356"
        ],
        [
         "30",
         "137",
         "0",
         "2.2784457459114"
        ],
        [
         "31",
         "138",
         "0",
         "1.30001990701356"
        ],
        [
         "32",
         "139",
         "0",
         "1.96102673575511"
        ],
        [
         "33",
         "140",
         "0",
         "2.38817072893261"
        ],
        [
         "34",
         "142",
         "0",
         "2.18936615510255"
        ],
        [
         "35",
         "143",
         "0",
         "1.19729291561544"
        ],
        [
         "36",
         "144",
         "0",
         "2.01558292372174"
        ],
        [
         "37",
         "145",
         "0",
         "1.65558400943372"
        ],
        [
         "38",
         "146",
         "0",
         "1.1464380476352"
        ],
        [
         "39",
         "147",
         "0",
         "1.94293789313669"
        ],
        [
         "40",
         "148",
         "0",
         "1.84290359819051"
        ],
        [
         "41",
         "149",
         "0",
         "1.30001990701356"
        ],
        [
         "42",
         "150",
         "0",
         "2.29407159019808"
        ],
        [
         "43",
         "151",
         "0",
         "2.24321269214418"
        ],
        [
         "44",
         "40",
         "0",
         "1.94606960245394"
        ],
        [
         "45",
         "41",
         "0",
         "2.15764610042418"
        ],
        [
         "46",
         "42",
         "0",
         "1.42225914474852"
        ],
        [
         "47",
         "43",
         "0",
         "1.3505024173587"
        ],
        [
         "48",
         "45",
         "0",
         "1.6685877321564"
        ],
        [
         "49",
         "46",
         "0",
         "2.03953298001425"
        ],
        [
         "50",
         "47",
         "0",
         "1.71569798735216"
        ],
        [
         "51",
         "48",
         "0",
         "1.50175144707152"
        ],
        [
         "52",
         "49",
         "0",
         "1.73021789148459"
        ]
       ],
       "shape": {
        "columns": 3,
        "rows": 96
       }
      },
      "text/html": [
       "<div>\n",
       "<style scoped>\n",
       "    .dataframe tbody tr th:only-of-type {\n",
       "        vertical-align: middle;\n",
       "    }\n",
       "\n",
       "    .dataframe tbody tr th {\n",
       "        vertical-align: top;\n",
       "    }\n",
       "\n",
       "    .dataframe thead th {\n",
       "        text-align: right;\n",
       "    }\n",
       "</style>\n",
       "<table border=\"1\" class=\"dataframe\">\n",
       "  <thead>\n",
       "    <tr style=\"text-align: right;\">\n",
       "      <th></th>\n",
       "      <th>Patient ID</th>\n",
       "      <th>Entropy</th>\n",
       "      <th>LASE</th>\n",
       "    </tr>\n",
       "  </thead>\n",
       "  <tbody>\n",
       "    <tr>\n",
       "      <th>2</th>\n",
       "      <td>100</td>\n",
       "      <td>0</td>\n",
       "      <td>2.354451</td>\n",
       "    </tr>\n",
       "    <tr>\n",
       "      <th>3</th>\n",
       "      <td>101</td>\n",
       "      <td>0</td>\n",
       "      <td>1.504809</td>\n",
       "    </tr>\n",
       "    <tr>\n",
       "      <th>4</th>\n",
       "      <td>102</td>\n",
       "      <td>0</td>\n",
       "      <td>1.355475</td>\n",
       "    </tr>\n",
       "    <tr>\n",
       "      <th>5</th>\n",
       "      <td>103</td>\n",
       "      <td>0</td>\n",
       "      <td>1.965870</td>\n",
       "    </tr>\n",
       "    <tr>\n",
       "      <th>6</th>\n",
       "      <td>104</td>\n",
       "      <td>0</td>\n",
       "      <td>2.106482</td>\n",
       "    </tr>\n",
       "    <tr>\n",
       "      <th>...</th>\n",
       "      <td>...</td>\n",
       "      <td>...</td>\n",
       "      <td>...</td>\n",
       "    </tr>\n",
       "    <tr>\n",
       "      <th>94</th>\n",
       "      <td>94</td>\n",
       "      <td>0</td>\n",
       "      <td>2.089640</td>\n",
       "    </tr>\n",
       "    <tr>\n",
       "      <th>95</th>\n",
       "      <td>95</td>\n",
       "      <td>0</td>\n",
       "      <td>1.483407</td>\n",
       "    </tr>\n",
       "    <tr>\n",
       "      <th>96</th>\n",
       "      <td>96</td>\n",
       "      <td>0</td>\n",
       "      <td>2.106952</td>\n",
       "    </tr>\n",
       "    <tr>\n",
       "      <th>97</th>\n",
       "      <td>97</td>\n",
       "      <td>0</td>\n",
       "      <td>1.955019</td>\n",
       "    </tr>\n",
       "    <tr>\n",
       "      <th>98</th>\n",
       "      <td>98</td>\n",
       "      <td>0</td>\n",
       "      <td>1.104600</td>\n",
       "    </tr>\n",
       "  </tbody>\n",
       "</table>\n",
       "<p>96 rows × 3 columns</p>\n",
       "</div>"
      ],
      "text/plain": [
       "    Patient ID  Entropy      LASE\n",
       "2          100        0  2.354451\n",
       "3          101        0  1.504809\n",
       "4          102        0  1.355475\n",
       "5          103        0  1.965870\n",
       "6          104        0  2.106482\n",
       "..         ...      ...       ...\n",
       "94          94        0  2.089640\n",
       "95          95        0  1.483407\n",
       "96          96        0  2.106952\n",
       "97          97        0  1.955019\n",
       "98          98        0  1.104600\n",
       "\n",
       "[96 rows x 3 columns]"
      ]
     },
     "execution_count": 13,
     "metadata": {},
     "output_type": "execute_result"
    }
   ],
   "source": [
    "import pandas as pd\n",
    "\n",
    "ods = (\n",
    "    pd.read_excel(\n",
    "        \"DB AF Completo 1.ods\",\n",
    "    )\n",
    "    .loc[:, [\"ID\", \"Phenotype\", \"Low Voltage / Scar area\"]]\n",
    "    .rename(columns={\"ID\": \"Patient ID\", \"Low Voltage / Scar area\": \"Substrate\"})\n",
    "    .dropna(axis=0, how=\"any\")\n",
    "    .astype({\"Patient ID\": int})\n",
    ")\n",
    "csv = (\n",
    "    pd.read_csv(\"lase.csv\", sep=\",\")\n",
    "    .dropna(axis=0, how=\"any\")\n",
    "    .astype({\"Patient ID\": int})\n",
    ")\n",
    "display(ods)\n",
    "csv"
   ]
  },
  {
   "cell_type": "code",
   "execution_count": 18,
   "id": "95341273",
   "metadata": {},
   "outputs": [
    {
     "data": {
      "application/vnd.microsoft.datawrangler.viewer.v0+json": {
       "columns": [
        {
         "name": "index",
         "rawType": "int64",
         "type": "integer"
        },
        {
         "name": "Patient ID",
         "rawType": "int64",
         "type": "integer"
        },
        {
         "name": "Phenotype",
         "rawType": "object",
         "type": "string"
        },
        {
         "name": "Substrate",
         "rawType": "object",
         "type": "string"
        },
        {
         "name": "Entropy",
         "rawType": "int64",
         "type": "integer"
        },
        {
         "name": "LASE",
         "rawType": "float64",
         "type": "float"
        }
       ],
       "conversionMethod": "pd.DataFrame",
       "ref": "d6509b6b-f032-45eb-9c7e-375cb8584b3a",
       "rows": [
        [
         "0",
         "40",
         "Parossistica",
         "Anormale",
         "0",
         "1.94606960245394"
        ],
        [
         "1",
         "41",
         "Parossistica",
         "Normale",
         "0",
         "2.15764610042418"
        ],
        [
         "2",
         "42",
         "Parossistica",
         "Normale",
         "0",
         "1.42225914474852"
        ],
        [
         "3",
         "43",
         "Persistente",
         "Anormale",
         "0",
         "1.3505024173587"
        ],
        [
         "4",
         "45",
         "Persistente",
         "Anormale",
         "0",
         "1.6685877321564"
        ],
        [
         "5",
         "46",
         "Parossistica",
         "Normale",
         "0",
         "2.03953298001425"
        ],
        [
         "6",
         "47",
         "Persistente",
         "Anormale",
         "0",
         "1.71569798735216"
        ],
        [
         "7",
         "48",
         "Persistente",
         "Normale",
         "0",
         "1.50175144707152"
        ],
        [
         "8",
         "49",
         "Persistente",
         "Normale",
         "0",
         "1.73021789148459"
        ],
        [
         "9",
         "50",
         "Parossistica",
         "Normale",
         "0",
         "1.6656469462325"
        ],
        [
         "10",
         "51",
         "Persistente",
         "Normale",
         "0",
         "1.7923320715767"
        ],
        [
         "11",
         "52",
         "Persistente",
         "Normale",
         "0",
         "1.49998831293606"
        ],
        [
         "12",
         "53",
         "Persistente",
         "Normale",
         "0",
         "1.68214299480373"
        ],
        [
         "13",
         "55",
         "Persistente",
         "Anormale",
         "0",
         "1.43283609852172"
        ],
        [
         "14",
         "56",
         "Parossistica",
         "Normale",
         "0",
         "2.44593878365906"
        ],
        [
         "15",
         "57",
         "Parossistica",
         "Normale",
         "0",
         "2.44593878365906"
        ],
        [
         "16",
         "58",
         "Parossistica",
         "Normale",
         "0",
         "1.30001990701356"
        ],
        [
         "17",
         "59",
         "Persistente",
         "Anormale",
         "0",
         "1.30001990701356"
        ],
        [
         "18",
         "60",
         "Parossistica",
         "Normale",
         "0",
         "1.30001990701356"
        ],
        [
         "19",
         "61",
         "Persistente",
         "Anormale",
         "0",
         "2.09320093921489"
        ],
        [
         "20",
         "62",
         "Persistente",
         "Normale",
         "0",
         "1.54335482641509"
        ],
        [
         "21",
         "63",
         "Parossistica",
         "Anormale",
         "0",
         "2.14072799332593"
        ],
        [
         "22",
         "64",
         "Parossistica",
         "Normale",
         "0",
         "2.2844887938811"
        ],
        [
         "23",
         "65",
         "Parossistica",
         "Normale",
         "0",
         "2.16320456659761"
        ],
        [
         "24",
         "66",
         "Persistente",
         "Anormale",
         "0",
         "1.40439503792649"
        ],
        [
         "25",
         "68",
         "Parossistica",
         "Normale",
         "0",
         "2.00862328237578"
        ],
        [
         "26",
         "70",
         "Parossistica",
         "Anormale",
         "0",
         "1.55378582994778"
        ],
        [
         "27",
         "71",
         "Parossistica",
         "Anormale",
         "0",
         "2.25602649480537"
        ],
        [
         "28",
         "72",
         "Persistente",
         "Anormale",
         "0",
         "1.74821105926732"
        ],
        [
         "29",
         "73",
         "Parossistica",
         "Normale",
         "0",
         "2.06143047186057"
        ],
        [
         "30",
         "74",
         "Parossistica",
         "Normale",
         "0",
         "2.10193193833809"
        ],
        [
         "31",
         "75",
         "Parossistica",
         "Anormale",
         "0",
         "1.60989989029481"
        ],
        [
         "32",
         "76",
         "Persistente",
         "Anormale",
         "0",
         "1.10980134817647"
        ],
        [
         "33",
         "77",
         "Persistente",
         "Anormale",
         "0",
         "1.55425724962783"
        ],
        [
         "34",
         "78",
         "Persistente",
         "Anormale",
         "0",
         "1.3883603720398"
        ],
        [
         "35",
         "79",
         "Parossistica",
         "Normale",
         "0",
         "1.87588790987284"
        ],
        [
         "36",
         "80",
         "Parossistica",
         "Normale",
         "0",
         "2.64515015003567"
        ],
        [
         "37",
         "81",
         "Persistente",
         "Anormale",
         "0",
         "1.74756051754789"
        ],
        [
         "38",
         "82",
         "Parossistica",
         "Normale",
         "0",
         "1.73710828825935"
        ],
        [
         "39",
         "83",
         "Parossistica",
         "Normale",
         "0",
         "2.16478822348254"
        ],
        [
         "40",
         "84",
         "Parossistica",
         "Normale",
         "0",
         "2.21039594828759"
        ],
        [
         "41",
         "85",
         "Parossistica",
         "Anormale",
         "0",
         "2.36536251886279"
        ],
        [
         "42",
         "86",
         "Persistente",
         "Normale",
         "0",
         "1.75534680829772"
        ],
        [
         "43",
         "87",
         "Parossistica",
         "Normale",
         "0",
         "1.92388438291903"
        ],
        [
         "44",
         "88",
         "Parossistica",
         "Normale",
         "0",
         "1.48626384003481"
        ],
        [
         "45",
         "89",
         "Parossistica",
         "Normale",
         "0",
         "2.26882598405553"
        ],
        [
         "46",
         "90",
         "Parossistica",
         "Normale",
         "0",
         "1.84619856918129"
        ],
        [
         "47",
         "91",
         "Parossistica",
         "Anormale",
         "0",
         "1.63087667992532"
        ],
        [
         "48",
         "92",
         "Parossistica",
         "Normale",
         "0",
         "2.09169236315841"
        ],
        [
         "49",
         "93",
         "Persistente",
         "Normale",
         "0",
         "1.97898750472014"
        ]
       ],
       "shape": {
        "columns": 5,
        "rows": 91
       }
      },
      "text/html": [
       "<div>\n",
       "<style scoped>\n",
       "    .dataframe tbody tr th:only-of-type {\n",
       "        vertical-align: middle;\n",
       "    }\n",
       "\n",
       "    .dataframe tbody tr th {\n",
       "        vertical-align: top;\n",
       "    }\n",
       "\n",
       "    .dataframe thead th {\n",
       "        text-align: right;\n",
       "    }\n",
       "</style>\n",
       "<table border=\"1\" class=\"dataframe\">\n",
       "  <thead>\n",
       "    <tr style=\"text-align: right;\">\n",
       "      <th></th>\n",
       "      <th>Patient ID</th>\n",
       "      <th>Phenotype</th>\n",
       "      <th>Substrate</th>\n",
       "      <th>Entropy</th>\n",
       "      <th>LASE</th>\n",
       "    </tr>\n",
       "  </thead>\n",
       "  <tbody>\n",
       "    <tr>\n",
       "      <th>0</th>\n",
       "      <td>40</td>\n",
       "      <td>Parossistica</td>\n",
       "      <td>Anormale</td>\n",
       "      <td>0</td>\n",
       "      <td>1.946070</td>\n",
       "    </tr>\n",
       "    <tr>\n",
       "      <th>1</th>\n",
       "      <td>41</td>\n",
       "      <td>Parossistica</td>\n",
       "      <td>Normale</td>\n",
       "      <td>0</td>\n",
       "      <td>2.157646</td>\n",
       "    </tr>\n",
       "    <tr>\n",
       "      <th>2</th>\n",
       "      <td>42</td>\n",
       "      <td>Parossistica</td>\n",
       "      <td>Normale</td>\n",
       "      <td>0</td>\n",
       "      <td>1.422259</td>\n",
       "    </tr>\n",
       "    <tr>\n",
       "      <th>3</th>\n",
       "      <td>43</td>\n",
       "      <td>Persistente</td>\n",
       "      <td>Anormale</td>\n",
       "      <td>0</td>\n",
       "      <td>1.350502</td>\n",
       "    </tr>\n",
       "    <tr>\n",
       "      <th>4</th>\n",
       "      <td>45</td>\n",
       "      <td>Persistente</td>\n",
       "      <td>Anormale</td>\n",
       "      <td>0</td>\n",
       "      <td>1.668588</td>\n",
       "    </tr>\n",
       "    <tr>\n",
       "      <th>...</th>\n",
       "      <td>...</td>\n",
       "      <td>...</td>\n",
       "      <td>...</td>\n",
       "      <td>...</td>\n",
       "      <td>...</td>\n",
       "    </tr>\n",
       "    <tr>\n",
       "      <th>86</th>\n",
       "      <td>147</td>\n",
       "      <td>Parossistica</td>\n",
       "      <td>Normale</td>\n",
       "      <td>0</td>\n",
       "      <td>1.942938</td>\n",
       "    </tr>\n",
       "    <tr>\n",
       "      <th>87</th>\n",
       "      <td>148</td>\n",
       "      <td>Parossistica</td>\n",
       "      <td>Normale</td>\n",
       "      <td>0</td>\n",
       "      <td>1.842904</td>\n",
       "    </tr>\n",
       "    <tr>\n",
       "      <th>88</th>\n",
       "      <td>149</td>\n",
       "      <td>Parossistica</td>\n",
       "      <td>Normale</td>\n",
       "      <td>0</td>\n",
       "      <td>1.300020</td>\n",
       "    </tr>\n",
       "    <tr>\n",
       "      <th>89</th>\n",
       "      <td>150</td>\n",
       "      <td>Parossistica</td>\n",
       "      <td>Normale</td>\n",
       "      <td>0</td>\n",
       "      <td>2.294072</td>\n",
       "    </tr>\n",
       "    <tr>\n",
       "      <th>90</th>\n",
       "      <td>151</td>\n",
       "      <td>Parossistica</td>\n",
       "      <td>Normale</td>\n",
       "      <td>0</td>\n",
       "      <td>2.243213</td>\n",
       "    </tr>\n",
       "  </tbody>\n",
       "</table>\n",
       "<p>91 rows × 5 columns</p>\n",
       "</div>"
      ],
      "text/plain": [
       "    Patient ID     Phenotype Substrate  Entropy      LASE\n",
       "0           40  Parossistica  Anormale        0  1.946070\n",
       "1           41  Parossistica   Normale        0  2.157646\n",
       "2           42  Parossistica   Normale        0  1.422259\n",
       "3           43   Persistente  Anormale        0  1.350502\n",
       "4           45   Persistente  Anormale        0  1.668588\n",
       "..         ...           ...       ...      ...       ...\n",
       "86         147  Parossistica   Normale        0  1.942938\n",
       "87         148  Parossistica   Normale        0  1.842904\n",
       "88         149  Parossistica   Normale        0  1.300020\n",
       "89         150  Parossistica   Normale        0  2.294072\n",
       "90         151  Parossistica   Normale        0  2.243213\n",
       "\n",
       "[91 rows x 5 columns]"
      ]
     },
     "execution_count": 18,
     "metadata": {},
     "output_type": "execute_result"
    }
   ],
   "source": [
    "# Join the two dataframes on the \"ID\" column\n",
    "merged_df = pd.merge(\n",
    "    ods.loc[:, [\"Patient ID\", \"Phenotype\", \"Substrate\"]],\n",
    "    csv,\n",
    "    on=\"Patient ID\",\n",
    "    how=\"inner\",\n",
    ")\n",
    "\n",
    "phenotype_mapping = {\n",
    "    \"Long standing persistent\": \"Persistente\",\n",
    "    \"Persistente\": \"Persistente\",\n",
    "    \"Parossistica\": \"Parossistica\",\n",
    "    \"Parossistico\": \"Parossistica\",\n",
    "}\n",
    "\n",
    "substrate_mapping = {\n",
    "    \"Normale\": \"Normale\",\n",
    "    \"Abnormal\": \"Anormale\",\n",
    "    \"Patologia\": \"Anormale\",\n",
    "    \"Patologia \": \"Anormale\",\n",
    "    \"Patologia altri distretti\": \"Anormale\",\n",
    "    \"Patologia parete posteriore\": \"Anormale\",\n",
    "    \"Patologia parete posteriore e anteriore\": \"Anormale\",\n",
    "    \"Patologia posteriore + altri\": \"Anormale\",\n",
    "    \"Patologia posteriore e+ altri\": \"Anormale\",\n",
    "}\n",
    "\n",
    "merged_df[\"Phenotype\"] = merged_df[\"Phenotype\"].map(phenotype_mapping)\n",
    "merged_df[\"Substrate\"] = merged_df[\"Substrate\"].map(substrate_mapping)\n",
    "\n",
    "merged_df"
   ]
  },
  {
   "cell_type": "code",
   "execution_count": 9,
   "id": "2137bb44",
   "metadata": {},
   "outputs": [
    {
     "data": {
      "image/png": "[encoded data removed]",
      "text/plain": [
       "<Figure size 1000x600 with 1 Axes>"
      ]
     },
     "metadata": {},
     "output_type": "display_data"
    }
   ],
   "source": [
    "import matplotlib.pyplot as plt\n",
    "\n",
    "plt.figure(figsize=(10, 6))\n",
    "plt.boxplot(\n",
    "    [\n",
    "        merged_df[merged_df[\"Phenotype\"] == \"Parossistica\"][\"LASE\"],\n",
    "        merged_df[merged_df[\"Phenotype\"] == \"Persistente\"][\"LASE\"],\n",
    "    ],\n",
    "    tick_labels=[\"Paroxysmal\", \"Persistent\"],\n",
    ")\n",
    "plt.title(\"Boxplot of LASE by Phenotype\")\n",
    "plt.ylabel(\"LASE\")\n",
    "plt.xlabel(\"Phenotype\")\n",
    "plt.grid()\n",
    "plt.show()"
   ]
  },
  {
   "cell_type": "code",
   "execution_count": 20,
   "id": "ee95cf28",
   "metadata": {},
   "outputs": [
    {
     "data": {
      "image/png": "[encoded data removed]",
      "text/plain": [
       "<Figure size 1000x600 with 1 Axes>"
      ]
     },
     "metadata": {},
     "output_type": "display_data"
    }
   ],
   "source": [
    "import matplotlib.pyplot as plt\n",
    "\n",
    "plt.figure(figsize=(10, 6))\n",
    "plt.boxplot(\n",
    "    [\n",
    "        merged_df[merged_df[\"Substrate\"] == \"Anormale\"][\"LASE\"],\n",
    "        merged_df[merged_df[\"Substrate\"] == \"Normale\"][\"LASE\"],\n",
    "    ],\n",
    "    tick_labels=[\"Abnormal\", \"Normal\"],\n",
    ")\n",
    "plt.title(\"Boxplot of LASE by Phenotype\")\n",
    "plt.ylabel(\"LASE\")\n",
    "plt.xlabel(\"Substrate\")\n",
    "plt.grid()\n",
    "plt.show()"
   ]
  }
 ],
 "metadata": {
  "kernelspec": {
   "display_name": "base",
   "language": "python",
   "name": "python3"
  },
  "language_info": {
   "codemirror_mode": {
    "name": "ipython",
    "version": 3
   },
   "file_extension": ".py",
   "mimetype": "text/x-python",
   "name": "python",
   "nbconvert_exporter": "python",
   "pygments_lexer": "ipython3",
   "version": "3.10.13"
  }
 },
 "nbformat": 4,
 "nbformat_minor": 5
}
